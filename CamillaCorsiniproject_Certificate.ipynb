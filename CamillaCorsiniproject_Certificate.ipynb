{
 "nbformat": 4,
 "nbformat_minor": 0,
 "metadata": {
  "colab": {
   "provenance": []
  },
  "kernelspec": {
   "name": "python3",
   "display_name": "Python 3"
  },
  "language_info": {
   "name": "python"
  }
 },
 "cells": [
  {
   "cell_type": "markdown",
   "source": [
    "**PROJECT** :\n",
    "\n",
    "approximate the price and the error of = **PROTECT MULTI-FIXED COUPON EXPRESS CERTIFICATE** using **Monte Carlo method** and choose a choerent alghoritm for the generation of random numbers  "
   ],
   "metadata": {
    "id": "WtuYyI_JREZ9",
    "pycharm": {
     "name": "#%% md\n"
    }
   }
  },
  {
   "cell_type": "markdown",
   "source": [
    "**Assumptions**"
   ],
   "metadata": {
    "id": "0n9reF3hR8JI",
    "pycharm": {
     "name": "#%% md\n"
    }
   }
  },
  {
   "cell_type": "markdown",
   "source": [
    "Following the instructions relative to the functioning of the Certificate I decided to use the following =\n",
    "\n",
    "1) **numpy algorithm** to generate random numbers\n",
    "\n",
    " 2) **Heston model** to model the *four underlyings* with  *stochastic volatilites* and the relative **Euler scheme** to approximate their processes\n",
    "\n",
    "3) **Vasiceck model** to model the *stochastic interest rate*\n",
    "\n",
    "4) **Antithetic Variate** method for *Variance reduction*\n",
    "\n",
    "in the subsequent I will expose my results with the relative codes , the functioning of the Model used and their theoretical justifications."
   ],
   "metadata": {
    "id": "EYVP8VhNRwiN",
    "pycharm": {
     "name": "#%% md\n"
    }
   }
  },
  {
   "cell_type": "markdown",
   "source": [
    "    _________ INTRODUCTION _______"
   ],
   "metadata": {
    "id": "bFxT7X_JZch7",
    "pycharm": {
     "name": "#%% md\n"
    }
   }
  },
  {
   "cell_type": "markdown",
   "source": [
    "\n",
    "Certificates are generally complex derivative instruments whose structure is a  composition of other derivatives like options.\n",
    "Compute their prices could be difficult mainly because of the fact that we don't have a closed form solution to develope like other simpler instruments.\n",
    "It is possible to compute the price by pricing the replicating portfolio of derivatives composing their structure or by approximating its payoff composition using numerical methods."
   ],
   "metadata": {
    "id": "sntBrNBdeAhi",
    "pycharm": {
     "name": "#%% md\n"
    }
   }
  },
  {
   "cell_type": "markdown",
   "source": [
    "\n",
    "\n",
    "If we decide to follow the second alternative, one of the most efficient way to approximate its price is by using **Monte Carlo method**.\n",
    "\n",
    "MC is a numerical and probabilistic technique consisting in a alghoritm that performs repeated independent random samples to compute theoretical results when is not possible to rely on closed form solutions.\n",
    "\n",
    "MC final output is the *estimate of an expectation value* through an arithmetic mean of realizations of iid random variables.\n",
    "\n",
    "\n",
    "\n",
    "\n",
    "The core of the alghoritm is\n",
    "\n",
    "1) Z random variable with known distribution.\n",
    "The estimation we need to compute depend on Z\n",
    "\n",
    "2) choose a pseudo-random number generator that provides realizations Z(i) of Z1,Z2... distributed as Z\n",
    "\n",
    "3) the expecation is approximated in this way\n",
    "$$\n",
    "{E[f(Z_i)]} \\approx \\frac{1}{N} \\sum_{i=1}^{N} f(Z_i)\n",
    "$$\n",
    "\n",
    "( which is unbiased and strongly consistend )\n",
    "\n",
    "under the hypothesis of Zi is an infinite sequence of iid random variables with finite Expected values , by The Law of large numbers the sampe average converges to the Expected values.\n",
    "\n",
    "with sample variance:\n",
    "$$\n",
    "\\sigma^2 = \\frac{1}{N-1} \\sum_{i=1}^{N} (Z_i - \\bar{Z})^2\\\\\n",
    "$$\n",
    " and standard error:\n",
    " $$\n",
    " \\sigma = \\frac{\\sigma}{\\sqrt{N}}\\\n",
    " $$\n",
    "\n",
    " which is a central feature in  MC alg. Why ?\n",
    "\n",
    " The MC error is given by:\n",
    " $$\n",
    " \\texttt{montecarlo_error} = \\sqrt{\\frac{\\texttt{variance}}{N}}\n",
    " $$\n",
    "\n",
    "and we can reduce it in 2 ways =\n",
    "1)  increasing the length of our sample\n",
    "\n",
    "2) reducing the variance (among the mothods we studied: control variates / antithetic variates)"
   ],
   "metadata": {
    "id": "PY2wZCu8TuXa",
    "pycharm": {
     "name": "#%% md\n"
    }
   }
  },
  {
   "cell_type": "code",
   "execution_count": 1,
   "metadata": {
    "id": "TwCIiBw1qyvQ",
    "pycharm": {
     "name": "#%%\n"
    }
   },
   "outputs": [],
   "source": [
    "import math\n",
    "import numpy as np\n",
    "import random\n",
    "import matplotlib.pyplot as plt"
   ]
  },
  {
   "cell_type": "markdown",
   "source": [
    "in the following we have an idea of MC simulations for stock prices."
   ],
   "metadata": {
    "id": "aESw4LddQT1P",
    "pycharm": {
     "name": "#%% md\n"
    }
   }
  },
  {
   "cell_type": "code",
   "source": [
    "def monte_carlo_stock_price(S0, mu, sigma, T, N, seed):\n",
    "    np.random.seed(seed)\n",
    "    dt = T / N\n",
    "    t = np.linspace(0, T, N)\n",
    "    dW = np.random.normal(0, np.sqrt(dt), size=(N, 4))\n",
    "    W = np.cumsum(dW, axis=0)\n",
    "    drift = (mu - 0.5 * sigma**2) * t[:, np.newaxis]\n",
    "    diffusion = sigma * W\n",
    "    S = S0 * np.exp(drift + diffusion)\n",
    "    return t, S\n",
    "\n",
    "# Parameters\n",
    "S0 = np.array([3.668, 2.275, 8.956, 16.286])  # Initial stock prices\n",
    "mu = np.array([0.05, 0.03, 0.02, 0.04])  # Drifts (expected returns)\n",
    "sigma = np.array([0.4, 0.3, 0.14, 0.4])  # Volatilities (standard deviations of returns)\n",
    "T = 1  # Time period (years)\n",
    "N = 252  # Number of time steps (daily data for one year)\n",
    "seed = 123  # Random seed\n",
    "\n",
    "# Generate stock price simulations\n",
    "t, S = monte_carlo_stock_price(S0, mu, sigma, T, N, seed)\n",
    "\n",
    "# Plot stock price simulations\n",
    "plt.figure(figsize=(10, 6))\n",
    "for i in range(4):\n",
    "    plt.plot(t, S[:, i], label=f'Underlying {i+1}')\n",
    "\n",
    "plt.xlabel('Time')\n",
    "plt.ylabel('Stock Price')\n",
    "plt.title('Monte Carlo Simulation of Stock Price')\n",
    "plt.legend()\n",
    "plt.grid(True)\n",
    "plt.show()\n"
   ],
   "metadata": {
    "colab": {
     "base_uri": "https://localhost:8080/",
     "height": 564
    },
    "id": "FQxFVLfUQPdr",
    "outputId": "06e02acc-4193-4364-d737-9215a6e93d96",
    "pycharm": {
     "name": "#%%\n"
    }
   },
   "execution_count": 44,
   "outputs": [
    {
     "output_type": "display_data",
     "data": {
      "text/plain": [
       "<Figure size 1000x600 with 1 Axes>"
      ],
      "image/png": "[encoded data removed]"
     },
     "metadata": {}
    }
   ]
  },
  {
   "cell_type": "markdown",
   "source": [
    "**RANDOM NUMBER GENERATOR**\n",
    "\n",
    "LINEAR CONGRUENTIAL GENERATOR VS NP.RANDOM"
   ],
   "metadata": {
    "id": "U_sg3c26QMxK",
    "pycharm": {
     "name": "#%% md\n"
    }
   }
  },
  {
   "cell_type": "markdown",
   "source": [
    "LCG and BOX MULLER\n",
    "\n"
   ],
   "metadata": {
    "id": "pRhgpCJdTmZj",
    "pycharm": {
     "name": "#%% md\n"
    }
   }
  },
  {
   "cell_type": "markdown",
   "source": [
    "in the following code I reproduced two fundamental algorithm studied in class:\n",
    "- the *LCG* for the production of random numbers\n",
    "- *Box Muller* method used for sampling standard normal distributions both in uivariate and bivariate cases.\n"
   ],
   "metadata": {
    "id": "syHcgyFpeUNS",
    "pycharm": {
     "name": "#%% md\n"
    }
   }
  },
  {
   "cell_type": "code",
   "source": [
    "def LCG(x):\n",
    "    IA = 16807\n",
    "    IM = 2147483647\n",
    "    IQ = 127773\n",
    "    IR = 2836\n",
    "    AM = 1.0 / IM\n",
    "    # The next instruction performs integer division (discarding the remainder)\n",
    "    k = x // IQ\n",
    "    x = IA * (x - k * IQ) - IR * k\n",
    "    if x < 0:\n",
    "        x = x + IM\n",
    "    return AM * x\n",
    "\n",
    "\n",
    "# Box-Muller transformation.\n",
    "def BM(u1, u2):\n",
    "    Pi = 3.14159265358979\n",
    "    R = math.sqrt(-2 * math.log(u1))\n",
    "    alpha = 2 * Pi * u2\n",
    "    n1 = R * math.cos(alpha)\n",
    "    n2 = R * math.sin(alpha)\n",
    "    return n1, n2\n",
    "\n",
    "\n",
    "def biN(x):\n",
    "    u1 = LCG(x)\n",
    "    u2 = LCG(x)\n",
    "    return BM(u1, u2)\n",
    "\n",
    "\n",
    "def uniN(x):\n",
    "    n1, n2 = biN(x)\n",
    "    if hasattr(uniN, 'hasStored') and uniN.hasStored is True:\n",
    "        uniN.hasStored = False\n",
    "        return uniN.stored\n",
    "    else:\n",
    "        uniN.stored = n2\n",
    "        uniN.hasStored = True\n",
    "        return n1"
   ],
   "metadata": {
    "id": "WtdysGlBQIkj",
    "pycharm": {
     "name": "#%%\n"
    }
   },
   "execution_count": null,
   "outputs": []
  },
  {
   "cell_type": "code",
   "source": [
    "seed1 = 546"
   ],
   "metadata": {
    "id": "ypx1IrMPg36A",
    "pycharm": {
     "name": "#%%\n"
    }
   },
   "execution_count": null,
   "outputs": []
  },
  {
   "cell_type": "code",
   "source": [
    "num_values = 9  # Numero di valori da generare\n",
    "values = []  # Lista dei valori generati\n",
    "\n",
    "x = seed1\n",
    "\n",
    "#Genera i valori utilizzando l'algoritmo LCG\n",
    "for _ in range(num_values):\n",
    "    value = uniN(x)\n",
    "    values.append(value)\n",
    "    x = LCG(x)\n",
    "\n",
    "print(values)"
   ],
   "metadata": {
    "colab": {
     "base_uri": "https://localhost:8080/"
    },
    "id": "jWP7dAlxQbEH",
    "outputId": "d85e7028-f48b-4038-83db-edc5c91b1f03",
    "pycharm": {
     "name": "#%%\n"
    }
   },
   "execution_count": null,
   "outputs": [
    {
     "output_type": "stream",
     "name": "stdout",
     "text": [
      "[5.3319318142922475e-42, 5.8674363613909755, 1.232938937728149e-06, 9.025456047283084, 1.1616706192993769e-16, 11.335382846110805, 8.936566922214105e-27, 13.248507526297724, 6.397674574270196e-37]\n"
     ]
    }
   ]
  },
  {
   "cell_type": "markdown",
   "source": [
    "Despite its desiderable property I decided to not use it.\n",
    "It is observable by the values produced that the output are not so much accurate when the LGG is  implemented in Python, rather then in other programming lenguages.\n"
   ],
   "metadata": {
    "id": "KYVe5DBgfsdY",
    "pycharm": {
     "name": "#%% md\n"
    }
   }
  },
  {
   "cell_type": "markdown",
   "source": [
    "**Numpy**"
   ],
   "metadata": {
    "id": "kUxUju77iKR4",
    "pycharm": {
     "name": "#%% md\n"
    }
   }
  },
  {
   "cell_type": "markdown",
   "source": [
    "In order to improve the quality of the random numbers to generate is preferable to  use *numpy.random.seed* and *numpy.random.normal()* from *np.random*, a module in the NumPy package that provides functions for generating random numbers.\n",
    "\n",
    "It is a better choice because of different reasons, the most relevant in this context is  the **quality of random numbers**:\n",
    "\n",
    "  Numpy uses  more sophisticated algorithms to generate random numbers, such as the:\n",
    "  \n",
    "   **MERSENNE TWISTER ALGHORITM**.\n",
    "   \n",
    "   MT  is a linear congruential pseudorandom number generator algorithm,which has a longer period and better statistical properties than other used algs such ash LCG.\n",
    "   It provides a high-quality  and more accurate set of pseudo random numbers\n"
   ],
   "metadata": {
    "id": "6uTEymIriYwr",
    "pycharm": {
     "name": "#%% md\n"
    }
   }
  },
  {
   "cell_type": "markdown",
   "source": [
    "*Alghoritm*"
   ],
   "metadata": {
    "id": "m-lmzVB8kYay",
    "pycharm": {
     "name": "#%% md\n"
    }
   }
  },
  {
   "cell_type": "code",
   "source": [
    "n = 624\n",
    "m = 397\n",
    "a = 0x9908B0DF\n",
    "u, d = 11, 0xFFFFFFFF\n",
    "s, b = 7, 0x9D2C5680\n",
    "t, c = 15, 0xEFC60000\n",
    "l = 18\n",
    "r = 32 - l\n",
    "f = 1812433253\n",
    "w = 32\n",
    "\n",
    "MT = [0] * n\n",
    "index = n + 1\n",
    "lower_mask = (1 << r) - 1\n",
    "upper_mask = ~lower_mask & 0xFFFFFFFF\n",
    "\n",
    "# Initialize the generator from a seed\n",
    "def seed_mt(seed):\n",
    "    global index\n",
    "    index = n\n",
    "    MT[0] = seed & 0xFFFFFFFF\n",
    "    for i in range(1, n):\n",
    "        MT[i] = (f * (MT[i-1] ^ (MT[i-1] >> (w-2))) + i) & 0xFFFFFFFF\n",
    "\n",
    "# Extract a tempered value based on MT[index]\n",
    "# calling twist() every n numbers\n",
    "def extract_number():\n",
    "    global index\n",
    "    if index >= n:\n",
    "        if index > n:\n",
    "            raise ValueError(\"Generator was never seeded\")\n",
    "        twist()\n",
    "\n",
    "    y = MT[index]\n",
    "    y ^= (y >> u) & d\n",
    "    y ^= (y << s) & b\n",
    "    y ^= (y << t) & c\n",
    "    y ^= y >> l\n",
    "\n",
    "    index += 1\n",
    "    return y & 0xFFFFFFFF\n",
    "\n",
    "# Generate the next n values from the series x_i\n",
    "def twist():\n",
    "    global index\n",
    "    for i in range(n):\n",
    "        x = (MT[i] & upper_mask) | (MT[(i+1) % n] & lower_mask)\n",
    "        xA = x >> 1\n",
    "        if x % 2 != 0:\n",
    "            xA ^= a\n",
    "        MT[i] = MT[(i + m) % n] ^ xA\n",
    "    index = 0\n",
    "\n",
    "# Generate a random number from a standard normal distribution\n",
    "def standard_normal():\n",
    "    u1 = extract_number() / 0xFFFFFFFF\n",
    "    u2 = extract_number() / 0xFFFFFFFF\n",
    "    z = math.sqrt(-2 * math.log(u1)) * math.cos(2 * math.pi * u2)\n",
    "    return z\n",
    "\n",
    "# Test the generator\n",
    "seed_mt(12346)\n",
    "random_numbers = [standard_normal() for _ in range(10)]\n",
    "print(random_numbers)\n"
   ],
   "metadata": {
    "colab": {
     "base_uri": "https://localhost:8080/"
    },
    "id": "RCAOEhPJavuO",
    "outputId": "8cb2a159-dffc-4ce9-8601-b8da43da268b",
    "pycharm": {
     "name": "#%%\n"
    }
   },
   "execution_count": 30,
   "outputs": [
    {
     "output_type": "stream",
     "name": "stdout",
     "text": [
      "[0.34760107368323234, 1.293804777332757, 0.3823226530609118, 0.3481720088949471, 0.7509013900241621, 0.18519588132084447, -0.12494625454648192, -1.3738156880285264, 2.080857670319024, -1.028479840409269]\n"
     ]
    }
   ]
  },
  {
   "cell_type": "markdown",
   "source": [
    "it is evident that the generation of values is more accurate."
   ],
   "metadata": {
    "id": "QHJr6psEh_yO",
    "pycharm": {
     "name": "#%% md\n"
    }
   }
  },
  {
   "cell_type": "markdown",
   "source": [
    "*brief explanation*"
   ],
   "metadata": {
    "id": "Cl9qzqBEazhV",
    "pycharm": {
     "name": "#%% md\n"
    }
   }
  },
  {
   "cell_type": "markdown",
   "source": [
    "\n",
    "1) *Initialization*: The algorithm is set up with an initial seed value that determines the starting point of the random number sequence.\n",
    "\n",
    "2) *Random Number Generation*: The algorithm generates random numbers by performing mathematical operations on its internal state. These operations mix and modify the state to produce a sequence of random numbers.\n",
    "\n",
    "3) *Twist*: After generating a certain number of random numbers, the algorithm applies a \"twist\" operation to update its internal state. This ensures that the generated sequence remains unpredictable and doesn't repeat.\n",
    "\n",
    "4) *Temper*: Before returning a random number, the algorithm applies additional operations to adjust and improve the randomness of the number.\n",
    "\n",
    "5) *Standard Normal Distribution*: To obtain a standard normal random number, the algorithm uses pairs of random numbers it generates and applies a transformation using the Box-Muller transform. This transformation converts the pairs of random numbers into independent standard normally distributed random numbers."
   ],
   "metadata": {
    "id": "lQP_FoQPa2Il",
    "pycharm": {
     "name": "#%% md\n"
    }
   }
  },
  {
   "cell_type": "markdown",
   "source": [
    "**DATA**"
   ],
   "metadata": {
    "id": "apz-eruWG885",
    "pycharm": {
     "name": "#%% md\n"
    }
   }
  },
  {
   "cell_type": "markdown",
   "source": [
    "the *structure of the payoff* and the *explanations of its functioning* are contained in the certificate KIID-section.Objectives"
   ],
   "metadata": {
    "id": "HV-7XKMdik_Y",
    "pycharm": {
     "name": "#%% md\n"
    }
   }
  },
  {
   "cell_type": "code",
   "source": [
    "nominal = 100\n",
    "\n",
    "#underlyings\n",
    "IRP = [3.668, 2.275, 8.956, 16.286] #initial reference values\n",
    "redemption_levels = [3.668, 2.275, 8.956, 16.286]\n",
    "barriers = [2.384, 1.4788, 5.821, 10.586]\n",
    "barr = np.log(barriers)\n",
    "redempt = np.log(redemption_levels)\n",
    "K = np.log(IRP)\n",
    "\n",
    "V = [0.04,0.03,0.03,0.04]\n",
    "G = [np.log(strike) for strike in IRP]\n",
    "\n",
    "#short-rate\n",
    "r0 = 0.01  #initial short-rate\n",
    "kappa = 0.04 #mean reversion speed for short rate\n",
    "theta = 0.02 #long-term mean of short rante\n",
    "sigma = 0.02  # Volatility of short rate\n",
    "\n",
    "#volatility\n",
    "kappa_v = [1.5, 0.8, 1.2, 0.9] # Mean-reversion speeds\n",
    "theta_v = [0.04, 0.03, 0.05, 0.04]  # Long-term average volatilities\n",
    "Lambda = [0.05,0.04,0.04,0.05] #volatility of volatility\n",
    "\n",
    "#coupons\n",
    "coupon_payment = 1.84  # Coupon payment\n",
    "\n"
   ],
   "metadata": {
    "id": "yPRRuarCq44s",
    "pycharm": {
     "name": "#%%\n"
    }
   },
   "execution_count": 2,
   "outputs": []
  },
  {
   "cell_type": "code",
   "source": [
    "correlation_matrix = np.array([\n",
    "    [1.0, 0.3, 0.3, 0.3, -0.2, -0.2, -0.2, -0.2, 0.1],\n",
    "    [0.3, 1.0, 0.4, 0.4, -0.3, -0.3, -0.3, -0.3, 0.1],\n",
    "    [0.3, 0.4, 1.0, 0.5, -0.2, -0.2, -0.2, -0.2, 0.1],\n",
    "    [0.3, 0.4, 0.5, 1.0, -0.2, -0.2, -0.2, -0.2, 0.1],\n",
    "    [-0.2, -0.3, -0.2, -0.2, 1.0, 0.1, 0.1, 0.1, 0.2],\n",
    "    [-0.2, -0.3, -0.2, -0.2, 0.1, 1.0, 0.2, 0.2, 0.1],\n",
    "    [-0.2, -0.3, -0.2, -0.2, 0.1, 0.2, 1.0, 0.2, 0.1],\n",
    "    [-0.2, -0.3, -0.2, -0.2, 0.1, 0.2, 0.2, 1.0, 0.1],\n",
    "    [0.1, 0.1, 0.1, 0.1, 0.2, 0.1, 0.1, 0.1, 1.0]\n",
    "])\n",
    "\n",
    "L = np.linalg.cholesky(correlation_matrix)\n"
   ],
   "metadata": {
    "id": "SDBwKqFurWrB",
    "pycharm": {
     "name": "#%%\n"
    }
   },
   "execution_count": 3,
   "outputs": []
  },
  {
   "cell_type": "markdown",
   "source": [
    " to manage properly MULTIVARIATE NORMAL\n",
    " $$\n",
    "Z \\overset{}{\\sim} (\\mu, \\hat{\\Sigma})\n",
    "$$\n",
    "we can use the **Cholesky factoriazion** as seen in class.\n",
    "\n",
    "In particular I've choosen to use the one offered by np.linalg, a module in the NumPy package that provides functions and methods for linear algebra."
   ],
   "metadata": {
    "id": "IxyCPBbxeelJ",
    "pycharm": {
     "name": "#%% md\n"
    }
   }
  },
  {
   "cell_type": "markdown",
   "source": [
    "1)Input: The function takes a matrix as input. The matrix should be square, Hermitian, and positive-definite. Non-square matrices or matrices that do not meet these criteria will result in an error.\n",
    "\n",
    "2) Cholesky Decomposition: The function performs the Cholesky decomposition on the input matrix and returns a lower triangular matrix L.\n",
    "\n",
    "3) Lower Triangular Matrix: The lower triangular matrix L obtained from the Cholesky decomposition has the property that the conjugate transpose of L is equal to the original input matrix.\n",
    "\n",
    "4) The Cholesky decomposition is commonly used in numerical computations involving positive-definite matrices, such as generating samples from multivariate normal distributions."
   ],
   "metadata": {
    "id": "4FBbw1-QeecC",
    "pycharm": {
     "name": "#%% md\n"
    }
   }
  },
  {
   "cell_type": "markdown",
   "source": [
    "**PAYOFF FUNCTIONS**"
   ],
   "metadata": {
    "id": "DN6mc1ImeYRV",
    "pycharm": {
     "name": "#%% md\n"
    }
   }
  },
  {
   "cell_type": "markdown",
   "source": [
    "these are the payoff functions I created to facilitate the *discount* and *storage* of the payoff in indicated variables.\n",
    "\n",
    "1)The integral of r: has been approximated by the **trapezoidal rule**\n",
    "\n",
    "( T.R. i.e. numerical integration technique used to approximate the definite integral of a function. It works by approximating the area under the curve of the function as a series of trapezoids, then  calculates the integral by summing the areas, providing an approximation of the integral value.\n",
    "Its error is  O(h^2) and is influenced by the second derivative of the function. As the function becomes more curved or non-linear, the trapezoidal rule may have a larger error compared to other numerical integration methods that are more accurate for such functions, such as Simpson's rule. )\n",
    "\n",
    "then used in discount_factor and anti_disc_factor to discount the payoff.\n",
    "\n",
    "2) everything is stored in variables\n",
    "\n",
    "3)antithetic_fucntion and mean_disc_p = used for the antithetic version of the montecarlo simulation.\n"
   ],
   "metadata": {
    "id": "BiyyjZTbea_F",
    "pycharm": {
     "name": "#%% md\n"
    }
   }
  },
  {
   "cell_type": "code",
   "source": [
    "def calculate_payoff(payoff, coupon_payment, r, r0, sumr, dt, sum_discounted_payoffs):\n",
    "    integral_r = (0.5 * (r0 - r) + sumr) * dt\n",
    "    discounted_payoff = payoff * np.exp(-integral_r)\n",
    "    sum_discounted_payoffs = sum_discounted_payoffs + discounted_payoff\n",
    "    return sum_discounted_payoffs, discounted_payoff"
   ],
   "metadata": {
    "id": "5E6idlLFvIuY",
    "pycharm": {
     "name": "#%%\n"
    }
   },
   "execution_count": 4,
   "outputs": []
  },
  {
   "cell_type": "code",
   "source": [
    "def calculate_antithetic(payoff, coupon_payment,r,r0,antir,sum_antir, sum_discounted_payoffs,antisum_disc_payoffs,dt):\n",
    "    anti_integral = (0.5 * (r0-antir) + sum_antir) * dt\n",
    "    anti_disc_payoffs = payoff*np.exp(-anti_integral)\n",
    "    antisum_disc_payoffs = antisum_disc_payoffs + anti_disc_payoffs\n",
    "    return antisum_disc_payoffs,anti_disc_payoffs\n"
   ],
   "metadata": {
    "id": "hdfqDecSr86A",
    "pycharm": {
     "name": "#%%\n"
    }
   },
   "execution_count": 5,
   "outputs": []
  },
  {
   "cell_type": "code",
   "source": [
    "def calculate_mean_discounted_payoff(sum_discounted_payoffs, antisum_disc_payoffs):\n",
    "    mean_discounted_payoff = (sum_discounted_payoffs + antisum_disc_payoffs) / 2\n",
    "    return mean_discounted_payoff\n"
   ],
   "metadata": {
    "id": "yNYHb-YQ1JU5",
    "pycharm": {
     "name": "#%%\n"
    }
   },
   "execution_count": 6,
   "outputs": []
  },
  {
   "cell_type": "markdown",
   "source": [
    "**MC ALGHORITM**"
   ],
   "metadata": {
    "id": "c0q_J7xieOsj",
    "pycharm": {
     "name": "#%% md\n"
    }
   }
  },
  {
   "cell_type": "markdown",
   "source": [
    "the main alghoritm is enclosed in a function , taking as imputs all the relevant data showed before.\n",
    "\n",
    "**COMMENT OF RESULT AND MCE : AT THE END OF THE FILE**"
   ],
   "metadata": {
    "id": "vrp7ExJCeIDi",
    "pycharm": {
     "name": "#%% md\n"
    }
   }
  },
  {
   "cell_type": "markdown",
   "source": [
    "**MODELS**"
   ],
   "metadata": {
    "id": "ACK9EXHDeH-r",
    "pycharm": {
     "name": "#%% md\n"
    }
   }
  },
  {
   "cell_type": "markdown",
   "source": [
    "**HESTON MODEL**\n",
    "$$\n",
    " dS(t) = \\mu  S(t)  dt + \\sqrt{v(t)}  S(t)  dW1(t)\n",
    " \\\\\n",
    " dv(t) = \\kappa  (\\theta - v(t))  dt + \\xi  \\sqrt{v(t)}  dW2(t)\n",
    " \\\\\n",
    " $$\n",
    " $$\n",
    " \\\\\n",
    " v(t)\\ following\\ a\\ square-root\\ CIR\\ process\n",
    " \\\\\n",
    " $$\n",
    "\n",
    "$$\n",
    "dW1(t)\\ and\\ dW2(t)\\ are\\ Wiener\\ processes\\ (i.e.,\\ continuous\\ random\\ walks)\\ with\\ correlation\\ ρ\n",
    "$$\n"
   ],
   "metadata": {
    "id": "pk2TAsVveH6N",
    "pycharm": {
     "name": "#%% md\n"
    }
   }
  },
  {
   "cell_type": "markdown",
   "source": [
    " *why Heston model?*\n",
    " - I choose it  over the Black-Scholes because, by incorporating the stochastic volatility, it reflects better the real behaviour of financial assets , particularly because volatility often exhibits patterns such as skewness (asymmetry in implied volatilities) and clustering (periods of high or low volatility).\n",
    "This  allows for a more accurate representation of market conditions and improves the model's ability to price.\n",
    "\n",
    "- As we can see, the asset prices follow a geometric Brownian motion, similar to the Black-Scholes model. However, the volatility is modeled as a mean-reverting process with  a separate stochastic differential equation. This means that the volatility fluctuates around a long-term average value and tends to revert back to that average over time.\n"
   ],
   "metadata": {
    "id": "sLAAu3OceEUf",
    "pycharm": {
     "name": "#%% md\n"
    }
   }
  },
  {
   "cell_type": "markdown",
   "source": [
    "**VASICECK MODEL**\n",
    "\n",
    "\n",
    "The Vasicek model assumes that the short-term interest rate follows a mean-reverting process. It is defined by the following SDE:\n",
    "$$\n",
    "dr(t) = \\kappa(\\theta - r(t)) dt + \\sigma_r dW(t)\n",
    "\\\\\n",
    "$$\n",
    "$$\n",
    " r(t): short-term\\ interest\\ rate\\ in\\ t,\n",
    " \\\\κ: speed\\ of\\ mean\\ reversion,\n",
    " \\\\\n",
    " θ: long-term\\ mean,\n",
    " \\\\ σ: volatility\\ parameter,\n",
    " \\\\  dW(t):Wiener\\ process\\ increment.\n",
    " \\\\\n",
    " $$\n",
    "$$\n",
    "\\sigma_r \\sim \\mathcal{N}\n",
    "$$\n",
    "\n",
    "The model allows negative interest rates and exhibits mean reversion towards the long-term mean θ. It does not capture the volatility smile observed in market interest rates.\n"
   ],
   "metadata": {
    "id": "L0JAo_1Gt739",
    "pycharm": {
     "name": "#%% md\n"
    }
   }
  },
  {
   "cell_type": "markdown",
   "source": [
    "*why Vasiceck?*"
   ],
   "metadata": {
    "id": "-gLCsHS7wOXE",
    "pycharm": {
     "name": "#%% md\n"
    }
   }
  },
  {
   "cell_type": "markdown",
   "source": [
    "\n",
    "I decided to use it instead of CIR model to not further increase the variability of the price and of the error.\n",
    "\n",
    "*CIR model* introduces the square root process σ√(r(t)) to capture the volatility of interest rates, which leads to a *non-constant volatility* .\n",
    "(it captures the volatility smile on the market and prevents interest rates from becoming negative by using the square root process, showing a  non-linear relationship between the interest rate and volatility).\n",
    "$$\n",
    "dr(t) = \\kappa(\\theta - r(t)) dt + \\sigma\\sqrt{r(t)} dW(t)\n",
    "$$\n",
    "\n",
    "It would be a good candidate for our problem in MC, but considering that the choice of the correlations and other parameters , done in a non calibrated way, alterates results sufficiently, I decided to mantain the volatility of the interest rate contstant.\n",
    "\n",
    "For a proof = I  added the square root of the process in the stochastic part and observed an increase in the price and in dispersion indices, so I decided to left Vasiceck only."
   ],
   "metadata": {
    "id": "ayzaGFn-wKrG",
    "pycharm": {
     "name": "#%% md\n"
    }
   }
  },
  {
   "cell_type": "markdown",
   "source": [
    "**EULER SCHEME**"
   ],
   "metadata": {
    "id": "HMb3xVcUd9HM",
    "pycharm": {
     "name": "#%% md\n"
    }
   }
  },
  {
   "cell_type": "code",
   "source": [],
   "metadata": {
    "id": "ePAGq_tMQ5fd",
    "pycharm": {
     "name": "#%%\n"
    }
   },
   "execution_count": null,
   "outputs": []
  },
  {
   "cell_type": "markdown",
   "source": [
    "$$\n",
    "\\begin{align*}\n",
    "\\\\\n",
    "Heston\\ model \\\\\n",
    " Gi = stock values ; \\\\\n",
    "Vi = volatilities\n",
    "\\end{align*}\n",
    "\\\\\n",
    "$$\n",
    "$$\n",
    "\\begin{align*}\n",
    "G_i &= G_{i-1} \\ + (r - \\frac{1}{2}V_{i-1})\\Delta t + \\sqrt{V_{i-1}\\Delta t}\\epsilon_S\\ \\\\\n",
    "V_i &=  V_{i-1} \\ + \\kappa(\\theta - V_{i-1})\\Delta t + \\Lambda\\sqrt{V_{i-1}\\Delta t}\\epsilon_S\\\n",
    "\\end{align*}\n",
    "$$\n",
    "\n",
    "\\\\\n",
    "\n",
    "$$\n",
    "\\begin{align*}\n",
    "\\\\\n",
    " ri_1 = interest\\ rate\\ Vasiceck   \\\\\n",
    "\\end{align*}\n",
    "$$\n",
    "\n",
    "\n",
    "$$\n",
    "r_i = r_{i-1} + \\kappa (\\theta - r_{i-1}) \\Delta t + \\sigma \\sqrt{\\Delta t} \\epsilon_i\n",
    "$$\n",
    "\\\\\n",
    "$$\n",
    "\\begin{align*}\n",
    "\\\\\n",
    "ri_2 = interest \\ rate\\ CIR\n",
    "\\end{align*}\n",
    "\\\\\n",
    "$$\n",
    "\n",
    "\n",
    "$$\n",
    "r_i = r_{i-1} + \\kappa (\\theta - r_{i-1}) \\Delta t + \\sigma \\sqrt{r_{i-1}} \\sqrt{\\Delta t} \\epsilon_i\n",
    "$$\n"
   ],
   "metadata": {
    "id": "ChhbIWFzd3r3",
    "pycharm": {
     "name": "#%% md\n"
    }
   }
  },
  {
   "cell_type": "markdown",
   "source": [
    "The Euler scheme is a numerical method used to approximate the solutions of ordinary differential equations (ODEs). It  discretizes the continuous ODE into small time steps. At each time step, the value of the solution is updated based on the derivative of the ODE at that point.\n",
    "\n",
    "\n",
    "\n",
    "\n",
    "The Euler scheme is a first-order method, meaning that its accuracy is proportional to the size of the time step used."
   ],
   "metadata": {
    "id": "RpLt94HZygB2",
    "pycharm": {
     "name": "#%% md\n"
    }
   }
  },
  {
   "cell_type": "markdown",
   "source": [
    "10000 simulations"
   ],
   "metadata": {
    "id": "ssDNg9NPaKss",
    "pycharm": {
     "name": "#%% md\n"
    }
   }
  },
  {
   "cell_type": "code",
   "source": [
    "def monte_carlo(nominal, IRP, redemption_levels, barriers, V, kappa, theta, sigma, kappa_v, theta_v, Lambda, coupon_payment, r0, N, M, T, seed):\n",
    "    dt = 1 / M\n",
    "    sqrt_dt = np.sqrt(dt)\n",
    "    np.random.seed(seed)\n",
    "    mean = 0\n",
    "    tot_payoff = 0\n",
    "\n",
    "    for i in range(N):\n",
    "        G1 = np.log(IRP[0])\n",
    "        G2 = np.log(IRP[1])\n",
    "        G3 = np.log(IRP[2])\n",
    "        G4 = np.log(IRP[3])\n",
    "        V_1 = V[0]\n",
    "        V_2 = V[1]\n",
    "        V_3 = V[2]\n",
    "        V_4 = V[3]\n",
    "        r = r0\n",
    "        sumr = 0\n",
    "        sum_discounted_payoffs = 0\n",
    "        payoff = 0\n",
    "\n",
    "        epsilon_shape = (T, M, 9)\n",
    "        epsilon_values = np.random.normal(size=epsilon_shape)\n",
    "\n",
    "        for y in range(T):\n",
    "            for j in range(M):\n",
    "                epsilon0, epsilon1, epsilon2, epsilon3, epsilon4, epsilon5, epsilon6, epsilon7, epsilon8 = epsilon_values[y, j]\n",
    "\n",
    "                eta_1 = L[0, 0] * epsilon0\n",
    "                eta_2 = L[1, 0] * epsilon0 + L[1, 1] * epsilon1\n",
    "                eta_3 = L[2, 0] * epsilon0 + L[2, 1] * epsilon1 + L[2, 2] * epsilon2\n",
    "                eta_4 = L[3, 0] * epsilon0 + L[3, 1] * epsilon1 + L[3, 2] * epsilon2 + L[3, 3] * epsilon3\n",
    "                eta_v1 = L[4, 0] * epsilon0 + L[4, 1] * epsilon1 + L[4, 2] * epsilon2 + L[4, 3] * epsilon3 + L[4, 4] * epsilon4\n",
    "                eta_v2 = L[5, 0] * epsilon0 + L[5, 1] * epsilon1 + L[5, 2] * epsilon2 + L[5, 3] * epsilon3 + L[5, 4] * epsilon4 + L[5, 5] * epsilon5\n",
    "                eta_v3 = L[6, 0] * epsilon0 + L[6, 1] * epsilon1 + L[6, 2] * epsilon2 + L[6, 3] * epsilon3 + L[6, 4] * epsilon4 + L[6, 5] * epsilon5 + L[6, 6] * epsilon6\n",
    "                eta_v4 = L[7, 0] * epsilon0 + L[7, 1] * epsilon1 + L[7, 2] * epsilon2 + L[7, 3] * epsilon3 + L[7, 4] * epsilon4 + L[7, 5] * epsilon5 + L[7, 6] * epsilon6 + L[7, 7] * epsilon7\n",
    "                eta_r = L[8, 0] * epsilon0 + L[8, 1] * epsilon1 + L[8, 2] * epsilon2 + L[8, 3] * epsilon3 + L[8, 4] * epsilon4 + L[8, 5] * epsilon5 + L[8, 6] * epsilon6 + L[8, 7] * epsilon7 + L[8, 8] * epsilon8\n",
    "\n",
    "                V_1 = V_1 * kappa_v[0] * theta_v[0] * dt - (kappa_v[0] * dt) * V_1 * Lambda[0] * sqrt_dt * np.sqrt(V_1) * eta_v1\n",
    "                V_2 = V_2 * kappa_v[1] * theta_v[1] * dt - (kappa_v[1] * dt) * V_2 * Lambda[1] * sqrt_dt * np.sqrt(V_2) * eta_v2\n",
    "                V_3 = V_3 * kappa_v[2] * theta_v[2] * dt - (kappa_v[2] * dt) * V_3 * Lambda[2] * sqrt_dt * np.sqrt(V_3) * eta_v3\n",
    "                V_4 = V_4 * kappa_v[3] * theta_v[3] * dt - (kappa_v[3] * dt) * V_3 * Lambda[3] * sqrt_dt * np.sqrt(V_4) * eta_v4\n",
    "\n",
    "                if V_1 < 0 and V_2 < 0 and V_3 < 0 and V_4 < 0:\n",
    "                    V_1 = abs(V_1)\n",
    "                    V_2 = abs(V_2)\n",
    "                    V_3 = abs(V_3)\n",
    "                    V_4 = abs(V_4)\n",
    "\n",
    "                G1 = G1 + (r - V_1 / 2) * dt + np.sqrt(V_1) * sqrt_dt * eta_1\n",
    "                G2 = G2 + (r - V_2 / 2) * dt + np.sqrt(V_2) * sqrt_dt * eta_2\n",
    "                G3 = G3 + (r - V_3 / 2) * dt + np.sqrt(V_3) * sqrt_dt * eta_3\n",
    "                G4 = G4 + (r - V_4 / 2) * dt + np.sqrt(V_4) * sqrt_dt * eta_4\n",
    "\n",
    "                reference1 = G1\n",
    "                reference2 = G2\n",
    "                reference3 = G3\n",
    "                reference4 = G4\n",
    "\n",
    "                r = r + (kappa * theta * dt) - (kappa * dt * r) + sigma * sqrt_dt * eta_r  # Vasicek\n",
    "                sumr += r\n",
    "\n",
    "            if y == 1 or y == 2 or y == 3:\n",
    "                payoff = payoff + coupon_payment\n",
    "                sum_discounted_payoffs, discounted_payoff = calculate_payoff(payoff, coupon_payment, r, r0, sumr, dt, sum_discounted_payoffs)\n",
    "\n",
    "            if y == 4 or y == 5 or y == 6 or y == 7 or y == 8 or y == 9 or y == 10 or y == 11 or y == 12 or y == 13 or y == 14 or y == 15 or y == 16 or y == 17 or y == 18 or y == 19:\n",
    "                if reference1 >= redempt[0] and reference2 >= redempt[1] and reference3 >= redempt[2] and reference4 >= redempt[3]:\n",
    "                    payoff += 100\n",
    "                    sum_discounted_payoffs, discounted_payoff = calculate_payoff(payoff, coupon_payment, r, r0, sumr, dt,sum_discounted_payoffs)\n",
    "                    break\n",
    "            else:\n",
    "                payoff = payoff + coupon_payment\n",
    "                sum_discounted_payoffs, discounted_payoff = calculate_payoff(payoff, coupon_payment, r, r0, sumr, dt,sum_discounted_payoffs)\n",
    "\n",
    "            if y == 20:\n",
    "                if reference1 >= barr[0] and reference2 >= barr[1] and reference3 >= barr[2] and reference4 >= barr[3]:\n",
    "                    payoff += nominal + coupon_payment\n",
    "                    sum_discounted_payoffs, discounted_payoff = calculate_payoff(payoff, coupon_payment, r, r0, sumr, dt,sum_discounted_payoffs)\n",
    "\n",
    "                else:\n",
    "                    worst_performance = min(G1 / K[0], G2 / K[1], G3 / K[2], G4 / K[3])\n",
    "                    cash_amount = nominal * worst_performance\n",
    "                    payoff += coupon_payment + cash_amount\n",
    "                    sum_discounted_payoffs, discounted_payoff = calculate_payoff(payoff, coupon_payment, r, r0, sumr, dt,sum_discounted_payoffs)\n",
    "\n",
    "        tot_payoff = tot_payoff + sum_discounted_payoffs\n",
    "\n",
    "    mean = tot_payoff / N\n",
    "    variance = np.sum((discounted_payoff - mean) ** 2) / (N - 1)\n",
    "    st_error = np.sqrt(variance)\n",
    "    MC_Error = np.sqrt(variance / N)\n",
    "\n",
    "    return mean, variance, st_error, MC_Error\n",
    "\n",
    "# Test the function\n",
    "result = monte_carlo(nominal=100, IRP=[3.668, 2.275, 8.956, 16.286],\n",
    "                                redemption_levels=[3.668, 2.275, 8.956, 16.286], barriers=[2.384, 1.4788, 5.821, 10.586],\n",
    "                                V = [0.035,0.03,0.03,0.04], kappa=0.04, theta=0.02, sigma=0.02,\n",
    "                                kappa_v=[1.5, 0.8, 1.2, 0.9], theta_v=[0.04, 0.03, 0.05, 0.04],\n",
    "                                Lambda=[0.05, 0.04, 0.04, 0.05], coupon_payment=1.84,\n",
    "                                r0=0.01, N=10000, M=90, T=20, seed=656)\n",
    "\n",
    "# Print the results\n",
    "mean, variance, st_error, MC_Error = result\n",
    "print(\"Price: \", mean)\n",
    "print(\"Variance: \", variance)\n",
    "print(\"Standard Error: \", st_error)\n",
    "print(\"Monte Carlo Error: \", MC_Error)\n"
   ],
   "metadata": {
    "id": "j40skGE5n559",
    "colab": {
     "base_uri": "https://localhost:8080/"
    },
    "outputId": "f0a3a6c0-6d72-47f8-b2d3-8e511b8a7d20",
    "pycharm": {
     "name": "#%%\n"
    }
   },
   "execution_count": 10,
   "outputs": [
    {
     "output_type": "stream",
     "name": "stdout",
     "text": [
      "Price:  131.1168798985647\n",
      "Variance:  0.04907176745656401\n",
      "Standard Error:  0.221521483058786\n",
      "Monte Carlo Error:  0.00221521483058786\n"
     ]
    }
   ]
  },
  {
   "cell_type": "markdown",
   "source": [
    "1000 simulations"
   ],
   "metadata": {
    "id": "AwiPk9kraGBp",
    "pycharm": {
     "name": "#%% md\n"
    }
   }
  },
  {
   "cell_type": "code",
   "source": [
    "result = monte_carlo(nominal=100, IRP=[3.668, 2.275, 8.956, 16.286],\n",
    "                                redemption_levels=[3.668, 2.275, 8.956, 16.286], barriers=[2.384, 1.4788, 5.821, 10.586],\n",
    "                                V = [0.035,0.03,0.03,0.04], kappa=0.04, theta=0.02, sigma=0.02,\n",
    "                                kappa_v=[1.5, 0.8, 1.2, 0.9], theta_v=[0.04, 0.03, 0.05, 0.04],\n",
    "                                Lambda=[0.05, 0.04, 0.04, 0.05], coupon_payment=1.84,\n",
    "                                r0=0.01, N=1000, M=90, T=20, seed=656)\n",
    "\n",
    "# Print the results\n",
    "mean, variance, st_error, MC_Error = result\n",
    "print(\"Price: \", mean)\n",
    "print(\"Variance: \", variance)\n",
    "print(\"Standard Error: \", st_error)\n",
    "print(\"Monte Carlo Error: \", MC_Error)\n"
   ],
   "metadata": {
    "colab": {
     "base_uri": "https://localhost:8080/"
    },
    "id": "YH5MKXAGZzdw",
    "outputId": "d0c30a88-723e-470d-b475-0464c8112e13",
    "pycharm": {
     "name": "#%%\n"
    }
   },
   "execution_count": 12,
   "outputs": [
    {
     "output_type": "stream",
     "name": "stdout",
     "text": [
      "Price:  132.36690839116986\n",
      "Variance:  13.781604236747826\n",
      "Standard Error:  3.7123583120097425\n",
      "Monte Carlo Error:  0.11739507756608804\n"
     ]
    }
   ]
  },
  {
   "cell_type": "markdown",
   "source": [
    "100 simulations"
   ],
   "metadata": {
    "id": "vTwdTLUaaH4I",
    "pycharm": {
     "name": "#%% md\n"
    }
   }
  },
  {
   "cell_type": "code",
   "source": [
    "result = monte_carlo(nominal=100, IRP=[3.668, 2.275, 8.956, 16.286],\n",
    "                                redemption_levels=[3.668, 2.275, 8.956, 16.286], barriers=[2.384, 1.4788, 5.821, 10.586],\n",
    "                                V = [0.035,0.03,0.03,0.04], kappa=0.04, theta=0.02, sigma=0.02,\n",
    "                                kappa_v=[1.5, 0.8, 1.2, 0.9], theta_v=[0.04, 0.03, 0.05, 0.04],\n",
    "                                Lambda=[0.05, 0.04, 0.04, 0.05], coupon_payment=1.84,\n",
    "                                r0=0.01, N=100, M=90, T=20, seed=656)\n",
    "\n",
    "# Print the results\n",
    "mean, variance, st_error, MC_Error = result\n",
    "print(\"Price: \", mean)\n",
    "print(\"Variance: \", variance)\n",
    "print(\"Standard Error: \", st_error)\n",
    "print(\"Monte Carlo Error: \", MC_Error)\n"
   ],
   "metadata": {
    "colab": {
     "base_uri": "https://localhost:8080/"
    },
    "id": "v42fvGf8ZzWs",
    "outputId": "c30b4ff3-244d-4c60-812a-94db874a6ad6",
    "pycharm": {
     "name": "#%%\n"
    }
   },
   "execution_count": 13,
   "outputs": [
    {
     "output_type": "stream",
     "name": "stdout",
     "text": [
      "Price:  132.80459326296778\n",
      "Variance:  17.730177527509557\n",
      "Standard Error:  4.210721734751604\n",
      "Monte Carlo Error:  0.4210721734751604\n"
     ]
    }
   ]
  },
  {
   "cell_type": "markdown",
   "source": [
    "**BLACK and SCHOLES**"
   ],
   "metadata": {
    "id": "DNEBaAUJnpcd",
    "pycharm": {
     "name": "#%% md\n"
    }
   }
  },
  {
   "cell_type": "markdown",
   "source": [
    "$$\n",
    "Euler\\ approximation\n",
    "\\\\\n",
    "S[t+\\Delta t] = S[t] + r  S[t] \\Delta t + \\sigma \\ S[t] \\ \\epsilon \\ \\sqrt{\\Delta t}\n",
    "$$"
   ],
   "metadata": {
    "id": "tJFpmO3ww2n-",
    "pycharm": {
     "name": "#%% md\n"
    }
   }
  },
  {
   "cell_type": "code",
   "source": [
    "correlation_matrix = np.array([\n",
    "    [1.0, 0.3, 0.3, 0.3, 0.01],\n",
    "    [0.3, 1.0, 0.4, 0.4, 0.02],\n",
    "    [0.3, 0.4, 1.0, 0.5, 0.03],\n",
    "    [0.3, 0.4, 0.5, 1.0, 0.02],\n",
    "    [0.2, 0.3, 0.2, 0.01,1.0],\n",
    "\n",
    "])\n",
    "\n",
    "L = np.linalg.cholesky(correlation_matrix)\n",
    "\n",
    "\n",
    "def monte_carlo_BS(nominal, IRP, redemption_levels, barriers, sigmaG, kappa, theta, sigma, kappa_v, theta_v, Lambda, coupon_payment, r0, N, M, T, seed):\n",
    "    dt = 1 / M\n",
    "    sqrt_dt = np.sqrt(dt)\n",
    "    np.random.seed(seed)\n",
    "    mean = 0\n",
    "    tot_payoff = 0\n",
    "\n",
    "    for i in range(N):\n",
    "        G1 = np.log(IRP[0])\n",
    "        G2 = np.log(IRP[1])\n",
    "        G3 = np.log(IRP[2])\n",
    "        G4 = np.log(IRP[3])\n",
    "        r = r0\n",
    "        sumr = 0\n",
    "        sum_discounted_payoffs = 0\n",
    "        payoff = 0\n",
    "\n",
    "        epsilon_shape = (T, M, 5)\n",
    "        epsilon_values = np.random.normal(size=epsilon_shape)\n",
    "\n",
    "        for y in range(T):\n",
    "            for j in range(M):\n",
    "                epsilon0, epsilon1, epsilon2, epsilon3, epsilon4 = epsilon_values[y, j]\n",
    "                eta_1 = L[0, 0] * epsilon0\n",
    "                eta_2 = L[1, 0] * epsilon0 + L[1, 1] * epsilon1\n",
    "                eta_3 = L[2, 0] * epsilon0 + L[2, 1] * epsilon1 + L[2, 2] * epsilon2\n",
    "                eta_4 = L[3, 0] * epsilon0 + L[3, 1] * epsilon1 + L[3, 2] * epsilon2 + L[3, 3] * epsilon3\n",
    "                eta_r = L[4, 0] * epsilon0 + L[4, 1] * epsilon1 + L[4, 2] * epsilon2 + L[4, 3] * epsilon3 + L[4, 4] * epsilon4\n",
    "\n",
    "                G1 = G1 + (r * G1) * dt + sigmaG[0]*G1 * sqrt_dt * eta_1\n",
    "                G2 = G2 + (r * G2) * dt + sigmaG[1]*G2 * sqrt_dt * eta_2\n",
    "                G3 = G3 + (r * G3) * dt + sigmaG[2]*G3 * sqrt_dt * eta_3\n",
    "                G4 = G4 + (r * G4) * dt + sigmaG[3]*G4 * sqrt_dt * eta_4\n",
    "\n",
    "                reference1 = G1\n",
    "                reference2 = G2\n",
    "                reference3 = G3\n",
    "                reference4 = G4\n",
    "\n",
    "                r = r + (kappa * theta * dt) - (kappa * dt * r) + sigma * sqrt_dt * eta_r # Vasicek\n",
    "                sumr += r\n",
    "\n",
    "            if y == 1 or y == 2 or y == 3:\n",
    "                payoff = payoff + coupon_payment\n",
    "                sum_discounted_payoffs, discounted_payoff = calculate_payoff(payoff, coupon_payment, r, r0, sumr, dt, sum_discounted_payoffs)\n",
    "\n",
    "            if y == 4 or y == 5 or y == 6 or y == 7 or y == 8 or y == 9 or y == 10 or y == 11 or y == 12 or y == 13 or y == 14 or y == 15 or y == 16 or y == 17 or y == 18 or y == 19:\n",
    "                if reference1 >= redempt[0] and reference2 >= redempt[1] and reference3 >= redempt[2] and reference4 >= redempt[3]:\n",
    "                    payoff += 100\n",
    "                    sum_discounted_payoffs, discounted_payoff = calculate_payoff(payoff, coupon_payment, r, r0, sumr, dt,sum_discounted_payoffs)\n",
    "                    break\n",
    "            else:\n",
    "                payoff = payoff + coupon_payment\n",
    "                sum_discounted_payoffs, discounted_payoff = calculate_payoff(payoff, coupon_payment, r, r0, sumr, dt,sum_discounted_payoffs)\n",
    "\n",
    "            if y == 20:\n",
    "                if reference1 >= barr[0] and reference2 >= barr[1] and reference3 >= barr[2] and reference4 >= barr[3]:\n",
    "                    payoff += nominal + coupon_payment\n",
    "                    sum_discounted_payoffs, discounted_payoff = calculate_payoff(payoff, coupon_payment, r, r0, sumr, dt,sum_discounted_payoffs)\n",
    "\n",
    "                else:\n",
    "                    worst_performance = min(G1 / K[0], G2 / K[1], G3 / K[2], G4 / K[3])\n",
    "                    cash_amount = nominal * worst_performance\n",
    "                    payoff += coupon_payment + cash_amount\n",
    "                    sum_discounted_payoffs, discounted_payoff = calculate_payoff(payoff, coupon_payment, r, r0, sumr, dt,sum_discounted_payoffs)\n",
    "\n",
    "        tot_payoff = tot_payoff + sum_discounted_payoffs\n",
    "\n",
    "    mean = tot_payoff / N\n",
    "    variance = np.sum((discounted_payoff - mean) ** 2) / (N - 1)\n",
    "    st_error = np.sqrt(variance)\n",
    "    MC_Error = np.sqrt(variance / N)\n",
    "\n",
    "    return mean, variance, st_error, MC_Error,\n",
    "\n",
    "# Test the function\n",
    "result = monte_carlo_BS(nominal=100, IRP=[3.668, 2.275, 8.956, 16.286],\n",
    "                                redemption_levels=[3.668, 2.275, 8.956, 16.286], barriers=[2.384, 1.4788, 5.821, 10.586],\n",
    "                                sigmaG =[0.02,0.01,0.02,0.03], kappa=0.04, theta=0.02, sigma=0.02,\n",
    "                                kappa_v=[2.0,1.2,1.5, 1.0], theta_v=[0.04, 0.03, 0.05, 0.04],\n",
    "                                Lambda=[0.08,0.06,0.07,0.09], coupon_payment=1.84,\n",
    "                                r0=0.01, N=10000, M=90, T=20, seed=656)\n",
    "\n",
    "# Print the results\n",
    "mean, variance, st_error, MC_Error = result\n",
    "print(\"Price: \", mean)\n",
    "print(\"Variance: \", variance)\n",
    "print(\"Standard Error: \", st_error)\n",
    "print(\"Monte Carlo Error: \", MC_Error)"
   ],
   "metadata": {
    "colab": {
     "base_uri": "https://localhost:8080/"
    },
    "id": "mG0x_3K9ngQH",
    "outputId": "fa5c2b67-34c3-405b-e3ae-fbc8926b26c1",
    "pycharm": {
     "name": "#%%\n"
    }
   },
   "execution_count": 32,
   "outputs": [
    {
     "output_type": "stream",
     "name": "stdout",
     "text": [
      "Price:  123.58416643399858\n",
      "Variance:  0.02913152995120372\n",
      "Standard Error:  0.1706796119962889\n",
      "Monte Carlo Error:  0.0017067961199628888\n"
     ]
    }
   ]
  },
  {
   "cell_type": "markdown",
   "source": [
    "**VARIANCE REDUCTION**"
   ],
   "metadata": {
    "id": "uwR8_0pmdkxK",
    "pycharm": {
     "name": "#%% md\n"
    }
   }
  },
  {
   "cell_type": "markdown",
   "source": [
    "**Antithetic Variates technique**\n",
    "\n",
    "is based on the construction of a *new variable*  as the mean of  processes $$Yi\\ ,\\ Yi_a $$ constructed by using the **antithetic pairs** of the distribution implied in the original process function.\n",
    "$$Y = f(Z), \\quad Z \\sim \\mathcal{N}(0, 1)$$\n",
    "$$ Z \\sim Z'$$ , $$\\text{corr}(Z, Z') = -1$$\n",
    "\n",
    "$$take\\ a\\ sequence\\ then:\\ Z_{ai} = -Z_i$$\n",
    "\n",
    "$$Y_{\\text{ai}} = f(Z_{\\text{ai}})$$\n",
    "\n",
    "$$Y_{\\text{av}} = \\frac{{Y_{\\text{avg}} + Y_{\\text{ai (avg)}}}}{2}$$\n",
    "\n",
    "*Antithtetic pairs*: same distributions, perfectly anticorrelated.\n",
    "Correlation depends on f.\n",
    "\n",
    "Their mean have good statistical properties, that is to say, are  unbiased estimators and also strongly consistent.\n",
    "\n",
    "Briefly speaking we have variance reduction iif :\n",
    "$$\\text{cov}(Y_i, Y_{\\text{a}}) < 0$$ and this depend on the choice on the *function* that generates the processes.\n",
    "\n",
    "For monotonic functions the distribution are perfectly anticorrelated and the we reach our variance reduction.\n",
    "\n"
   ],
   "metadata": {
    "id": "ayS1ICXeaf8q",
    "pycharm": {
     "name": "#%% md\n"
    }
   }
  },
  {
   "cell_type": "markdown",
   "source": [
    "*why AV* ?\n",
    "\n",
    "- I decided to implement AV rather then CV due to the *correlation structure* of the certificate that could reach to some complications in improving CV.\n",
    "Av, on the contrary, does not need particular adjustments, since the pairs generated are negatively correlated.\n",
    "\n",
    "- also given the presence of negative correlations AV lead to an overall significant variance reduction  (negative and positive fluctuations cancel out each other)\n",
    "\n",
    "- Av is independet from the model"
   ],
   "metadata": {
    "id": "wlWDEUUigG1H",
    "pycharm": {
     "name": "#%% md\n"
    }
   }
  },
  {
   "cell_type": "markdown",
   "source": [
    "10000 simulations"
   ],
   "metadata": {
    "id": "U077Vi7VafqG",
    "pycharm": {
     "name": "#%% md\n"
    }
   }
  },
  {
   "cell_type": "code",
   "source": [
    "def monte_carlo_anthitetic_variance_reduction(nominal, IRP, redemption_levels, barriers, V, kappa, theta, sigma, kappa_v, theta_v, Lambda, coupon_payment, r0, N, M, T, seed):\n",
    "    dt = 1 / M\n",
    "    sqrt_dt = np.sqrt(dt)\n",
    "    np.random.seed(seed)\n",
    "    mean = 0\n",
    "    tot_payoff = 0\n",
    "    tot_payoff_varrred = 0\n",
    "    for i in range(N):\n",
    "        G1 = G[0]\n",
    "        G2 = G[1]\n",
    "        G3 = G[2]\n",
    "        G4 = G[3]\n",
    "        V_1 = V[0]\n",
    "        V_2 = V[1]\n",
    "        V_3 = V[2]\n",
    "        V_4 = V[3]\n",
    "        r = r0\n",
    "        antiG1 = G[0]\n",
    "        antiG2 = G[1]\n",
    "        antiG3 = G[2]\n",
    "        antiG4 = G[3]\n",
    "        antiV_1= V[0]\n",
    "        antiV_2= V[1]\n",
    "        antiV_3=V[2]\n",
    "        antiV_4=V[3]\n",
    "        antir = r0\n",
    "        G1_av = 0\n",
    "        G2_av = 0\n",
    "        G3_av = 0\n",
    "        G4_av = 0\n",
    "        V1_av = 0\n",
    "        V2_av = 0\n",
    "        V3_av = 0\n",
    "        V4_av = 0\n",
    "        r_av = 0\n",
    "        sumr = 0\n",
    "        discounted_payoff = 0\n",
    "        sum_discounted_payoffs = 0\n",
    "        payoff = 0\n",
    "        antipayoff = 0\n",
    "        sum_antir = 0\n",
    "        antisum_disc_payoffs = 0\n",
    "        antipayoff = 0\n",
    "        epsilon_shape = (T, M, 9)\n",
    "        epsilon_values = np.random.normal(size=epsilon_shape)\n",
    "\n",
    "        for y in range(T):\n",
    "            for j in range(M):\n",
    "                epsilon0, epsilon1, epsilon2, epsilon3, epsilon4, epsilon5, epsilon6, epsilon7, epsilon8 = epsilon_values[y, j]\n",
    "                epsilon0_neg, epsilon1_neg, epsilon2_neg, epsilon3_neg, epsilon4_neg, epsilon5_neg, epsilon6_neg, epsilon7_neg, epsilon8_neg = -epsilon0, -epsilon1, -epsilon2, -epsilon3, -epsilon4, -epsilon5, -epsilon6, -epsilon7, -epsilon8\n",
    "\n",
    "\n",
    "                eta_1 = L[0, 0] * epsilon0\n",
    "                eta_2 = L[1, 0] * epsilon0 + L[1, 1] * epsilon1\n",
    "                eta_3 = L[2, 0] * epsilon0 + L[2, 1] * epsilon1 + L[2, 2] * epsilon2\n",
    "                eta_4 = L[3, 0] * epsilon0 + L[3, 1] * epsilon1 + L[3, 2] * epsilon2 + L[3, 3] * epsilon3\n",
    "                eta_v1 = L[4, 0] * epsilon0 + L[4, 1] * epsilon1 + L[4, 2] * epsilon2 + L[4, 3] * epsilon3 + L[4, 4] * epsilon4\n",
    "                eta_v2 = L[5, 0] * epsilon0 + L[5, 1] * epsilon1 + L[5, 2] * epsilon2 + L[5, 3] * epsilon3 + L[5, 4] * epsilon4 + L[5, 5] * epsilon5\n",
    "                eta_v3 = L[6, 0] * epsilon0 + L[6, 1] * epsilon1 + L[6, 2] * epsilon2 + L[6, 3] * epsilon3 + L[6, 4] * epsilon4 + L[6, 5] * epsilon5 + L[6, 6] * epsilon6\n",
    "                eta_v4 = L[7, 0] * epsilon0 + L[7, 1] * epsilon1 + L[7, 2] * epsilon2 + L[7, 3] * epsilon3 + L[7, 4] * epsilon4 + L[7, 5] * epsilon5 + L[7, 6] * epsilon6 + L[7, 7] * epsilon7\n",
    "                eta_r = L[8, 0] * epsilon0 + L[8, 1] * epsilon1 + L[8, 2] * epsilon2 + L[8, 3] * epsilon3 + L[8, 4] * epsilon4 + L[8, 5] * epsilon5 + L[8, 6] * epsilon6 + L[8, 7] * epsilon7 + L[8, 8] * epsilon8\n",
    "\n",
    "                eta_1neg = L[0, 0] * epsilon0_neg\n",
    "                eta_2neg = L[1, 0] * epsilon0_neg + L[1, 1] * epsilon1_neg\n",
    "                eta_3neg = L[2, 0] * epsilon0_neg + L[2, 1] * epsilon1_neg + L[2, 2] * epsilon2_neg\n",
    "                eta_4neg = L[3, 0] * epsilon0_neg + L[3, 1] * epsilon1_neg + L[3, 2] * epsilon2_neg + L[3, 3] * epsilon3_neg\n",
    "                eta_v1neg = L[4, 0] * epsilon0_neg + L[4, 1] * epsilon1_neg + L[4, 2] * epsilon2_neg + L[4, 3] * epsilon3_neg + L[4, 4] * epsilon4_neg\n",
    "                eta_v2neg = L[5, 0] * epsilon0_neg + L[5, 1] * epsilon1_neg + L[5, 2] * epsilon2_neg + L[5, 3] * epsilon3_neg + L[5, 4] * epsilon4_neg + L[5, 5] * epsilon5_neg\n",
    "                eta_v3neg = L[6, 0] * epsilon0_neg + L[6, 1] * epsilon1_neg + L[6, 2] * epsilon2_neg + L[6, 3] * epsilon3_neg + L[6, 4] * epsilon4_neg + L[6, 5] * epsilon5_neg + L[6, 6] * epsilon6_neg\n",
    "                eta_v4neg = L[7, 0] * epsilon0_neg + L[7, 1] * epsilon1_neg + L[7, 2] * epsilon2_neg + L[7, 3] * epsilon3_neg + L[7, 4] * epsilon4_neg + L[7, 5] * epsilon5_neg + L[7, 6] * epsilon6_neg + L[7, 7] * epsilon7_neg\n",
    "                eta_rneg = L[8, 0] * epsilon0_neg + L[8, 1] * epsilon1_neg + L[8, 2] * epsilon2_neg + L[8, 3] * epsilon3_neg + L[8, 4] * epsilon4_neg + L[8, 5] * epsilon5_neg + L[8, 6] * epsilon6_neg + L[8, 7] * epsilon7_neg + L[8, 8] * epsilon8_neg\n",
    "\n",
    "                V_1 = V_1 * kappa_v[0] * theta_v[0] * dt - (kappa_v[0] * dt) * V_1 * Lambda[0] * sqrt_dt * np.sqrt(V_1) * eta_v1\n",
    "                V_2 = V_2 * kappa_v[1] * theta_v[1] * dt - (kappa_v[1] * dt) * V_2 * Lambda[1] * sqrt_dt * np.sqrt(V_2) * eta_v2\n",
    "                V_3 = V_3 * kappa_v[2] * theta_v[2] * dt - (kappa_v[2] * dt) * V_3 * Lambda[2] * sqrt_dt * np.sqrt(V_3) * eta_v3\n",
    "                V_4 = V_4 * kappa_v[3] * theta_v[3] * dt - (kappa_v[3] * dt) * V_3 * Lambda[3] * sqrt_dt * np.sqrt(V_4) * eta_v4\n",
    "\n",
    "                antiV_1 = antiV_1 * kappa_v[0] * theta_v[0] * dt - (kappa_v[0] * dt) * V_1 * Lambda[0] * sqrt_dt *np.sqrt(V_1)  * (eta_v1neg)\n",
    "                antiV_2 = antiV_2 * kappa_v[0] * theta_v[0] * dt - (kappa_v[0] * dt) * V_1 * Lambda[0] * sqrt_dt *np.sqrt(V_1)  * (eta_v2neg)\n",
    "                antiV_3 = antiV_3 * kappa_v[0] * theta_v[0] * dt - (kappa_v[0] * dt) * V_1 * Lambda[0] * sqrt_dt *np.sqrt(V_1)  * (eta_v3neg)\n",
    "                antiV_4 = antiV_4 * kappa_v[0] * theta_v[0] * dt - (kappa_v[0] * dt) * V_1 * Lambda[0] * sqrt_dt *np.sqrt(V_1)  * (eta_v4neg)\n",
    "\n",
    "\n",
    "                if V_1 < 0 and V_2 < 0 and V_3 < 0 and V_4 < 0:\n",
    "                    V_1 = abs(V_1)\n",
    "                    V_2 = abs(V_2)\n",
    "                    V_3 = abs(V_3)\n",
    "                    V_4 = abs(V_4)\n",
    "\n",
    "                if antiV_1<0 and antiV_2 <0 and antiV_3 <0 and antiV_4 <0:\n",
    "                   antiV_1=abs(antiV_1)\n",
    "                   antiV_2=abs(antiV_2)\n",
    "                   antiV_3=abs(antiV_3)\n",
    "                   antiV_4=abs(antiV_4)\n",
    "\n",
    "                G1 = G1 + (r - V_1 / 2) * dt + np.sqrt(V_1) * sqrt_dt * eta_1\n",
    "                G2 = G2 + (r - V_2 / 2) * dt + np.sqrt(V_2) * sqrt_dt * eta_2\n",
    "                G3 = G3 + (r - V_3 / 2) * dt + np.sqrt(V_3) * sqrt_dt * eta_3\n",
    "                G4 = G4 + (r - V_4 / 2) * dt + np.sqrt(V_4) * sqrt_dt * eta_4\n",
    "\n",
    "                reference1 = G1\n",
    "                reference2 = G2\n",
    "                reference3 = G3\n",
    "                reference4 = G4\n",
    "\n",
    "                antiG1 = antiG1 + (r - antiV_1/2) * dt + np.sqrt(V_1) * sqrt_dt * (eta_1neg)\n",
    "                antiG2 = antiG2 + (r - antiV_2/2) * dt + np.sqrt(V_2) * sqrt_dt * (eta_2neg)\n",
    "                antiG3 = antiG3 + (r - antiV_3/2) * dt + np.sqrt(V_3) * sqrt_dt * (eta_3neg)\n",
    "                antiG4 = antiG4 + (r - antiV_4/2) * dt + np.sqrt(V_4) * sqrt_dt * (eta_4neg)\n",
    "\n",
    "                G1_av = (G1+antiG1)/2\n",
    "\n",
    "                G2_av = (G2+antiG2)/2\n",
    "\n",
    "                G3_av = (G3+antiG3)/2\n",
    "\n",
    "                G4_av = (G4+antiG4)/2\n",
    "\n",
    "\n",
    "\n",
    "                V1_av = (G1+antiG1)/2\n",
    "                V2_av = (G2+antiG2)/2\n",
    "                V3_av = (G3+antiG3)/2\n",
    "                V4_av = (G4+antiG4)/2\n",
    "\n",
    "                ant_reference1 = G1_av\n",
    "                ant_reference2 = G2_av\n",
    "                ant_reference3 = G3_av\n",
    "                ant_reference4 = G4_av\n",
    "\n",
    "\n",
    "                r = r + (kappa * theta * dt) - (kappa * dt * r) + sigma * sqrt_dt * eta_r\n",
    "                sumr += r\n",
    "\n",
    "                antir = antir + (kappa * theta * dt) - ( kappa * dt * antir ) + sigma * sqrt_dt * (eta_rneg) #Vasiceck\n",
    "                sum_antir += antir\n",
    "\n",
    "                r_av = (r+antir)/2\n",
    "                r_av += r_av\n",
    "\n",
    "            if y == 1 or y == 2 or y == 3:\n",
    "                payoff = payoff + coupon_payment\n",
    "                sum_discounted_payoffs, discounted_payoff = calculate_payoff(payoff, coupon_payment, r, r0, sumr, dt, sum_discounted_payoffs)\n",
    "                antisum_disc_payoffs,anti_disc_payoffs = calculate_antithetic(payoff, coupon_payment,r,r0,antir,sum_antir, sum_discounted_payoffs,antisum_disc_payoffs,dt)\n",
    "                mean_discpayoff=calculate_mean_discounted_payoff(sum_discounted_payoffs, antisum_disc_payoffs)\n",
    "\n",
    "            if y == 4 or y == 5 or y == 6 or y == 7 or y == 8 or y == 9 or y == 10 or y == 11 or y == 12 or y == 13 or y == 14 or y == 15 or y == 16 or y == 17 or y == 18 or y == 19:\n",
    "                if reference1 >= redempt[0] and reference2 >= redempt[1] and reference3 >= redempt[2] and reference4 >= redempt[3]:\n",
    "                    payoff += 100\n",
    "                    sum_discounted_payoffs, discounted_payoff = calculate_payoff(payoff, coupon_payment, r, r0, sumr, dt,sum_discounted_payoffs)\n",
    "                    antisum_disc_payoffs,anti_disc_payoffs = calculate_antithetic(payoff, coupon_payment,r,r0,antir,sum_antir, sum_discounted_payoffs,antisum_disc_payoffs,dt)\n",
    "                    mean_discpayoff=calculate_mean_discounted_payoff(sum_discounted_payoffs, antisum_disc_payoffs)\n",
    "                    break\n",
    "            else:\n",
    "                payoff = payoff + coupon_payment\n",
    "                sum_discounted_payoffs, discounted_payoff = calculate_payoff(payoff, coupon_payment, r, r0, sumr, dt,sum_discounted_payoffs)\n",
    "                antisum_disc_payoffs,anti_disc_payoffs = calculate_antithetic(payoff, coupon_payment,r,r0,antir,sum_antir, sum_discounted_payoffs,antisum_disc_payoffs,dt)\n",
    "                mean_discpayoff=calculate_mean_discounted_payoff(sum_discounted_payoffs, antisum_disc_payoffs)\n",
    "            if y == 20:\n",
    "                if reference1 >= barr[0] and reference2 >= barr[1] and reference3 >= barr[2] and reference4 >= barr[3]:\n",
    "                    payoff += nominal + coupon_payment\n",
    "                    sum_discounted_payoffs, discounted_payoff = calculate_payoff(payoff, coupon_payment, r, r0, sumr, dt,sum_discounted_payoffs)\n",
    "                    antisum_disc_payoffs,anti_disc_payoffs = calculate_antithetic(payoff, coupon_payment,r,r0,antir,sum_antir, sum_discounted_payoffs,antisum_disc_payoffs,dt)\n",
    "                    mean_discpayoff=calculate_mean_discounted_payoff(sum_discounted_payoffs, antisum_disc_payoffs)\n",
    "                else:\n",
    "                    worst_performance = min(G1 / K[0], G2 / K[1], G3 / K[2], G4 / K[3])\n",
    "                    cash_amount = nominal * worst_performance\n",
    "                    payoff += coupon_payment + cash_amount\n",
    "                    sum_discounted_payoffs, discounted_payoff = calculate_payoff(payoff, coupon_payment, r, r0, sumr, dt,sum_discounted_payoffs)\n",
    "                    antisum_disc_payoffs,anti_disc_payoffs = calculate_antithetic(payoff, coupon_payment,r,r0,antir,sum_antir, sum_discounted_payoffs,antisum_disc_payoffs,dt)\n",
    "                    mean_discpayoff=calculate_mean_discounted_payoff(sum_discounted_payoffs, antisum_disc_payoffs)\n",
    "\n",
    "        tot_payoff = tot_payoff + sum_discounted_payoffs\n",
    "        tot_payoff_varrred= tot_payoff_varrred + mean_discpayoff\n",
    "\n",
    "    mean = tot_payoff / N\n",
    "    variance = np.sum((discounted_payoff - mean) ** 2) / (N - 1)\n",
    "    st_error = np.sqrt(variance)\n",
    "    MC_Error = np.sqrt(variance / N)\n",
    "\n",
    "    mean_varred = tot_payoff_varrred / N\n",
    "    variance_varred = np.sum((mean_discpayoff - mean_varred) ** 2) / (N - 1)\n",
    "    st_error_varred = np.sqrt(variance_varred)\n",
    "    MC_Error_varred = np.sqrt(variance_varred / N)\n",
    "\n",
    "    return mean, variance, st_error, MC_Error, mean_varred, variance_varred,st_error_varred,MC_Error_varred\n",
    "\n",
    "# Test the function\n",
    "mean, variance, st_error, MC_Error,mean_varred, variance_varred, st_error_varred, MC_Error_varred = monte_carlo_anthitetic_variance_reduction(nominal=100, IRP=[3.668, 2.275, 8.956, 16.286],\n",
    "                                redemption_levels=[3.668, 2.275, 8.956, 16.286], barriers=[2.384, 1.4788, 5.821, 10.586],\n",
    "                                V = [0.035,0.03,0.03,0.04], kappa=0.04, theta=0.02, sigma=0.02,\n",
    "                                kappa_v=[1.5, 0.8, 1.2, 0.9], theta_v=[0.04, 0.03, 0.05, 0.04],\n",
    "                                Lambda=[0.05, 0.04, 0.04, 0.05], coupon_payment=1.84,\n",
    "                                r0=0.01, N=10000, M=90, T=20, seed=656)\n",
    "print(\"Price\",mean)\n",
    "print(\"Variance\",variance)\n",
    "print(\"Standard Error\",st_error)\n",
    "print(\"MonteCarlo Error\",MC_Error)\n",
    "\n",
    "print(\"Price with var reduction\",mean_varred)\n",
    "print(\"Variance with variance reduction\",variance_varred)\n",
    "print(\"standard error var reduction\", st_error_varred)\n",
    "print(\"MC with var reduction\",MC_Error_varred)"
   ],
   "metadata": {
    "colab": {
     "base_uri": "https://localhost:8080/"
    },
    "id": "bjA6Fucu288i",
    "outputId": "2d6ab36d-37d7-4e92-8ff0-557f1fd8fb86",
    "pycharm": {
     "name": "#%%\n"
    }
   },
   "execution_count": 14,
   "outputs": [
    {
     "output_type": "stream",
     "name": "stdout",
     "text": [
      "Price 131.1168798985647\n",
      "Variance 0.04907176745656401\n",
      "Standard Error 0.221521483058786\n",
      "MonteCarlo Error 0.00221521483058786\n",
      "Price with var reduction 134.2428846280092\n",
      "Variance with variance reduction 0.003266650847123977\n",
      "standard error var reduction 0.05715462227260344\n",
      "MC with var reduction 0.0005715462227260344\n"
     ]
    }
   ]
  },
  {
   "cell_type": "markdown",
   "source": [
    "**percentage change**"
   ],
   "metadata": {
    "id": "97P23-Z_sSrF",
    "pycharm": {
     "name": "#%% md\n"
    }
   }
  },
  {
   "cell_type": "code",
   "source": [
    "pcMCE = ((MC_Error - MC_Error_varred) / MC_Error_varred) *100\n",
    "print(pcMCE)\n",
    "pcSD = ((st_error - st_error_varred) / st_error_varred) *100\n",
    "print(pcMCE)"
   ],
   "metadata": {
    "colab": {
     "base_uri": "https://localhost:8080/"
    },
    "id": "_nsIhAV7rOEX",
    "outputId": "4dda9bff-45b2-404b-adf1-c022af8835d5",
    "pycharm": {
     "name": "#%%\n"
    }
   },
   "execution_count": 43,
   "outputs": [
    {
     "output_type": "stream",
     "name": "stdout",
     "text": [
      "-84.90329353098505\n",
      "-84.90329353098505\n"
     ]
    }
   ]
  },
  {
   "cell_type": "markdown",
   "source": [
    "1000 simulations"
   ],
   "metadata": {
    "id": "U-kKFd2VaQSe",
    "pycharm": {
     "name": "#%% md\n"
    }
   }
  },
  {
   "cell_type": "code",
   "source": [
    "mean, variance, st_error, MC_Error,mean_varred, variance_varred, st_error_varred, MC_Error_varred = monte_carlo_anthitetic_variance_reduction(nominal=100, IRP=[3.668, 2.275, 8.956, 16.286],\n",
    "                                redemption_levels=[3.668, 2.275, 8.956, 16.286], barriers=[2.384, 1.4788, 5.821, 10.586],\n",
    "                                V = [0.035,0.03,0.03,0.04], kappa=0.04, theta=0.02, sigma=0.02,\n",
    "                                kappa_v=[1.5, 0.8, 1.2, 0.9], theta_v=[0.04, 0.03, 0.05, 0.04],\n",
    "                                Lambda=[0.05, 0.04, 0.04, 0.05], coupon_payment=1.84,\n",
    "                                r0=0.01, N=1000, M=90, T=20, seed=656)\n",
    "print(\"Price\",mean)\n",
    "print(\"Variance\",variance)\n",
    "print(\"Standard Error\",st_error)\n",
    "print(\"MonteCarlo Error\",MC_Error)\n",
    "\n",
    "print(\"Price with var reduction\",mean_varred)\n",
    "print(\"Variance with variance reduction\",variance_varred)\n",
    "print(\"standard error var reduction\", st_error_varred)\n",
    "print(\"MC with var reduction\",MC_Error_varred)"
   ],
   "metadata": {
    "colab": {
     "base_uri": "https://localhost:8080/"
    },
    "id": "_-m6FSUxaP8X",
    "outputId": "765bf7f8-c534-4cd2-f8c4-464660fe6a8f",
    "pycharm": {
     "name": "#%%\n"
    }
   },
   "execution_count": 17,
   "outputs": [
    {
     "output_type": "stream",
     "name": "stdout",
     "text": [
      "Price 132.36690839116986\n",
      "Variance 13.781604236747826\n",
      "Standard Error 3.7123583120097425\n",
      "MonteCarlo Error 0.11739507756608804\n",
      "Price with var reduction 135.81211852890942\n",
      "Variance with variance reduction 7.310825491708206\n",
      "standard error var reduction 2.7038538221783006\n",
      "MC with var reduction 0.08550336538235326\n"
     ]
    }
   ]
  },
  {
   "cell_type": "markdown",
   "source": [
    "100 simulations"
   ],
   "metadata": {
    "id": "rUKzCTqGaQuW",
    "pycharm": {
     "name": "#%% md\n"
    }
   }
  },
  {
   "cell_type": "code",
   "source": [
    "mean, variance, st_error, MC_Error,mean_varred, variance_varred, st_error_varred, MC_Error_varred = monte_carlo_anthitetic_variance_reduction(nominal=100, IRP=[3.668, 2.275, 8.956, 16.286],\n",
    "                                redemption_levels=[3.668, 2.275, 8.956, 16.286], barriers=[2.384, 1.4788, 5.821, 10.586],\n",
    "                                V = [0.035,0.03,0.03,0.04], kappa=0.04, theta=0.02, sigma=0.02,\n",
    "                                kappa_v=[1.5, 0.8, 1.2, 0.9], theta_v=[0.04, 0.03, 0.05, 0.04],\n",
    "                                Lambda=[0.05, 0.04, 0.04, 0.05], coupon_payment=1.84,\n",
    "                                r0=0.01, N=100, M=90, T=20, seed=656)\n",
    "\n",
    "print(\"Price\",mean)\n",
    "print(\"Variance\",variance)\n",
    "print(\"Standard Error\",st_error)\n",
    "print(\"MonteCarlo Error\",MC_Error)\n",
    "\n",
    "print(\"Price with var reduction\",mean_varred)\n",
    "print(\"Variance with variance reduction\",variance_varred)\n",
    "print(\"standard error var reduction\", st_error_varred)\n",
    "print(\"MC with var reduction\",MC_Error_varred)\n"
   ],
   "metadata": {
    "colab": {
     "base_uri": "https://localhost:8080/"
    },
    "id": "rU7M8ztEaP1i",
    "outputId": "d2f5bbb4-edba-4db6-a56e-767b72b57371",
    "pycharm": {
     "name": "#%%\n"
    }
   },
   "execution_count": 19,
   "outputs": [
    {
     "output_type": "stream",
     "name": "stdout",
     "text": [
      "Price 132.80459326296778\n",
      "Variance 17.730177527509557\n",
      "Standard Error 4.210721734751604\n",
      "MonteCarlo Error 0.4210721734751604\n",
      "Price with var reduction 134.3361907338447\n",
      "Variance with variance reduction 5.77038754690146\n",
      "standard error var reduction 2.4021630974814054\n",
      "MC with var reduction 0.24021630974814054\n"
     ]
    }
   ]
  },
  {
   "cell_type": "markdown",
   "source": [
    "**GREEKS**"
   ],
   "metadata": {
    "id": "vf1DwfaM218L",
    "pycharm": {
     "name": "#%% md\n"
    }
   }
  },
  {
   "cell_type": "markdown",
   "source": [
    "in order to compute sensitiveness of the Certificate's price with respect to the most relevant variables we can develope the computation of the **fundametal greeks** of derivatives.\n",
    "In the subsequent we can observe the results in their *approximated* form.\n",
    "It is not possible to compute the greeks in closed form for this particlar certificate due to its particular structure, for this reason I've not included the error due to the approximation."
   ],
   "metadata": {
    "id": "BKBcJxJyH1e2",
    "pycharm": {
     "name": "#%% md\n"
    }
   }
  },
  {
   "cell_type": "markdown",
   "source": [
    "- **APPROXIMATED VALUES** using **FINITE DIFFERENCE METHOD**"
   ],
   "metadata": {
    "id": "raTVc2dZHh5c",
    "pycharm": {
     "name": "#%% md\n"
    }
   }
  },
  {
   "cell_type": "markdown",
   "source": [
    "$$\n",
    "\\Delta = \\frac{V(S + h) - V(S - h)}{2h}\n",
    "$$\n",
    "\\\n",
    "$$\n",
    "\\Gamma = \\frac{V(S + h) - 2V(S) + V(S - h)}{h^2}\n",
    "$$\n",
    "\\\n",
    "$$\n",
    "\\Theta = -\\frac{V(t + h) - V(t - h)}{2h}\n",
    "$$\n",
    "\\\n",
    "$$\n",
    "\\rho = \\frac{V(r + h) - V(r - h)}{2h}\n",
    "$$\n",
    "\\\n",
    "$$\n",
    "Vega = \\frac{V(\\sigma + h) - V(\\sigma - h)}{2h}\n",
    "$$"
   ],
   "metadata": {
    "id": "DGG8WAYP27Y8",
    "pycharm": {
     "name": "#%% md\n"
    }
   }
  },
  {
   "cell_type": "markdown",
   "source": [
    "1)Choose a small increment for each variable in the pricing model.\n",
    " The variables of interest are underlying asset price, time to expiration, volatility, and interest rate.\n",
    "\n",
    "2)Calculate the  price for the original set of parameters.\n",
    "\n",
    "3)Perturb one of the variables by adding or subtracting the increment from its original value, while keeping the other variables constant.\n",
    "\n",
    "4)Recalculate the option price using the perturbed set of parameters.\n",
    "\n",
    "5)Compute the numerical derivative of the option price with respect to the perturbed variable using the finite difference formula"
   ],
   "metadata": {
    "id": "WgMt1PEV28KK",
    "pycharm": {
     "name": "#%% md\n"
    }
   }
  },
  {
   "cell_type": "markdown",
   "source": [
    "**Delta**"
   ],
   "metadata": {
    "id": "ElshcV8yGW3i",
    "pycharm": {
     "name": "#%% md\n"
    }
   }
  },
  {
   "cell_type": "code",
   "source": [
    "deltaS = [irp * 0.01 for irp in IRP]\n",
    "\n",
    "#print(deltaG)\n",
    "S_up = []\n",
    "for i in range(len(IRP)):\n",
    "    S_up.append(IRP[i] + deltaS[i])\n",
    "\n",
    "print(S_up)\n",
    "print(IRP)\n",
    "\n",
    "S_down = []\n",
    "for i in range(len(IRP)):\n",
    "    S_down.append(IRP[i] - deltaS[i])\n",
    "print(S_down)\n"
   ],
   "metadata": {
    "id": "iWT2fKRYn5lO",
    "colab": {
     "base_uri": "https://localhost:8080/"
    },
    "outputId": "cf9a96d6-4ed1-4127-e88e-0e648b377bbb",
    "pycharm": {
     "name": "#%%\n"
    }
   },
   "execution_count": null,
   "outputs": [
    {
     "output_type": "stream",
     "name": "stdout",
     "text": [
      "[3.70468, 2.2977499999999997, 9.04556, 16.44886]\n",
      "[3.668, 2.275, 8.956, 16.286]\n",
      "[3.63132, 2.25225, 8.866439999999999, 16.123140000000003]\n"
     ]
    }
   ]
  },
  {
   "cell_type": "code",
   "source": [
    "mean_up,variance_up,standard_error_up,MC_Error_up = monte_carlo(nominal=100, IRP = S_up,\n",
    "                                redemption_levels=[3.668, 2.275, 8.956, 16.286], barriers=[2.384, 1.4788, 5.821, 10.586],\n",
    "                                V =[0.035,0.03,0.03,0.04], kappa=0.04, theta=0.02, sigma=0.02,\n",
    "                                kappa_v=[1.5, 0.8, 1.2, 0.9], theta_v=[0.04, 0.03, 0.05, 0.04],\n",
    "                                Lambda=[0.05, 0.04, 0.04, 0.05], coupon_payment=1.84,\n",
    "                                r0=0.01, N=1000, M=90, T=20, seed=656)"
   ],
   "metadata": {
    "id": "GuU9sapGZ9ts",
    "pycharm": {
     "name": "#%%\n"
    }
   },
   "execution_count": null,
   "outputs": []
  },
  {
   "cell_type": "code",
   "source": [
    "mean_down,variance_down,standard_error_down,MC_Error_down  = monte_carlo(nominal=100, IRP = S_down,\n",
    "                                redemption_levels=[3.668, 2.275, 8.956, 16.286], barriers=[2.384, 1.4788, 5.821, 10.586],\n",
    "                                V =[0.035,0.03,0.03,0.04], kappa=0.04, theta=0.02, sigma=0.02,\n",
    "                                kappa_v=[1.5, 0.8, 1.2, 0.9], theta_v=[0.04, 0.03, 0.05, 0.04],\n",
    "                                Lambda=[0.05, 0.04, 0.04, 0.05], coupon_payment=1.84,\n",
    "                                r0=0.01, N=1000, M=90, T=20, seed=656)"
   ],
   "metadata": {
    "id": "xnrfnzawyKsq",
    "pycharm": {
     "name": "#%%\n"
    }
   },
   "execution_count": null,
   "outputs": []
  },
  {
   "cell_type": "code",
   "source": [
    "delta1 =(mean_up - mean_down )/ 2*deltaS[0]\n",
    "delta2 =(mean_up - mean_down )/ 2*deltaS[1]\n",
    "delta3 = (mean_up - mean_down )/ 2*deltaS[2]\n",
    "delta4 = (mean_up - mean_down )/ 2*deltaS[3]\n",
    "print(delta1)\n",
    "print(delta2)\n",
    "print(delta3)\n",
    "print(delta4)"
   ],
   "metadata": {
    "colab": {
     "base_uri": "https://localhost:8080/"
    },
    "id": "5PyhrZzlx51Z",
    "outputId": "088616bf-b101-448b-c4dc-12a53064ac6c",
    "pycharm": {
     "name": "#%%\n"
    }
   },
   "execution_count": null,
   "outputs": [
    {
     "output_type": "stream",
     "name": "stdout",
     "text": [
      "0.06877942610833584\n",
      "0.04265899520078082\n",
      "0.16793580704096397\n",
      "0.3053821520175457\n"
     ]
    }
   ]
  },
  {
   "cell_type": "markdown",
   "source": [
    "**Gamma**"
   ],
   "metadata": {
    "id": "jRlf-kINGQQz",
    "pycharm": {
     "name": "#%% md\n"
    }
   }
  },
  {
   "cell_type": "code",
   "source": [
    "gamma1 = (mean_up - 2*mean + mean_down)/(deltaS[0]**2)\n",
    "gamma2 = (mean_up - 2*mean + mean_down)/(deltaS[1]**2)\n",
    "gamma3 = (mean_up - 2*mean + mean_down)/(deltaS[2]**2)\n",
    "gamma4 = (mean_up - 2*mean + mean_down)/(deltaS[3]**2)\n",
    "print(gamma1)\n",
    "print(gamma2)\n",
    "print(gamma3)\n",
    "print(gamma4)"
   ],
   "metadata": {
    "colab": {
     "base_uri": "https://localhost:8080/"
    },
    "id": "nh7rsFBq1aUv",
    "outputId": "af9ca609-fe87-49ce-c199-ce92d0c70af7",
    "pycharm": {
     "name": "#%%\n"
    }
   },
   "execution_count": null,
   "outputs": [
    {
     "output_type": "stream",
     "name": "stdout",
     "text": [
      "162.25857954782006\n",
      "421.79703420518103\n",
      "27.21686843333462\n",
      "8.230713084384579\n"
     ]
    }
   ]
  },
  {
   "cell_type": "markdown",
   "source": [
    "**Theta**"
   ],
   "metadata": {
    "id": "CY9aLW5FGOq0",
    "pycharm": {
     "name": "#%% md\n"
    }
   }
  },
  {
   "cell_type": "code",
   "source": [
    "delta_T = 1\n",
    "T = 20\n",
    "T_up = T + delta_T\n",
    "mean_Tup,variance_Tup,standard_error_Tup,MC_Error_Tup = monte_carlo(nominal=100, IRP=[3.668, 2.275, 8.956, 16.286],\n",
    "                                redemption_levels=[3.668, 2.275, 8.956, 16.286], barriers=[2.384, 1.4788, 5.821, 10.586],\n",
    "                                V = [0.035,0.03,0.03,0.04], kappa=0.04, theta=0.02, sigma=0.02,\n",
    "                                kappa_v=[1.5, 0.8, 1.2, 0.9], theta_v=[0.04, 0.03, 0.05, 0.04],\n",
    "                                Lambda=[0.05, 0.04, 0.04, 0.05], coupon_payment=1.84,\n",
    "                                r0=0.01, N=1000, M=90, T=T_up, seed=656)"
   ],
   "metadata": {
    "id": "0g8ZOAbI2xgS",
    "pycharm": {
     "name": "#%%\n"
    }
   },
   "execution_count": null,
   "outputs": []
  },
  {
   "cell_type": "code",
   "source": [
    "T_down = T - delta_T\n",
    "mean_Tdown,variance_Tup,standard_error_Tup,MC_Error_Tup = monte_carlo(nominal=100, IRP=[3.668, 2.275, 8.956, 16.286],\n",
    "                                redemption_levels=[3.668, 2.275, 8.956, 16.286], barriers=[2.384, 1.4788, 5.821, 10.586],\n",
    "                                V = [0.035,0.03,0.03,0.04], kappa=0.04, theta=0.02, sigma=0.02,\n",
    "                                kappa_v=[1.5, 0.8, 1.2, 0.9], theta_v=[0.04, 0.03, 0.05, 0.04],\n",
    "                                Lambda=[0.05, 0.04, 0.04, 0.05], coupon_payment=1.84,\n",
    "                                r0=0.01, N=1000, M=90, T=T_down, seed=656)"
   ],
   "metadata": {
    "id": "0BMc6dcYAeSG",
    "pycharm": {
     "name": "#%%\n"
    }
   },
   "execution_count": null,
   "outputs": []
  },
  {
   "cell_type": "code",
   "source": [
    "theta = -(mean_Tup - mean_Tdown)/(2*delta_T)\n",
    "print(theta)"
   ],
   "metadata": {
    "colab": {
     "base_uri": "https://localhost:8080/"
    },
    "id": "2q_-ETQZ3x53",
    "outputId": "974f3fd1-b0c5-4be4-e151-f3eda6535b0e",
    "pycharm": {
     "name": "#%%\n"
    }
   },
   "execution_count": null,
   "outputs": [
    {
     "output_type": "stream",
     "name": "stdout",
     "text": [
      "-4.15035180970483\n"
     ]
    }
   ]
  },
  {
   "cell_type": "markdown",
   "source": [
    "**Vega**"
   ],
   "metadata": {
    "id": "Ee-8ciWRGKq9",
    "pycharm": {
     "name": "#%% md\n"
    }
   }
  },
  {
   "cell_type": "code",
   "source": [
    "Vsqrt = np.sqrt(V)\n",
    "deltaV = [v * 0.01 for v in Vsqrt]\n",
    "\n",
    "#print(deltaG)\n",
    "V_up = []\n",
    "for i in range(len(V)):\n",
    "    V_up.append((V[i] + deltaV[i])**2)\n",
    "\n",
    "#print(V_up)\n",
    "\n",
    "\n",
    "V_down = []\n",
    "for i in range(len(V)):\n",
    "    V_down.append((V[i] - deltaV[i])**2)\n",
    "#print(V_down)"
   ],
   "metadata": {
    "colab": {
     "base_uri": "https://localhost:8080/"
    },
    "id": "0GPuPWgT4RuU",
    "outputId": "1e23b1b9-f2b5-4b00-f7ff-473e4075c354",
    "pycharm": {
     "name": "#%%\n"
    }
   },
   "execution_count": null,
   "outputs": [
    {
     "output_type": "stream",
     "name": "stdout",
     "text": [
      "[0.0017640000000000002, 0.0010069230484541327, 0.0010069230484541327, 0.0017640000000000002]\n",
      "[0.001444, 0.0007990769515458672, 0.0007990769515458672, 0.001444]\n"
     ]
    }
   ]
  },
  {
   "cell_type": "code",
   "source": [
    "mean_Vup,variance_Vup,standard_error_Vup,MC_Error_Vup = monte_carlo(nominal=100, IRP = [3.668, 2.275, 8.956, 16.286] ,\n",
    "                                redemption_levels=[3.668, 2.275, 8.956, 16.286], barriers=[2.384, 1.4788, 5.821, 10.586],\n",
    "                                V = V_up, kappa=0.04, theta=0.02, sigma=0.02,\n",
    "                                kappa_v=[1.5, 0.8, 1.2, 0.9], theta_v=[0.04, 0.03, 0.05, 0.04],\n",
    "                                Lambda=[0.05, 0.04, 0.04, 0.05], coupon_payment=1.84,\n",
    "                                r0=0.01, N=1000, M=90, T=20, seed=656)"
   ],
   "metadata": {
    "id": "BtJuYgQG5Xm1",
    "pycharm": {
     "name": "#%%\n"
    }
   },
   "execution_count": null,
   "outputs": []
  },
  {
   "cell_type": "code",
   "source": [
    "mean_Vdown,variance_Vdown,standard_error_Vdown,MC_Error_Vdown = monte_carlo(nominal=100, IRP = [3.668, 2.275, 8.956, 16.286] ,\n",
    "                                redemption_levels=[3.668, 2.275, 8.956, 16.286], barriers=[2.384, 1.4788, 5.821, 10.586],\n",
    "                                V = V_down, kappa=0.04, theta=0.02, sigma=0.02,\n",
    "                                kappa_v=[1.5, 0.8, 1.2, 0.9], theta_v=[0.04, 0.03, 0.05, 0.04],\n",
    "                                Lambda=[0.05, 0.04, 0.04, 0.05], coupon_payment=1.84,\n",
    "                                r0=0.01, N=1000, M=90, T=20, seed=656)"
   ],
   "metadata": {
    "id": "o9NHA-Rv5n6U",
    "pycharm": {
     "name": "#%%\n"
    }
   },
   "execution_count": null,
   "outputs": []
  },
  {
   "cell_type": "code",
   "source": [
    "Vega1 = (mean_Vup-mean_Vdown)/(2*deltaV[0])\n",
    "Vega2 = (mean_Vup-mean_Vdown)/(2*deltaV[1])\n",
    "Vega3 = (mean_Vup-mean_Vdown)/(2*deltaV[2])\n",
    "Vega4 = (mean_Vup-mean_Vdown)/(2*deltaV[3])\n",
    "\n",
    "print(Vega1)\n",
    "print(Vega2)\n",
    "print(Vega3)\n",
    "print(Vega4)\n"
   ],
   "metadata": {
    "colab": {
     "base_uri": "https://localhost:8080/"
    },
    "id": "V6sNlZtT0Sa2",
    "outputId": "9af7362c-f0fc-4dc0-83da-c7a82ebb73a7",
    "pycharm": {
     "name": "#%%\n"
    }
   },
   "execution_count": null,
   "outputs": [
    {
     "output_type": "stream",
     "name": "stdout",
     "text": [
      "0.0\n",
      "0.0\n",
      "0.0\n",
      "0.0\n"
     ]
    }
   ]
  },
  {
   "cell_type": "markdown",
   "source": [
    "**Rho**"
   ],
   "metadata": {
    "id": "LijvmMBVGDYu",
    "pycharm": {
     "name": "#%% md\n"
    }
   }
  },
  {
   "cell_type": "code",
   "source": [
    "delta_r = 0.01 * r0\n",
    "r_up = r0 + delta_r"
   ],
   "metadata": {
    "id": "nmvFaXUu6hiT",
    "pycharm": {
     "name": "#%%\n"
    }
   },
   "execution_count": null,
   "outputs": []
  },
  {
   "cell_type": "code",
   "source": [
    "mean_rup,variance_rup,standard_error_rup,MC_Error_rup = monte_carlo(nominal=100, IRP=[3.668, 2.275, 8.956, 16.286],\n",
    "                                redemption_levels=[3.668, 2.275, 8.956, 16.286], barriers=[2.384, 1.4788, 5.821, 10.586],\n",
    "                                V = [0.035,0.03,0.03,0.04], kappa=0.04, theta=0.02, sigma=0.02,\n",
    "                                kappa_v=[1.5, 0.8, 1.2, 0.9], theta_v=[0.04, 0.03, 0.05, 0.04],\n",
    "                                Lambda=[0.05, 0.04, 0.04, 0.05], coupon_payment=1.84,\n",
    "                                r0=r_up, N=1000, M=90, T=20, seed=656)"
   ],
   "metadata": {
    "id": "ZjmaeJzI6vQD",
    "pycharm": {
     "name": "#%%\n"
    }
   },
   "execution_count": null,
   "outputs": []
  },
  {
   "cell_type": "code",
   "source": [
    "r_down = r0 - delta_r"
   ],
   "metadata": {
    "id": "Eoq8Aw7sCinW",
    "pycharm": {
     "name": "#%%\n"
    }
   },
   "execution_count": null,
   "outputs": []
  },
  {
   "cell_type": "code",
   "source": [
    "mean_rdown,variance_rdown,standard_error_rdown,MC_Error_rdown = monte_carlo(nominal=100, IRP=[3.668, 2.275, 8.956, 16.286],\n",
    "                                redemption_levels=[3.668, 2.275, 8.956, 16.286], barriers=[2.384, 1.4788, 5.821, 10.586],\n",
    "                                V = [0.035,0.03,0.03,0.04], kappa=0.04, theta=0.02, sigma=0.02,\n",
    "                                kappa_v=[1.5, 0.8, 1.2, 0.9], theta_v=[0.04, 0.03, 0.05, 0.04],\n",
    "                                Lambda=[0.05, 0.04, 0.04, 0.05], coupon_payment=1.84,\n",
    "                                r0=r_down, N=1000, M=90, T=20, seed=656)"
   ],
   "metadata": {
    "id": "tBlSZSfHCo95",
    "pycharm": {
     "name": "#%%\n"
    }
   },
   "execution_count": null,
   "outputs": []
  },
  {
   "cell_type": "code",
   "source": [
    "Rho = (mean_rup - mean_rdown) / (2*delta_r)\n",
    "print(Rho)"
   ],
   "metadata": {
    "colab": {
     "base_uri": "https://localhost:8080/"
    },
    "id": "pYwXgGma7TFD",
    "outputId": "e41141ef-459d-4a95-a357-1f59ddc8138c",
    "pycharm": {
     "name": "#%%\n"
    }
   },
   "execution_count": null,
   "outputs": [
    {
     "output_type": "stream",
     "name": "stdout",
     "text": [
      "9.569799785253963\n"
     ]
    }
   ]
  },
  {
   "cell_type": "code",
   "source": [],
   "metadata": {
    "id": "X9kdPno88JnK",
    "pycharm": {
     "name": "#%%\n"
    }
   },
   "execution_count": null,
   "outputs": []
  },
  {
   "cell_type": "markdown",
   "source": [
    "**FINAL COMMENT ON RESULTS AND ON MONTE CARLO ERROR**"
   ],
   "metadata": {
    "id": "as4V16m_qxAh",
    "pycharm": {
     "name": "#%% md\n"
    }
   }
  },
  {
   "cell_type": "markdown",
   "source": [
    "I can now summarize the most relevant observations about my results"
   ],
   "metadata": {
    "id": "akL_S1pN3KMa",
    "pycharm": {
     "name": "#%% md\n"
    }
   }
  },
  {
   "cell_type": "markdown",
   "source": [
    "After looking at produced values, dispersion indices and MCE, I can finally states that the obtained price , which is around 131 Euro, is consistent with the expected result and with the model assumptions and semplficiations I introduced.\n",
    "\n",
    "I've just explained the reasons why I've choosen Heston model and Vasicek to approximate the main processes. To briefly recap:  a stochastic interest rate model incorporates randomness or uncertainty in interest rate movements and for this reason it captures real-world fluctuations.  \n",
    "Furthermore, considering that the Certificate underlyings are four stocks, it is obvious that the dynamic of each of them and the relative volatilities have a considerable impact on the price of the instrument, for this reason it is convenient to choose a model that encapsulate all these features in the evaluation. Heston model offers, not only a different SDE for volatilites, but also correlates all the processes, making the problem even more realistic.\n",
    "\n"
   ],
   "metadata": {
    "id": "hwL0RUsr3ZNL",
    "pycharm": {
     "name": "#%% md\n"
    }
   }
  },
  {
   "cell_type": "markdown",
   "source": [
    "*Parameters and results*\n",
    "\n",
    "The *correlation structure* is a sensible feature of the problem and in this particular pricing issue it represents the main source of noise of the price.\n",
    "The main weakness with correlation is that I didn't *calibrate* with market values and this lead to inconsistencies and possible valuation error.\n",
    "Despite that , I tried to choose choerent values:  \n",
    "\n",
    "* negative correlations between stocks and their respect volatilties due to their inversely related relathion (higher volatility=lower stock prices);\n",
    "* positive correlation between stocks and interest rates , due to a pseudo-sectorial choice : financial(bank)-sector underlyngs are generally positive correlated with interest rates due to the banks economical role and to their source of profitability;\n",
    "* positive correlations between volatilities of the stocks and interest rates for the same logic.\n",
    "\n",
    "Comparing the price by Heston and the one by B&S, we can see how the values of the error indices sensibly decrease in B&S , producing a more reliable price(123 Euro) , even without refining it with a variance reduction method.\n",
    "The correlation matrix has been sensibly reduced, without changing or perturbating other values. If I had considered no correlation structure probabily I would reached a value around 100 euro.\n",
    "\n",
    "Not only correlations have been affected by the arbitraryness of the choice, but also the following parameters:\n",
    "  \n",
    "1)*Heston model volatilities parameters*  \n",
    "*   V = [0.035,0.03,0.03,0.03] volatilities of the underlyings\n",
    "*   kappa_v = [0.04, 0.03, 1.5, 1.0]  Mean-reversion speeds\n",
    "*   theta_v = [0.04, 0.03, 0.05, 0.04]   Long-term average volatilities\n",
    "*   Lambda = [0.05,0.04,0.04,0.05] volatility of volatility\n",
    "\n",
    "2) *short-rate*\n",
    "*   r0 = 0.01  initial short-rate\n",
    "*   kappa = 0.5 mean reversion speed for short rate\n",
    "*   theta = 0.03 long-term mean of short rante\n",
    "*   sigma = 0.02  Volatility of short rate\n",
    "\n",
    "even thoungh I didn't calibrate to market data, I tried to choose values the more realistic as possible , looking at general values adopted for the parameters , for example in the case of the volatilities for the underlyings, I searched for some historical volatilities for selected Italian banking stocks on an annualized basis, that approximaltely ranges around:\n",
    "*   Banco BPM (BAMI.MI) : 25-35%\n",
    "*   Mediobanca (MDBI.MI): 20-30%\n",
    "*   UniCredit (UCG.MI): 30% - 40%\n",
    "*   Intesa Sanpaolo (ISP.MI): 20%-30%\n",
    "\n",
    "3) *variables not included(costs)*:\n",
    "\n",
    "another fact to consider is that I do not include in my function any type of variables related to the composition of costs of the certificate such as: taxes, all the possible fees and transaction costs. This is also another possible cause of alteration in the result"
   ],
   "metadata": {
    "id": "pj9Nw9oB9yBX",
    "pycharm": {
     "name": "#%% md\n"
    }
   }
  },
  {
   "cell_type": "markdown",
   "source": [
    "*Discounted payoff pricing and results*\n",
    "\n",
    "the certificate has been priced following the structure of its payoff rather then its replicating portfolio (composition of options and other features). I didn't write the payoff composition in the code but only linked the reference (KIID). Pricing in this way need other semplifcations in the code structure , for example:\n",
    "\n",
    "*  the division of period in quarters , in order to discount the periodal coupons and the flattening of every period in rounded values (every month has 30 days)\n",
    "\n",
    "*   the semplification assumed by the text of the project: all contractual events are all on day 27 of relevant month\n",
    "\n",
    "*  the approximation of the integral in the discount factor using trapezoidal rule. I just exaplained the functioning of the method. More efficient method could be used instead, for example Simpson rule. This could probabily be another source of noise when analyzing the pricing procedure.\n"
   ],
   "metadata": {
    "id": "I6aZ0k_z-ymh",
    "pycharm": {
     "name": "#%% md\n"
    }
   }
  },
  {
   "cell_type": "markdown",
   "source": [
    "*Greeks and results*\n",
    "\n",
    "Greeks are largely important to evaulate se sensitivity of the price to its main variables. Their quantification is important to asses risk and potential profitability of derivatives, Traders uses greeks and also VAR to make assumptions about Expected Profit al Losses.\n",
    "\n",
    "In our problem, Greeks have beeh approximated with central difference and second order central difference for the only second derivative(gamma).\n",
    "\n",
    "Results may me compromised by the general error in the pricing function but I can try to give a general comment about the obtained values:\n",
    "\n",
    "\n",
    "\n",
    "*   Delta values suggest that the underlyings with higher sensitivity to price change is the last one (Intesa SP)\n",
    "\n",
    "*   Gamma : the one whose delta has an  higher sensitivity to price changes is the second one (MedioBanca)\n",
    "\n",
    "*   0 values for Vegas suggest no sensitivity to change in implied volatilies\n",
    "\n",
    "\n",
    "*   negative theta suggest that the price will decrease with an order of magnitude given by the value obtained\n",
    "\n",
    "\n",
    "\n",
    "\n",
    "*  positive rho : the price will increase with interest rate with an order of magnitude given by the value obtained\n",
    "\n",
    "\n",
    "\n",
    "\n",
    "\n",
    "\n",
    "\n",
    ".\n",
    "\n"
   ],
   "metadata": {
    "id": "0R-6XL8c-TEl",
    "pycharm": {
     "name": "#%% md\n"
    }
   }
  },
  {
   "cell_type": "markdown",
   "source": [
    "*MONTE CARLO ERROR, VARIANCE REDUCTION AND RESULTS*\n",
    "\n",
    "After describing all the possible sources of noise affecting the model we can finally discuss about Monte Carlo error.\n",
    "\n",
    " Monte Carlo error  refers to the *estimation error* or uncertainty associated with using *Monte Carlo simulation methods*, therefore it is  not directly related to systematic errors or biases that may arise from the model assumptions,simulation methodology, or input data used in the Monte Carlo simulation, hence it is necessary to discuss about it in our problem.\n",
    "\n",
    " I've just showed the formula to compute it and I've also said the two ways we can use to reduce its value and  then improve the precision of the estimates.\n",
    "\n",
    " In order to verify the accuracy and the precision of my simulations I've improved both the alternatives.\n",
    "\n",
    "\n",
    "\n",
    "1.   **INCREASE  NUMBER OF SIMULATIONS**\n",
    "after setting the algortihm I generated result for N = 100, 1000, 10000.\n",
    "\n",
    "N = 100\n",
    "- Price:  132.80459326296778\n",
    "- Variance:  17.730177527509557\n",
    "- Standard Error:  4.210721734751604\n",
    "- Monte Carlo Error:  0.4210721734751604\n",
    "\n",
    "N = 1000\n",
    "- Price:  132.36690839116986\n",
    "- Variance:  13.781604236747826\n",
    "- Standard Error:  3.7123583120097425\n",
    "- Monte Carlo Error:  0.11739507756608804\n",
    "\n",
    "N = 10000\n",
    "- Price:  131.1168798985647\n",
    "- Variance:  0.04907176745656401\n",
    "- Standard Error:  0.221521483058786\n",
    "- Monte Carlo Error:  0.00221521483058786\n",
    "\n",
    "\n",
    "as we can see  the MC error reduces from the 40% to 11% when increasing N from 100 to 1000 and finally reaches 0.2% with 10000 simulations. This result highlight the reduction in error simulations.\n",
    "\n",
    "Explanations:\n",
    "\n",
    "Mathematically, the standard error of the estimated quantities in Monte Carlo simulation decreases as the square root of the sample size. This means that doubling the sample size can potentially reduce the standard error by approximately a factor of √2.\n",
    "\n",
    "By using a larger sample size, the Monte Carlo simulation can capture a more comprehensive representation of the input distributions, resulting in more accurate and reliable estimates of the quantities of interest.\n",
    "However, increasing the sample size also requires *more computational resources* and time for simulation resulting inefficient in some cases.\n",
    "In my project after running the functions in the trhee cases above we pass from a timing of : 8 secs(100), to 1min(1000), to 5 min (10000).\n",
    "\n",
    "\n",
    "2.   **VARIANCE REDUCTION : ANTITHETIC METHOD**\n",
    "\n",
    "VR methods are preferred because of the increase of accuracy and faster convergence.\n",
    "Among the 2 methods we studied in class I decided to develope the antithetic variates version and the reasons are explained above when introducing the method functioning.\n",
    "\n",
    "To briefly recall the most important points: I preferred AV for my project because: it is straightforward to implement ( an advantage when dealing with complex values to approximate, like pricing Certificates); preserving expected values of the simulations , the outcomes and parameters reamins unbiased and it does not depend on model parameters, another good reason , considering the aribtraryness of the values of most parameters; finally it improves converges and efficiency because relies only on athitetic distributions and their correlations.\n",
    "\n",
    "After implementing the technique I runned the problem in the three cases and, as we can see from the results, the improvement on the MCE is undoubly stronger.\n",
    "The code still run slowly, but it is only due to the number of simultaions involved.\n",
    "\n",
    "N =100\n",
    "- Price 132.80459326296778\n",
    "- Variance 17.730177527509557\n",
    "- Standard Error 4.210721734751604\n",
    "- MonteCarlo Error 0.4210721734751604\n",
    "\n",
    "- Price with var reduction 134.3361907338447\n",
    "- Variance with variance reduction 5.77038754690146\n",
    "- standard error var reduction 2.4021630974814054\n",
    "- MC with var reduction 0.24021630974814054\n",
    "\n",
    "N=1000\n",
    "- Price 132.36690839116986\n",
    "- Variance 13.781604236747826\n",
    "- Standard Error 3.7123583120097425\n",
    "- MonteCarlo Error 0.11739507756608804\n",
    "\n",
    "- Price with var reduction 135.81211852890942\n",
    "- Variance with variance reduction 7.310825491708206\n",
    "- standard error var reduction 2.7038538221783006\n",
    "- MC with var reduction 0.08550336538235326\n",
    "\n",
    "N = 10000\n",
    "- Price 131.1168798985647\n",
    "- Variance 0.04907176745656401\n",
    "- Standard Error 0.221521483058786\n",
    "- MonteCarlo Error 0.00221521483058786\n",
    "\n",
    "- Price with var reduction 134.2428846280092\n",
    "- Variance with variance reduction 0.003266650847123977\n",
    "- standard error var reduction 0.05715462227260344\n",
    "- MC with var reduction 0.0005715462227260344\n",
    "\n",
    "\n",
    "\n",
    "\n",
    "as we can see the reduction of the error is considerably high in all the three cases, showing heavy percentage changes.\n",
    "As we can notice , the price in the VR case is higher then the original one, this is due to the fact that reducing the variance will increase the price of the cartificate, as it is less risky.\n",
    "\n",
    "The reference example for this analysis is the values of N= 10000. We can see that MCE goes from 11% to 8% to finally reach 0.05% , which is a good value and reaches our final objective.\n",
    "\n",
    "\n",
    "\n",
    "\n"
   ],
   "metadata": {
    "id": "2fo_vEg8n1cA",
    "pycharm": {
     "name": "#%% md\n"
    }
   }
  }
 ]
}