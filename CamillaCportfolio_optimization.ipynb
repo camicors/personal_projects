{
  "nbformat": 4,
  "nbformat_minor": 0,
  "metadata": {
    "kernelspec": {
      "display_name": "Python 3",
      "language": "python",
      "name": "python3"
    },
    "language_info": {
      "codemirror_mode": {
        "name": "ipython",
        "version": 3
      },
      "file_extension": ".py",
      "mimetype": "text/x-python",
      "name": "python",
      "nbconvert_exporter": "python",
      "pygments_lexer": "ipython3",
      "version": "3.6.3"
    },
    "colab": {
      "provenance": []
    }
  },
  "cells": [
    {
      "cell_type": "markdown",
      "metadata": {
        "id": "b-1Yb-Lgbja8",
        "pycharm": {
          "name": "#%% md\n"
        }
      },
      "source": [
        "## Portfolio Optimization\n",
        "\n",
        "Given the historical series of a set of securities and of SP500, Brent price and 3M Treasury, you are asked to:\n",
        "* find the Markowitz portfolio for a 0.32 expected annual return;\n",
        "* draw efficient frontier of the risky portfolio and the CAL assuming an additional risk free asset (3M Treasury);\n",
        "* find the Sharpe portfolio;\n",
        "* comment the resulting plots.\n",
        "As proxy for the risk-free rate use the average of 3M Treasury (rf column).\n",
        "\n",
        "Using a two-factors model (SP500 and Brent), find:\n",
        "* the best 10 assets to invest on given that there is strong evidence for a sudden decrease of Oil price. Motivate the choice (also looking at the sector of the assets, the info can be retrived using yfinance module).\n",
        "\n",
        "The input is just an historical series file.\n",
        "\n",
        "### Notes and Hints\n",
        "\n",
        "Numerical results must be presented to the examining committee during a presentation in which the candidates will also explain the theoretical framework of the portfolio optimization models."
      ]
    },
    {
      "cell_type": "markdown",
      "metadata": {
        "id": "A1uKZgBoObDZ",
        "pycharm": {
          "name": "#%% md\n"
        }
      },
      "source": [
        "## Inputs\n",
        "\n",
        "[Historical series](https://raw.githubusercontent.com/matteosan1/finance_course/develop/Projects/proj8.csv)"
      ]
    },
    {
      "cell_type": "code",
      "source": [
        "import pandas as pd\n",
        "data = pd.read_csv(\"https://raw.githubusercontent.com/matteosan1/finance_course/develop/Projects/proj8.csv\", index_col =\"Date\")\n",
        "print(data.head())"
      ],
      "metadata": {
        "colab": {
          "base_uri": "https://localhost:8080/"
        },
        "id": "bFOsUIuc0cZ9",
        "outputId": "be8de505-1017-4eea-db07-8ff7911d65d9",
        "pycharm": {
          "name": "#%%\n"
        }
      },
      "execution_count": 24,
      "outputs": [
        {
          "output_type": "stream",
          "name": "stdout",
          "text": [
            "                   AAP       ABMD        AOS        APA        ATO       CBOE  \\\n",
            "Date                                                                            \n",
            "2014-03-27  120.386787  25.770000  20.311985  70.738632  38.335091  53.106892   \n",
            "2014-03-28  121.125298  25.700001  20.594727  71.548737  38.443562  52.420502   \n",
            "2014-03-31  122.922981  26.040001  20.653065  71.488411  39.328094  53.219734   \n",
            "2014-04-01  123.651749  26.200001  20.810135  72.186493  39.169537  52.956448   \n",
            "2014-04-02  123.272804  26.000000  21.007603  72.591560  39.553406  51.950348   \n",
            "\n",
            "                 Brent        COP        CVX        DVA  ...        NOV  \\\n",
            "Date                                                     ...              \n",
            "2014-03-27  101.279999  55.201248  84.980484  68.389999  ...  61.768215   \n",
            "2014-03-28  101.669998  56.045704  85.579918  68.449997  ...  63.100582   \n",
            "2014-03-31  101.580002  56.045704  85.875999  68.849998  ...  63.263077   \n",
            "2014-04-01   99.739998  56.013840  85.940994  69.339996  ...  63.417431   \n",
            "2014-04-02   99.620003  56.475925  86.193771  69.080002  ...  63.734283   \n",
            "\n",
            "                  PRGO         PVH       QCOM        SEE        UNM  \\\n",
            "Date                                                                  \n",
            "2014-03-27  142.137802  121.942818  62.429443  28.158300  27.333130   \n",
            "2014-03-28  141.316605  122.666054  62.611073  28.301918  27.412731   \n",
            "2014-03-31  142.700592  123.617195  62.279385  29.504723  28.105207   \n",
            "2014-04-01  143.798630  124.756577  63.258682  29.594492  28.200718   \n",
            "2014-04-02  145.044174  124.568344  63.290245  30.025347  28.216644   \n",
            "\n",
            "                   WU       XRAY        SP500       rf  \n",
            "Date                                                    \n",
            "2014-03-27  12.493245  42.994137  1849.040039  0.00033  \n",
            "2014-03-28  12.401440  43.260414  1857.619995  0.00033  \n",
            "2014-03-31  12.516197  43.783466  1872.339966  0.00028  \n",
            "2014-04-01  12.829865  44.696411  1885.520020  0.00030  \n",
            "2014-04-02  12.845167  45.314556  1890.900024  0.00018  \n",
            "\n",
            "[5 rows x 36 columns]\n"
          ]
        }
      ]
    },
    {
      "cell_type": "code",
      "source": [
        "!pip install yfinance\n",
        "import yfinance as yf"
      ],
      "metadata": {
        "colab": {
          "base_uri": "https://localhost:8080/"
        },
        "id": "G95lXSRE0kc2",
        "outputId": "340db2e7-ec89-40c5-b19b-7485b0ffc12a"
      },
      "execution_count": 3,
      "outputs": [
        {
          "output_type": "stream",
          "name": "stdout",
          "text": [
            "Looking in indexes: https://pypi.org/simple, https://us-python.pkg.dev/colab-wheels/public/simple/\n",
            "Collecting yfinance\n",
            "  Downloading yfinance-0.2.9-py2.py3-none-any.whl (55 kB)\n",
            "\u001b[2K     \u001b[90m━━━━━━━━━━━━━━━━━━━━━━━━━━━━━━━━━━━━━━━━\u001b[0m \u001b[32m55.9/55.9 KB\u001b[0m \u001b[31m2.4 MB/s\u001b[0m eta \u001b[36m0:00:00\u001b[0m\n",
            "\u001b[?25hCollecting requests>=2.26\n",
            "  Downloading requests-2.28.2-py3-none-any.whl (62 kB)\n",
            "\u001b[2K     \u001b[90m━━━━━━━━━━━━━━━━━━━━━━━━━━━━━━━━━━━━━━━━\u001b[0m \u001b[32m62.8/62.8 KB\u001b[0m \u001b[31m8.6 MB/s\u001b[0m eta \u001b[36m0:00:00\u001b[0m\n",
            "\u001b[?25hCollecting frozendict>=2.3.4\n",
            "  Downloading frozendict-2.3.4-cp38-cp38-manylinux_2_17_x86_64.manylinux2014_x86_64.whl (110 kB)\n",
            "\u001b[2K     \u001b[90m━━━━━━━━━━━━━━━━━━━━━━━━━━━━━━━━━━━━━━\u001b[0m \u001b[32m111.0/111.0 KB\u001b[0m \u001b[31m12.9 MB/s\u001b[0m eta \u001b[36m0:00:00\u001b[0m\n",
            "\u001b[?25hCollecting beautifulsoup4>=4.11.1\n",
            "  Downloading beautifulsoup4-4.11.2-py3-none-any.whl (129 kB)\n",
            "\u001b[2K     \u001b[90m━━━━━━━━━━━━━━━━━━━━━━━━━━━━━━━━━━━━━━\u001b[0m \u001b[32m129.4/129.4 KB\u001b[0m \u001b[31m16.6 MB/s\u001b[0m eta \u001b[36m0:00:00\u001b[0m\n",
            "\u001b[?25hRequirement already satisfied: pandas>=1.3.0 in /usr/local/lib/python3.8/dist-packages (from yfinance) (1.3.5)\n",
            "Requirement already satisfied: pytz>=2022.5 in /usr/local/lib/python3.8/dist-packages (from yfinance) (2022.7)\n",
            "Collecting html5lib>=1.1\n",
            "  Downloading html5lib-1.1-py2.py3-none-any.whl (112 kB)\n",
            "\u001b[2K     \u001b[90m━━━━━━━━━━━━━━━━━━━━━━━━━━━━━━━━━━━━━━\u001b[0m \u001b[32m112.2/112.2 KB\u001b[0m \u001b[31m13.2 MB/s\u001b[0m eta \u001b[36m0:00:00\u001b[0m\n",
            "\u001b[?25hRequirement already satisfied: appdirs>=1.4.4 in /usr/local/lib/python3.8/dist-packages (from yfinance) (1.4.4)\n",
            "Requirement already satisfied: numpy>=1.16.5 in /usr/local/lib/python3.8/dist-packages (from yfinance) (1.21.6)\n",
            "Collecting cryptography>=3.3.2\n",
            "  Downloading cryptography-39.0.0-cp36-abi3-manylinux_2_28_x86_64.whl (4.2 MB)\n",
            "\u001b[2K     \u001b[90m━━━━━━━━━━━━━━━━━━━━━━━━━━━━━━━━━━━━━━━━\u001b[0m \u001b[32m4.2/4.2 MB\u001b[0m \u001b[31m52.5 MB/s\u001b[0m eta \u001b[36m0:00:00\u001b[0m\n",
            "\u001b[?25hRequirement already satisfied: lxml>=4.9.1 in /usr/local/lib/python3.8/dist-packages (from yfinance) (4.9.2)\n",
            "Requirement already satisfied: multitasking>=0.0.7 in /usr/local/lib/python3.8/dist-packages (from yfinance) (0.0.11)\n",
            "Collecting soupsieve>1.2\n",
            "  Downloading soupsieve-2.3.2.post1-py3-none-any.whl (37 kB)\n",
            "Requirement already satisfied: cffi>=1.12 in /usr/local/lib/python3.8/dist-packages (from cryptography>=3.3.2->yfinance) (1.15.1)\n",
            "Requirement already satisfied: six>=1.9 in /usr/local/lib/python3.8/dist-packages (from html5lib>=1.1->yfinance) (1.15.0)\n",
            "Requirement already satisfied: webencodings in /usr/local/lib/python3.8/dist-packages (from html5lib>=1.1->yfinance) (0.5.1)\n",
            "Requirement already satisfied: python-dateutil>=2.7.3 in /usr/local/lib/python3.8/dist-packages (from pandas>=1.3.0->yfinance) (2.8.2)\n",
            "Requirement already satisfied: charset-normalizer<4,>=2 in /usr/local/lib/python3.8/dist-packages (from requests>=2.26->yfinance) (2.1.1)\n",
            "Requirement already satisfied: certifi>=2017.4.17 in /usr/local/lib/python3.8/dist-packages (from requests>=2.26->yfinance) (2022.12.7)\n",
            "Requirement already satisfied: urllib3<1.27,>=1.21.1 in /usr/local/lib/python3.8/dist-packages (from requests>=2.26->yfinance) (1.24.3)\n",
            "Requirement already satisfied: idna<4,>=2.5 in /usr/local/lib/python3.8/dist-packages (from requests>=2.26->yfinance) (2.10)\n",
            "Requirement already satisfied: pycparser in /usr/local/lib/python3.8/dist-packages (from cffi>=1.12->cryptography>=3.3.2->yfinance) (2.21)\n",
            "Installing collected packages: soupsieve, requests, html5lib, frozendict, cryptography, beautifulsoup4, yfinance\n",
            "  Attempting uninstall: requests\n",
            "    Found existing installation: requests 2.25.1\n",
            "    Uninstalling requests-2.25.1:\n",
            "      Successfully uninstalled requests-2.25.1\n",
            "  Attempting uninstall: html5lib\n",
            "    Found existing installation: html5lib 1.0.1\n",
            "    Uninstalling html5lib-1.0.1:\n",
            "      Successfully uninstalled html5lib-1.0.1\n",
            "  Attempting uninstall: beautifulsoup4\n",
            "    Found existing installation: beautifulsoup4 4.6.3\n",
            "    Uninstalling beautifulsoup4-4.6.3:\n",
            "      Successfully uninstalled beautifulsoup4-4.6.3\n",
            "Successfully installed beautifulsoup4-4.11.2 cryptography-39.0.0 frozendict-2.3.4 html5lib-1.1 requests-2.28.2 soupsieve-2.3.2.post1 yfinance-0.2.9\n"
          ]
        }
      ]
    },
    {
      "cell_type": "code",
      "source": [
        "import numpy as np\n",
        "import matplotlib.pyplot as plt\n",
        "import seaborn as sns\n",
        "import statsmodels.api as sm\n",
        "import yfinance as yf"
      ],
      "metadata": {
        "id": "kEkGMm1I0bzv"
      },
      "execution_count": 4,
      "outputs": []
    },
    {
      "cell_type": "code",
      "source": [
        "risky_data =data.copy()\n",
        "risky_data.drop(['rf', 'Brent','SP500'], axis=1,inplace = True, errors='ignore')\n",
        "#print(risky_data)"
      ],
      "metadata": {
        "id": "A-nzeqbe0hdq",
        "pycharm": {
          "name": "#%%\n"
        }
      },
      "execution_count": 67,
      "outputs": []
    },
    {
      "cell_type": "code",
      "source": [
        "\n",
        "\n",
        "risky_d = risky_data/risky_data.iloc[0] #normalization operation\n",
        "\n",
        "fig = plt.figure(figsize=(10,6), dpi=80, facecolor ='grey')  #my canvas\n",
        "for i in risky_d.columns:\n",
        "  plt.plot(risky_d[i], label=i)\n",
        "plt.legend(ncol=3)  \n",
        "plt.gca().xaxis.set_major_locator(plt.MaxNLocator(20))\n",
        "plt.xticks(rotation=45)\n",
        "plt.grid(True)                                                            \n",
        "\n",
        "plt.show()"
      ],
      "metadata": {
        "colab": {
          "base_uri": "https://localhost:8080/",
          "height": 458
        },
        "id": "CSUWRLoMEsnt",
        "outputId": "870d7f68-a8aa-46b6-9143-1d2c66e26d93",
        "pycharm": {
          "name": "#%%\n"
        }
      },
      "execution_count": 68,
      "outputs": [
        {
          "output_type": "display_data",
          "data": {
            "text/plain": [
              "<Figure size 800x480 with 1 Axes>"
            ],
            "image/png": "[encoded data removed]"
          },
          "metadata": {}
        }
      ]
    },
    {
      "cell_type": "code",
      "source": [
        "riskydaily_returns = risky_data.pct_change()\n",
        "risky_ret = riskydaily_returns.mean()*252\n",
        "print(risky_ret)"
      ],
      "metadata": {
        "colab": {
          "base_uri": "https://localhost:8080/"
        },
        "id": "bXxz_lko0rQE",
        "outputId": "a734f994-fa6d-4edd-fc30-5bcc3ce09535",
        "pycharm": {
          "name": "#%%\n"
        }
      },
      "execution_count": null,
      "outputs": [
        {
          "output_type": "stream",
          "name": "stdout",
          "text": [
            "AAP     0.032100\n",
            "ABMD    0.701586\n",
            "AOS     0.297326\n",
            "APA    -0.103439\n",
            "ATO     0.183844\n",
            "CBOE    0.209726\n",
            "COP     0.041632\n",
            "CVX     0.060103\n",
            "DVA     0.012973\n",
            "DVN    -0.066576\n",
            "ET      0.118743\n",
            "FFIV    0.115763\n",
            "FTI    -0.080091\n",
            "HII     0.283627\n",
            "HSIC    0.050928\n",
            "IFF     0.133327\n",
            "IPGP    0.365671\n",
            "IRM     0.153760\n",
            "IVZ     0.035622\n",
            "JNPR    0.047093\n",
            "LNC     0.154745\n",
            "LPG    -0.116462\n",
            "MOS    -0.088737\n",
            "NCLH    0.169657\n",
            "NI      0.177186\n",
            "NOV    -0.069007\n",
            "PRGO   -0.094399\n",
            "PVH     0.084553\n",
            "QCOM   -0.013666\n",
            "SEE     0.114886\n",
            "UNM     0.131544\n",
            "WU      0.096664\n",
            "XRAY    0.054661\n",
            "dtype: float64\n"
          ]
        }
      ]
    },
    {
      "cell_type": "code",
      "source": [
        "covariance2 = riskydaily_returns.cov()*252\n",
        "#print(covariance2)"
      ],
      "metadata": {
        "id": "_R8cpkJv0xDB",
        "pycharm": {
          "name": "#%%\n"
        }
      },
      "execution_count": null,
      "outputs": []
    },
    {
      "cell_type": "markdown",
      "source": [
        "MARKOWITZ PORTFOLIO"
      ],
      "metadata": {
        "id": "eMAPnJoC0lfn",
        "pycharm": {
          "name": "#%% md\n"
        }
      }
    },
    {
      "cell_type": "code",
      "source": [
        "import numpy as np\n",
        "from  scipy.optimize import minimize\n",
        "\n",
        "#i've just dropped out the risk free rate, leaving in my ptf the 2 indices : s&p, brent\n",
        "\n",
        "def sum_weights(w):          # 1th constr\n",
        "    return np.sum(w) - 1\n",
        "\n",
        "def min_risk(w, cov):        #function to minimize risk (our objective)\n",
        "    return w.T.dot(covariance2.dot(w))\n",
        "\n",
        "def target_return (w, ret, target_return):    #2th constr.\n",
        "    return(risky_ret.dot(w)- target_return)\n",
        "\n",
        "\n",
        "num_assets = 33\n",
        "constraints = [{'type': 'eq', 'fun': sum_weights}, \n",
        "               {'type': 'eq', 'fun': target_return, 'args':(risky_ret,0.32)}]\n",
        "bounds = tuple((0,1) for  _ in range (num_assets))\n",
        "weights = [1./num_assets for _ in range (num_assets)]\n",
        "\n",
        "optimiz = minimize(min_risk, weights, args=(covariance2), bounds=bounds,constraints = constraints)\n",
        "\n",
        "print(optimiz)\n",
        "print(\"Expected Ptf Return: {:.3f}\".format(risky_ret.dot(optimiz.x)))"
      ],
      "metadata": {
        "colab": {
          "base_uri": "https://localhost:8080/"
        },
        "id": "a88wenWe06zV",
        "outputId": "d3ae70a2-a525-416e-f7f8-55d4b48cbfa9",
        "pycharm": {
          "name": "#%%\n"
        }
      },
      "execution_count": null,
      "outputs": [
        {
          "output_type": "stream",
          "name": "stdout",
          "text": [
            "     fun: 0.02123051609433754\n",
            "     jac: array([0.02456971, 0.08976802, 0.03979901, 0.02760451, 0.02550426,\n",
            "       0.02863476, 0.02403303, 0.02210507, 0.02069929, 0.0304063 ,\n",
            "       0.049764  , 0.03101653, 0.02562483, 0.03808623, 0.02429358,\n",
            "       0.02525003, 0.0483786 , 0.02720304, 0.03981351, 0.03050706,\n",
            "       0.03644888, 0.01910315, 0.02600487, 0.03151603, 0.02472927,\n",
            "       0.01903793, 0.02546463, 0.02571882, 0.02560198, 0.03166889,\n",
            "       0.02655828, 0.02934726, 0.02413771])\n",
            " message: 'Optimization terminated successfully'\n",
            "    nfev: 612\n",
            "     nit: 18\n",
            "    njev: 18\n",
            "  status: 0\n",
            " success: True\n",
            "       x: array([7.25464501e-18, 1.77495566e-01, 1.27239155e-01, 0.00000000e+00,\n",
            "       2.57062219e-01, 2.07232445e-01, 0.00000000e+00, 0.00000000e+00,\n",
            "       0.00000000e+00, 2.58675454e-17, 6.78728123e-18, 0.00000000e+00,\n",
            "       0.00000000e+00, 9.65522514e-02, 0.00000000e+00, 0.00000000e+00,\n",
            "       8.33851193e-02, 1.45868514e-17, 3.10607604e-18, 0.00000000e+00,\n",
            "       0.00000000e+00, 0.00000000e+00, 3.77419650e-18, 0.00000000e+00,\n",
            "       5.10332440e-02, 0.00000000e+00, 1.17813835e-18, 7.57142198e-18,\n",
            "       4.43827033e-18, 0.00000000e+00, 0.00000000e+00, 0.00000000e+00,\n",
            "       0.00000000e+00])\n",
            "Expected Ptf Return: 0.320\n"
          ]
        }
      ]
    },
    {
      "cell_type": "code",
      "source": [
        "weights =[7.25464501e-18, 1.77495566e-01, 1.27239155e-01, 0.00000000e+00,\n",
        "       2.57062219e-01, 2.07232445e-01, 0.00000000e+00, 0.00000000e+00,\n",
        "       0.00000000e+00, 2.58675454e-17, 6.78728123e-18, 0.00000000e+00,\n",
        "       0.00000000e+00, 9.65522514e-02, 0.00000000e+00, 0.00000000e+00,\n",
        "       8.33851193e-02, 1.45868514e-17, 3.10607604e-18, 0.00000000e+00,\n",
        "       0.00000000e+00, 0.00000000e+00, 3.77419650e-18, 0.00000000e+00,\n",
        "       5.10332440e-02, 0.00000000e+00, 1.17813835e-18, 7.57142198e-18,\n",
        "       4.43827033e-18, 0.00000000e+00, 0.00000000e+00, 0.00000000e+00,\n",
        "       0.00000000e+00]\n",
        "w = np.array(weights)\n",
        "var = w.T.dot(covariance2.dot(w))\n",
        "stdev= np.sqrt(var)\n",
        "print(stdev)"
      ],
      "metadata": {
        "colab": {
          "base_uri": "https://localhost:8080/"
        },
        "id": "oWAL-vX-09Sr",
        "outputId": "bf9b456e-37c8-4018-b0cb-d02a20b8f00f",
        "pycharm": {
          "name": "#%%\n"
        }
      },
      "execution_count": null,
      "outputs": [
        {
          "output_type": "stream",
          "name": "stdout",
          "text": [
            "0.14570695285062596\n"
          ]
        }
      ]
    },
    {
      "cell_type": "code",
      "source": [
        "exp_risky = w.T.dot(risky_ret)\n",
        "print(exp_risky)"
      ],
      "metadata": {
        "colab": {
          "base_uri": "https://localhost:8080/"
        },
        "id": "z2xgwhKf1Cgw",
        "outputId": "7f004eee-d428-4b80-9b89-37829b772b8b",
        "pycharm": {
          "name": "#%%\n"
        }
      },
      "execution_count": null,
      "outputs": [
        {
          "output_type": "stream",
          "name": "stdout",
          "text": [
            "0.32000000013847385\n"
          ]
        }
      ]
    },
    {
      "cell_type": "markdown",
      "source": [
        "EFFICIENT FRONTIER"
      ],
      "metadata": {
        "id": "AxGjXyuN0iYQ",
        "pycharm": {
          "name": "#%% md\n"
        }
      }
    },
    {
      "cell_type": "code",
      "source": [
        "result = []\n",
        "for target in np.arange(0.20,0.50,0.005):\n",
        "  constraints = ({'type':'eq', 'fun':sum_weights},\n",
        "                 {'type': 'eq', 'fun':target_return, 'args':(risky_ret, target)})\n",
        "  weights = [1./num_assets for _ in range(num_assets)]\n",
        "  opts = minimize(min_risk,weights,args=(covariance2), bounds=bounds, constraints=constraints)\n",
        "\n",
        "  result.append((np.sqrt(opts.x.T.dot(covariance2.dot(opts.x))), \n",
        "                 risky_ret.dot(opts.x)))"
      ],
      "metadata": {
        "id": "64BhNbR81HeY",
        "pycharm": {
          "name": "#%%\n"
        }
      },
      "execution_count": null,
      "outputs": []
    },
    {
      "cell_type": "code",
      "source": [
        "import matplotlib.pyplot as plt\n",
        "\n",
        "std_devs = [x[0] for x in result] \n",
        "exp_returns = [x[1] for x in result]\n",
        "\n",
        "plt.scatter(std_devs, exp_returns, marker='.', color='lightblue')\n",
        "plt.xlabel('Standard Deviation')\n",
        "plt.ylabel('Expected Returns')\n",
        "plt.show()"
      ],
      "metadata": {
        "colab": {
          "base_uri": "https://localhost:8080/",
          "height": 279
        },
        "id": "P9ZRv4Sc1NYt",
        "outputId": "63b902d9-91f8-44ae-a81c-c027f839ccab",
        "pycharm": {
          "name": "#%%\n"
        }
      },
      "execution_count": null,
      "outputs": [
        {
          "output_type": "display_data",
          "data": {
            "text/plain": [
              "<Figure size 432x288 with 1 Axes>"
            ],
            "image/png": "[encoded data removed]"
          },
          "metadata": {
            "needs_background": "light"
          }
        }
      ]
    },
    {
      "cell_type": "code",
      "source": [
        "data_rf = data.copy()\n",
        "rf= data_rf[[data_rf.columns[-1]]]\n",
        "print(rf)"
      ],
      "metadata": {
        "colab": {
          "base_uri": "https://localhost:8080/"
        },
        "id": "W_eFOw6j1bd3",
        "outputId": "b7f7ba3c-d902-434a-e736-722984565f09",
        "pycharm": {
          "name": "#%%\n"
        }
      },
      "execution_count": null,
      "outputs": [
        {
          "output_type": "stream",
          "name": "stdout",
          "text": [
            "                 rf\n",
            "Date               \n",
            "2014-03-27  0.00033\n",
            "2014-03-28  0.00033\n",
            "2014-03-31  0.00028\n",
            "2014-04-01  0.00030\n",
            "2014-04-02  0.00018\n",
            "...             ...\n",
            "2018-03-20  0.01758\n",
            "2018-03-21  0.01710\n",
            "2018-03-22  0.01683\n",
            "2018-03-23  0.01688\n",
            "2018-03-26  0.01705\n",
            "\n",
            "[1007 rows x 1 columns]\n"
          ]
        }
      ]
    },
    {
      "cell_type": "code",
      "source": [
        "rf_ret = rf.mean()\n",
        "print(rf_ret)\n"
      ],
      "metadata": {
        "colab": {
          "base_uri": "https://localhost:8080/"
        },
        "id": "X2B5hozC1hgU",
        "outputId": "89f2253f-c244-408d-fac0-1392a8f0a697",
        "pycharm": {
          "name": "#%%\n"
        }
      },
      "execution_count": null,
      "outputs": [
        {
          "output_type": "stream",
          "name": "stdout",
          "text": [
            "rf    0.004071\n",
            "dtype: float64\n"
          ]
        }
      ]
    },
    {
      "cell_type": "markdown",
      "source": [
        "Portfolio with risk-free asset"
      ],
      "metadata": {
        "id": "thwB5WSRFOZ_",
        "pycharm": {
          "name": "#%% md\n"
        }
      }
    },
    {
      "cell_type": "code",
      "source": [
        "#num_assets = 34\n",
        "\n",
        "exp_ptf1 = (exp_risky*0.9) + (rf_ret*0.1)\n",
        "print(exp_ptf1)\n",
        "vol_ptf = (stdev*0.9)\n",
        "print(vol_ptf)\n",
        "#returns_ptf= np.append(risky_ret,rf_ret)\n",
        "#cov_ptf = np.column_stack((covariance2, np.zeros((33))))\n",
        "#cov_ptf = np.row_stack((cov_rf, np.zeros(34)))\n",
        "#print(cov_rf)\n",
        "#exp_ptf = (0.32*0.1)+(0.097046*0.9)\n",
        "#print(exp_ptf)\n",
        "st_dev_ptf = 0.10*stdev\n",
        "#print(var_ptf)\n",
        "\n",
        "\n",
        "x = [0,vol_ptf, stdev]\n",
        "y = [rf_ret,exp_ptf1,exp_risky]\n",
        "plt.plot(x, y, marker='o')\n",
        "plt.xlabel(\"Volatility\")\n",
        "plt.ylabel(\"Expected return\")\n",
        "plt.grid(True)\n",
        "plt.savefig(\"\")\n"
      ],
      "metadata": {
        "colab": {
          "base_uri": "https://localhost:8080/",
          "height": 386
        },
        "id": "fi2KuDTSFJUK",
        "outputId": "d2010297-8e41-4aae-97dd-d513f9964db4",
        "pycharm": {
          "name": "#%%\n"
        }
      },
      "execution_count": null,
      "outputs": [
        {
          "output_type": "stream",
          "name": "stdout",
          "text": [
            "rf    0.288407\n",
            "dtype: float64\n",
            "0.13113625756556338\n"
          ]
        },
        {
          "output_type": "stream",
          "name": "stderr",
          "text": [
            "/usr/local/lib/python3.8/dist-packages/numpy/core/shape_base.py:65: VisibleDeprecationWarning: Creating an ndarray from ragged nested sequences (which is a list-or-tuple of lists-or-tuples-or ndarrays with different lengths or shapes) is deprecated. If you meant to do this, you must specify 'dtype=object' when creating the ndarray.\n",
            "  ary = asanyarray(ary)\n"
          ]
        },
        {
          "output_type": "display_data",
          "data": {
            "text/plain": [
              "<Figure size 432x288 with 1 Axes>"
            ],
            "image/png": "[encoded data removed]"
          },
          "metadata": {
            "needs_background": "light"
          }
        }
      ]
    },
    {
      "cell_type": "markdown",
      "source": [
        "CAL"
      ],
      "metadata": {
        "id": "9DZB9VlB0ff-",
        "pycharm": {
          "name": "#%% md\n"
        }
      }
    },
    {
      "cell_type": "code",
      "source": [
        "num_assets = 34\n",
        "\n",
        "cov_rf = np.column_stack((covariance2.values,np.zeros(33)))\n",
        "cov_rf=np.row_stack((cov_rf, np.zeros(34)))\n",
        "\n",
        "def min_risk(w,cov,n_riskfree=0):\n",
        "  n_risk_free = len(rf_ret)\n",
        "  if n_riskfree ==0:\n",
        "    return w.T.dot(cov_rf.dot(w))\n",
        "  else:\n",
        "    return w[:-n_riskfree].T.dot(covariance2.dot(w[:-n_riskfree]))\n",
        "\n",
        "def target_return(w, returns, target_return, returns_rf):\n",
        "  n_risk_free = len(rf_ret)\n",
        "  if n_risk_free == 0: \n",
        "    portfolio_return = risky_ret.dot(w)\n",
        "    return (portfolio_return - target_return)\n",
        "  else: \n",
        "    portfolio_return = risky_ret.dot(w[:-n_risk_free]) + np.array(rf_ret).dot(w[-n_risk_free:]) \n",
        "    return (portfolio_return - target_return)\n",
        "\n",
        "rf_asset_return = [rf_ret]\n",
        "results_rf = []\n",
        "bounds = [(0, 1) for asset in range(num_assets)]\n",
        "\n",
        "for target in np.arange(0.10, 0.45, 0.01):\n",
        "    constraints = ({'type': 'eq', 'fun': target_return, \"args\":(risky_ret, target, rf_ret)},\n",
        "                   {'type': 'eq', 'fun': sum_weights})\n",
        "    weights = [1./num_assets for _ in range(num_assets)]\n",
        "    optz = minimize(min_risk, weights, args=(cov_rf, 1),\n",
        "                    bounds=bounds, constraints=constraints)\n",
        "    \n",
        "    results_rf.append((np.sqrt(min_risk(optz.x,cov_rf, 1)), target))"
      ],
      "metadata": {
        "id": "9LKs4zRv8hMb",
        "pycharm": {
          "name": "#%%\n"
        }
      },
      "execution_count": null,
      "outputs": []
    },
    {
      "cell_type": "code",
      "source": [
        "results_rf = np.array(results_rf)\n",
        "result = np.array(result)\n",
        "\n",
        "plt.plot(result[:, 0], result[:, 1], linestyle=\"--\", label='EF w/o risk-free')\n",
        "plt.plot(results_rf[:, 0], results_rf[:, 1], label='EF w/ risk-free')\n",
        "plt.xlabel(\"Volatility\")\n",
        "plt.ylabel(\"Expected Return\")\n",
        "plt.grid(True)\n",
        "plt.legend()"
      ],
      "metadata": {
        "colab": {
          "base_uri": "https://localhost:8080/",
          "height": 296
        },
        "id": "ve-M_mwb8oEX",
        "outputId": "6dce73ae-2d84-4aa8-8d5f-128a253817fc",
        "pycharm": {
          "name": "#%%\n"
        }
      },
      "execution_count": null,
      "outputs": [
        {
          "output_type": "execute_result",
          "data": {
            "text/plain": [
              "<matplotlib.legend.Legend at 0x7f3170388790>"
            ]
          },
          "metadata": {},
          "execution_count": 33
        },
        {
          "output_type": "display_data",
          "data": {
            "text/plain": [
              "<Figure size 432x288 with 1 Axes>"
            ],
            "image/png": "[encoded data removed]"
          },
          "metadata": {
            "needs_background": "light"
          }
        }
      ]
    },
    {
      "cell_type": "markdown",
      "source": [
        "SHARPE RATIO"
      ],
      "metadata": {
        "id": "4gplbs3A0btd",
        "pycharm": {
          "name": "#%% md\n"
        }
      }
    },
    {
      "cell_type": "code",
      "source": [
        "from scipy import optimize\n",
        "num_assets = len(risky_ret)\n",
        "rfasset_ret = rf_ret\n",
        "\n",
        "def sharpe_ratio(w, returns, rfasset_ret, cov): \n",
        "    ptf_ret = risky_ret.dot(w)\n",
        "    ptf_vol = np.sqrt(w.T.dot(covariance2.dot(w)))\n",
        "    ratio = -(ptf_ret - rfasset_ret) / ptf_vol\n",
        "    return ratio\n",
        "\n",
        "constraints = ({'type': 'eq', 'fun': sum_weights})\n",
        "bounds = tuple((0, 1) for asset in range(num_assets))\n",
        "weights = [1./num_assets for _ in range(num_assets)]\n",
        "optim = minimize(sharpe_ratio, weights, args=(risky_ret, rfasset_ret, covariance2),\n",
        "                bounds=bounds, constraints=constraints)\n",
        "print (optim)"
      ],
      "metadata": {
        "colab": {
          "base_uri": "https://localhost:8080/"
        },
        "id": "rjK3DWef8wah",
        "outputId": "0280a494-a976-44fd-ff2e-1986c86b3570",
        "pycharm": {
          "name": "#%%\n"
        }
      },
      "execution_count": null,
      "outputs": [
        {
          "output_type": "stream",
          "name": "stdout",
          "text": [
            "     fun: rf   -2.170959\n",
            "dtype: float64\n",
            "     jac: array([ 0.98509026, -0.0272285 , -0.0265747 ,  2.03527033, -0.02683866,\n",
            "       -0.02712974,  0.88637361,  0.66760734,  0.92691922,  1.92629179,\n",
            "        1.65648463,  0.77277941,  1.79152337, -0.02710456,  0.84802052,\n",
            "        0.33679411, -0.02779543,  0.28532141,  1.72128007,  1.19631907,\n",
            "        0.76906568,  1.71423593,  1.86853758,  0.42300946, -0.02683643,\n",
            "        1.38655755,  1.87713367,  0.70220861,  1.35098019,  0.78108829,\n",
            "        0.42673856,  0.80245849,  0.82200623])\n",
            " message: 'Optimization terminated successfully'\n",
            "    nfev: 552\n",
            "     nit: 16\n",
            "    njev: 16\n",
            "  status: 0\n",
            " success: True\n",
            "       x: array([0.00000000e+00, 1.96798870e-01, 1.29748262e-01, 0.00000000e+00,\n",
            "       2.49568494e-01, 1.99325420e-01, 3.83292182e-15, 0.00000000e+00,\n",
            "       1.71679137e-15, 1.27319916e-15, 2.53791341e-16, 0.00000000e+00,\n",
            "       2.53773081e-16, 9.60797557e-02, 0.00000000e+00, 0.00000000e+00,\n",
            "       8.73422108e-02, 0.00000000e+00, 0.00000000e+00, 2.02341902e-16,\n",
            "       0.00000000e+00, 1.71747235e-15, 0.00000000e+00, 0.00000000e+00,\n",
            "       4.11369864e-02, 0.00000000e+00, 1.08081558e-15, 3.78366217e-16,\n",
            "       8.12297844e-16, 4.33519070e-16, 0.00000000e+00, 0.00000000e+00,\n",
            "       0.00000000e+00])\n"
          ]
        }
      ]
    },
    {
      "cell_type": "code",
      "source": [
        "print (\"Sharpe ratio: \", -optim.fun)"
      ],
      "metadata": {
        "colab": {
          "base_uri": "https://localhost:8080/"
        },
        "id": "-5Q08gRq83Su",
        "outputId": "37e7f71b-555b-41dc-c5d2-27857574e3f8",
        "pycharm": {
          "name": "#%%\n"
        }
      },
      "execution_count": null,
      "outputs": [
        {
          "output_type": "stream",
          "name": "stdout",
          "text": [
            "Sharpe ratio:  rf    2.170959\n",
            "dtype: float64\n"
          ]
        }
      ]
    },
    {
      "cell_type": "code",
      "source": [
        "\n",
        "ptf_ret = risky_ret.dot(optim.x)\n",
        "ptf_vol = np.sqrt(optim.x.T.dot(covariance2.dot(optim.x)))\n",
        "print(ptf_ret)\n",
        "print(ptf_vol)"
      ],
      "metadata": {
        "colab": {
          "base_uri": "https://localhost:8080/"
        },
        "id": "3WHMOr92EAi2",
        "outputId": "bb4e07a1-d1a7-4de6-c4dc-93faeb7cf2fb"
      },
      "execution_count": null,
      "outputs": [
        {
          "output_type": "stream",
          "name": "stdout",
          "text": [
            "0.3308124821203044\n",
            "0.15050566021914216\n"
          ]
        }
      ]
    },
    {
      "cell_type": "code",
      "source": [
        "plt.plot(result[:, 0], result[:, 1], linestyle=\"--\", label='EF w/o risk-free')\n",
        "plt.plot(results_rf[:, 0], results_rf[:, 1], label='EF w/ risk-free')\n",
        "plt.scatter([ptf_vol], [ptf_ret], marker='o', s=102, label = \"Sharpe Portfolio\", color='red', zorder=1)\n",
        "plt.xlabel(\"Volatility\")\n",
        "plt.ylabel(\"Expected Return\")\n",
        "plt.grid(True)\n",
        "plt.legend()\n",
        "plt.savefig(\"sharpe_ratio.png\")"
      ],
      "metadata": {
        "colab": {
          "base_uri": "https://localhost:8080/",
          "height": 279
        },
        "id": "jImVi3aR9A0T",
        "outputId": "f089b30e-b96f-4bb0-82d3-3edcad8ef2b4",
        "pycharm": {
          "name": "#%%\n"
        }
      },
      "execution_count": null,
      "outputs": [
        {
          "output_type": "display_data",
          "data": {
            "text/plain": [
              "<Figure size 432x288 with 1 Axes>"
            ],
            "image/png": "[encoded data removed]"
          },
          "metadata": {
            "needs_background": "light"
          }
        }
      ]
    },
    {
      "cell_type": "markdown",
      "source": [
        "* The first objective was to compute an optimized portfolio according to Markowitz Portfolio Theory.\n",
        "The M. Portfolio (efficient ptf) is the one with the lowest risk given a certain level of return (or the highest return given a certain level of volatility). \n",
        "I imposed a target return of 0.32 obtaining the lowest possible standard-deviation . \n",
        "In the first optimization problem there were only risky assets which composed the efficient frontier (a curve representing all efficient portfolios).\n",
        "* In the second optimization problem I've insered also a risk free asset. The efficient frontier obtained is now a straight increasing line (the CAL), starting from the portfolio made of the risk_free asset only. \n",
        "The slope of this line measures the trade off between risk and return (higher slope corresponds to higher returns given higher risk taken by investors). \n",
        "The CAL is tangent to the efficient frontier including risky assets.\n",
        "* The susequent step is the computation of the Sharpe portfolio.\n",
        "The objective, as investor, is to find the portfolio which provide the highest possible return compared to the risk-free investement. The excess of return compared to the additional risk taken is measured by the Sharpe ratio. It is computed by  \n",
        "$\\frac{(R_p-r_f)}{\\sigma_p}$, which means (the difference between the return of portfolio and the risk free rate, divided by the standard deviation of the portfolio. \n",
        "The Sharpe Ratio turned out to be 2.17."
      ],
      "metadata": {
        "id": "aF9o6ylsFaiZ",
        "pycharm": {
          "name": "#%% md\n"
        }
      }
    },
    {
      "cell_type": "code",
      "source": [],
      "metadata": {
        "id": "cAWFWWwsz_zt"
      },
      "execution_count": null,
      "outputs": []
    },
    {
      "cell_type": "markdown",
      "source": [
        "**2-FACTORS MODEL REGRESSIONS ***"
      ],
      "metadata": {
        "id": "IRNQ67cgz8b4"
      }
    },
    {
      "cell_type": "code",
      "source": [
        "sp = data['SP500'].pct_change()\n",
        "s = pd.Series(sp)\n",
        "\n",
        "pd.options.display.max_rows = None\n",
        "#print(s)\n",
        "\n",
        "print(sp.mean())"
      ],
      "metadata": {
        "colab": {
          "base_uri": "https://localhost:8080/"
        },
        "id": "C9Zdj8wrzr4d",
        "outputId": "ed9bf171-1ce6-416d-ec22-e5bdead693fa"
      },
      "execution_count": 2,
      "outputs": [
        {
          "output_type": "stream",
          "name": "stdout",
          "text": [
            "0.00039285977610472916\n"
          ]
        }
      ]
    },
    {
      "cell_type": "code",
      "source": [
        "dataregression= data.copy()\n",
        "dataregression.drop(['rf'], axis=1, inplace=True,errors='ignore')\n",
        "#print(dataregression)\n",
        "returns = dataregression.pct_change()\n",
        "returns= returns.drop(returns.index[0])\n",
        "\n",
        "#log_returns = np.log(returns+1)\n",
        "#print(returns)"
      ],
      "metadata": {
        "id": "MdxUoMg00VtX"
      },
      "execution_count": 5,
      "outputs": []
    },
    {
      "cell_type": "code",
      "source": [
        "data_rf = data.copy()\n",
        "rf= data_rf[[data_rf.columns[-1]]]\n",
        "rf1 = ((1+rf)**(1/252)-1)\n",
        "rf2= rf1.drop(rf1.index[0])\n",
        "#logrf = np.log(rf2+1)\n",
        "#print(logrf)\n",
        "#print(rf2)"
      ],
      "metadata": {
        "id": "dgc9HC3Z06tQ"
      },
      "execution_count": 6,
      "outputs": []
    },
    {
      "cell_type": "code",
      "source": [
        "#excess returns\n",
        "array1 = returns.values\n",
        "array2 = rf2.values\n",
        "\n",
        "result = array1 - array2\n",
        "\n",
        "excess_returns = pd.DataFrame(result, columns=returns.columns)\n",
        "#print(excess_returns)"
      ],
      "metadata": {
        "id": "_xUBpjKI0-KF"
      },
      "execution_count": 7,
      "outputs": []
    },
    {
      "cell_type": "code",
      "source": [
        "from sklearn.impute import SimpleImputer\n",
        "\n",
        "# Replace NaN values with the mean of the column\n",
        "imputer = SimpleImputer(strategy='mean')\n",
        "excess_ret = imputer.fit_transform(excess_returns)\n",
        "#print(excess_ret)\n",
        "excess_returns_2= pd.DataFrame(excess_ret, columns=excess_returns.columns)\n",
        "#print(excess_returns_2)"
      ],
      "metadata": {
        "id": "0xR-EqKO1DQW"
      },
      "execution_count": 8,
      "outputs": []
    },
    {
      "cell_type": "code",
      "source": [
        "#multilinear regressions\n",
        "res = {}\n",
        "tickers = list(excess_returns_2.columns)\n",
        "tickers.remove('SP500')\n",
        "tickers.remove('Brent')\n",
        "for t in tickers:\n",
        "  y = excess_returns_2[t]\n",
        "  X = excess_returns_2[['SP500','Brent']]\n",
        "  X = sm.add_constant(X)\n",
        "  model = sm.OLS(y, X).fit()\n",
        "  print (\"{:.4f}\".format((1+model.params[0])**(252)-1))\n",
        "  print(model.summary())\n",
        "  res[t] = {'params':model.params, 'pvals':model.pvalues}"
      ],
      "metadata": {
        "colab": {
          "base_uri": "https://localhost:8080/"
        },
        "id": "PSpiSwVr1JAi",
        "outputId": "0b52a4ee-a8bd-482d-ca44-d63ac91e3568"
      },
      "execution_count": 9,
      "outputs": [
        {
          "output_type": "stream",
          "name": "stderr",
          "text": [
            "/usr/local/lib/python3.8/dist-packages/statsmodels/tsa/tsatools.py:142: FutureWarning: In a future version of pandas all arguments of concat except for the argument 'objs' will be keyword-only\n",
            "  x = pd.concat(x[::order], 1)\n",
            "/usr/local/lib/python3.8/dist-packages/statsmodels/tsa/tsatools.py:142: FutureWarning: In a future version of pandas all arguments of concat except for the argument 'objs' will be keyword-only\n",
            "  x = pd.concat(x[::order], 1)\n",
            "/usr/local/lib/python3.8/dist-packages/statsmodels/tsa/tsatools.py:142: FutureWarning: In a future version of pandas all arguments of concat except for the argument 'objs' will be keyword-only\n",
            "  x = pd.concat(x[::order], 1)\n",
            "/usr/local/lib/python3.8/dist-packages/statsmodels/tsa/tsatools.py:142: FutureWarning: In a future version of pandas all arguments of concat except for the argument 'objs' will be keyword-only\n",
            "  x = pd.concat(x[::order], 1)\n",
            "/usr/local/lib/python3.8/dist-packages/statsmodels/tsa/tsatools.py:142: FutureWarning: In a future version of pandas all arguments of concat except for the argument 'objs' will be keyword-only\n",
            "  x = pd.concat(x[::order], 1)\n",
            "/usr/local/lib/python3.8/dist-packages/statsmodels/tsa/tsatools.py:142: FutureWarning: In a future version of pandas all arguments of concat except for the argument 'objs' will be keyword-only\n",
            "  x = pd.concat(x[::order], 1)\n",
            "/usr/local/lib/python3.8/dist-packages/statsmodels/tsa/tsatools.py:142: FutureWarning: In a future version of pandas all arguments of concat except for the argument 'objs' will be keyword-only\n",
            "  x = pd.concat(x[::order], 1)\n",
            "/usr/local/lib/python3.8/dist-packages/statsmodels/tsa/tsatools.py:142: FutureWarning: In a future version of pandas all arguments of concat except for the argument 'objs' will be keyword-only\n",
            "  x = pd.concat(x[::order], 1)\n",
            "/usr/local/lib/python3.8/dist-packages/statsmodels/tsa/tsatools.py:142: FutureWarning: In a future version of pandas all arguments of concat except for the argument 'objs' will be keyword-only\n",
            "  x = pd.concat(x[::order], 1)\n",
            "/usr/local/lib/python3.8/dist-packages/statsmodels/tsa/tsatools.py:142: FutureWarning: In a future version of pandas all arguments of concat except for the argument 'objs' will be keyword-only\n",
            "  x = pd.concat(x[::order], 1)\n",
            "/usr/local/lib/python3.8/dist-packages/statsmodels/tsa/tsatools.py:142: FutureWarning: In a future version of pandas all arguments of concat except for the argument 'objs' will be keyword-only\n",
            "  x = pd.concat(x[::order], 1)\n",
            "/usr/local/lib/python3.8/dist-packages/statsmodels/tsa/tsatools.py:142: FutureWarning: In a future version of pandas all arguments of concat except for the argument 'objs' will be keyword-only\n",
            "  x = pd.concat(x[::order], 1)\n",
            "/usr/local/lib/python3.8/dist-packages/statsmodels/tsa/tsatools.py:142: FutureWarning: In a future version of pandas all arguments of concat except for the argument 'objs' will be keyword-only\n",
            "  x = pd.concat(x[::order], 1)\n",
            "/usr/local/lib/python3.8/dist-packages/statsmodels/tsa/tsatools.py:142: FutureWarning: In a future version of pandas all arguments of concat except for the argument 'objs' will be keyword-only\n",
            "  x = pd.concat(x[::order], 1)\n",
            "/usr/local/lib/python3.8/dist-packages/statsmodels/tsa/tsatools.py:142: FutureWarning: In a future version of pandas all arguments of concat except for the argument 'objs' will be keyword-only\n",
            "  x = pd.concat(x[::order], 1)\n",
            "/usr/local/lib/python3.8/dist-packages/statsmodels/tsa/tsatools.py:142: FutureWarning: In a future version of pandas all arguments of concat except for the argument 'objs' will be keyword-only\n",
            "  x = pd.concat(x[::order], 1)\n"
          ]
        },
        {
          "output_type": "stream",
          "name": "stdout",
          "text": [
            "-0.0606\n",
            "                            OLS Regression Results                            \n",
            "==============================================================================\n",
            "Dep. Variable:                    AAP   R-squared:                       0.127\n",
            "Model:                            OLS   Adj. R-squared:                  0.125\n",
            "Method:                 Least Squares   F-statistic:                     72.97\n",
            "Date:                Wed, 01 Feb 2023   Prob (F-statistic):           2.60e-30\n",
            "Time:                        21:14:35   Log-Likelihood:                 2591.2\n",
            "No. Observations:                1006   AIC:                            -5176.\n",
            "Df Residuals:                    1003   BIC:                            -5162.\n",
            "Df Model:                           2                                         \n",
            "Covariance Type:            nonrobust                                         \n",
            "==============================================================================\n",
            "                 coef    std err          t      P>|t|      [0.025      0.975]\n",
            "------------------------------------------------------------------------------\n",
            "const         -0.0002      0.001     -0.426      0.670      -0.001       0.001\n",
            "SP500          0.9145      0.076     11.976      0.000       0.765       1.064\n",
            "Brent         -0.0517      0.026     -2.005      0.045      -0.102      -0.001\n",
            "==============================================================================\n",
            "Omnibus:                      336.819   Durbin-Watson:                   2.065\n",
            "Prob(Omnibus):                  0.000   Jarque-Bera (JB):            39936.136\n",
            "Skew:                          -0.424   Prob(JB):                         0.00\n",
            "Kurtosis:                      33.855   Cond. No.                         132.\n",
            "==============================================================================\n",
            "\n",
            "Notes:\n",
            "[1] Standard Errors assume that the covariance matrix of the errors is correctly specified.\n",
            "0.7795\n",
            "                            OLS Regression Results                            \n",
            "==============================================================================\n",
            "Dep. Variable:                   ABMD   R-squared:                       0.112\n",
            "Model:                            OLS   Adj. R-squared:                  0.110\n",
            "Method:                 Least Squares   F-statistic:                     63.04\n",
            "Date:                Wed, 01 Feb 2023   Prob (F-statistic):           1.63e-26\n",
            "Time:                        21:14:35   Log-Likelihood:                 2273.1\n",
            "No. Observations:                1006   AIC:                            -4540.\n",
            "Df Residuals:                    1003   BIC:                            -4525.\n",
            "Df Model:                           2                                         \n",
            "Covariance Type:            nonrobust                                         \n",
            "==============================================================================\n",
            "                 coef    std err          t      P>|t|      [0.025      0.975]\n",
            "------------------------------------------------------------------------------\n",
            "const          0.0023      0.001      2.867      0.004       0.001       0.004\n",
            "SP500          1.1718      0.105     11.186      0.000       0.966       1.377\n",
            "Brent         -0.0834      0.035     -2.360      0.018      -0.153      -0.014\n",
            "==============================================================================\n",
            "Omnibus:                      611.349   Durbin-Watson:                   2.022\n",
            "Prob(Omnibus):                  0.000   Jarque-Bera (JB):           101836.743\n",
            "Skew:                           1.727   Prob(JB):                         0.00\n",
            "Kurtosis:                      52.169   Cond. No.                         132.\n",
            "==============================================================================\n",
            "\n",
            "Notes:\n",
            "[1] Standard Errors assume that the covariance matrix of the errors is correctly specified.\n",
            "0.2040\n",
            "                            OLS Regression Results                            \n",
            "==============================================================================\n",
            "Dep. Variable:                    AOS   R-squared:                       0.458\n",
            "Model:                            OLS   Adj. R-squared:                  0.457\n",
            "Method:                 Least Squares   F-statistic:                     423.8\n",
            "Date:                Wed, 01 Feb 2023   Prob (F-statistic):          3.86e-134\n",
            "Time:                        21:14:35   Log-Likelihood:                 3179.5\n",
            "No. Observations:                1006   AIC:                            -6353.\n",
            "Df Residuals:                    1003   BIC:                            -6338.\n",
            "Df Model:                           2                                         \n",
            "Covariance Type:            nonrobust                                         \n",
            "==============================================================================\n",
            "                 coef    std err          t      P>|t|      [0.025      0.975]\n",
            "------------------------------------------------------------------------------\n",
            "const          0.0007      0.000      2.271      0.023       0.000       0.001\n",
            "SP500          1.1883      0.043     27.928      0.000       1.105       1.272\n",
            "Brent         -0.0050      0.014     -0.352      0.725      -0.033       0.023\n",
            "==============================================================================\n",
            "Omnibus:                      308.041   Durbin-Watson:                   2.042\n",
            "Prob(Omnibus):                  0.000   Jarque-Bera (JB):             4665.037\n",
            "Skew:                           0.975   Prob(JB):                         0.00\n",
            "Kurtosis:                      13.368   Cond. No.                         132.\n",
            "==============================================================================\n",
            "\n",
            "Notes:\n",
            "[1] Standard Errors assume that the covariance matrix of the errors is correctly specified.\n",
            "-0.1434\n",
            "                            OLS Regression Results                            \n",
            "==============================================================================\n",
            "Dep. Variable:                    APA   R-squared:                       0.444\n",
            "Model:                            OLS   Adj. R-squared:                  0.443\n",
            "Method:                 Least Squares   F-statistic:                     400.1\n",
            "Date:                Wed, 01 Feb 2023   Prob (F-statistic):          1.76e-128\n",
            "Time:                        21:14:35   Log-Likelihood:                 2607.8\n",
            "No. Observations:                1006   AIC:                            -5210.\n",
            "Df Residuals:                    1003   BIC:                            -5195.\n",
            "Df Model:                           2                                         \n",
            "Covariance Type:            nonrobust                                         \n",
            "==============================================================================\n",
            "                 coef    std err          t      P>|t|      [0.025      0.975]\n",
            "------------------------------------------------------------------------------\n",
            "const         -0.0006      0.001     -1.072      0.284      -0.002       0.001\n",
            "SP500          1.0294      0.075     13.705      0.000       0.882       1.177\n",
            "Brent          0.4972      0.025     19.620      0.000       0.447       0.547\n",
            "==============================================================================\n",
            "Omnibus:                      195.781   Durbin-Watson:                   1.959\n",
            "Prob(Omnibus):                  0.000   Jarque-Bera (JB):             1723.975\n",
            "Skew:                           0.621   Prob(JB):                         0.00\n",
            "Kurtosis:                       9.292   Cond. No.                         132.\n",
            "==============================================================================\n",
            "\n",
            "Notes:\n",
            "[1] Standard Errors assume that the covariance matrix of the errors is correctly specified.\n",
            "0.1292\n",
            "                            OLS Regression Results                            \n",
            "==============================================================================\n",
            "Dep. Variable:                    ATO   R-squared:                       0.168\n",
            "Model:                            OLS   Adj. R-squared:                  0.166\n",
            "Method:                 Least Squares   F-statistic:                     101.1\n",
            "Date:                Wed, 01 Feb 2023   Prob (F-statistic):           9.75e-41\n",
            "Time:                        21:14:35   Log-Likelihood:                 3245.1\n",
            "No. Observations:                1006   AIC:                            -6484.\n",
            "Df Residuals:                    1003   BIC:                            -6469.\n",
            "Df Model:                           2                                         \n",
            "Covariance Type:            nonrobust                                         \n",
            "==============================================================================\n",
            "                 coef    std err          t      P>|t|      [0.025      0.975]\n",
            "------------------------------------------------------------------------------\n",
            "const          0.0005      0.000      1.587      0.113      -0.000       0.001\n",
            "SP500          0.5653      0.040     14.181      0.000       0.487       0.644\n",
            "Brent         -0.0422      0.013     -3.140      0.002      -0.069      -0.016\n",
            "==============================================================================\n",
            "Omnibus:                       43.056   Durbin-Watson:                   2.115\n",
            "Prob(Omnibus):                  0.000   Jarque-Bera (JB):              103.906\n",
            "Skew:                          -0.199   Prob(JB):                     2.74e-23\n",
            "Kurtosis:                       4.523   Cond. No.                         132.\n",
            "==============================================================================\n",
            "\n",
            "Notes:\n",
            "[1] Standard Errors assume that the covariance matrix of the errors is correctly specified.\n",
            "0.1649\n",
            "                            OLS Regression Results                            \n",
            "==============================================================================\n",
            "Dep. Variable:                   CBOE   R-squared:                       0.115\n",
            "Model:                            OLS   Adj. R-squared:                  0.113\n",
            "Method:                 Least Squares   F-statistic:                     65.16\n",
            "Date:                Wed, 01 Feb 2023   Prob (F-statistic):           2.47e-27\n",
            "Time:                        21:14:35   Log-Likelihood:                 3059.2\n",
            "No. Observations:                1006   AIC:                            -6112.\n",
            "Df Residuals:                    1003   BIC:                            -6098.\n",
            "Df Model:                           2                                         \n",
            "Covariance Type:            nonrobust                                         \n",
            "==============================================================================\n",
            "                 coef    std err          t      P>|t|      [0.025      0.975]\n",
            "------------------------------------------------------------------------------\n",
            "const          0.0006      0.000      1.657      0.098      -0.000       0.001\n",
            "SP500          0.5449      0.048     11.363      0.000       0.451       0.639\n",
            "Brent         -0.0711      0.016     -4.397      0.000      -0.103      -0.039\n",
            "==============================================================================\n",
            "Omnibus:                      356.916   Durbin-Watson:                   1.935\n",
            "Prob(Omnibus):                  0.000   Jarque-Bera (JB):             5473.261\n",
            "Skew:                          -1.197   Prob(JB):                         0.00\n",
            "Kurtosis:                      14.174   Cond. No.                         132.\n",
            "==============================================================================\n",
            "\n",
            "Notes:\n",
            "[1] Standard Errors assume that the covariance matrix of the errors is correctly specified.\n",
            "-0.0192\n",
            "                            OLS Regression Results                            \n",
            "==============================================================================\n",
            "Dep. Variable:                    COP   R-squared:                       0.524\n",
            "Model:                            OLS   Adj. R-squared:                  0.523\n",
            "Method:                 Least Squares   F-statistic:                     551.2\n",
            "Date:                Wed, 01 Feb 2023   Prob (F-statistic):          3.12e-162\n",
            "Time:                        21:14:35   Log-Likelihood:                 2900.3\n",
            "No. Observations:                1006   AIC:                            -5795.\n",
            "Df Residuals:                    1003   BIC:                            -5780.\n",
            "Df Model:                           2                                         \n",
            "Covariance Type:            nonrobust                                         \n",
            "==============================================================================\n",
            "                 coef    std err          t      P>|t|      [0.025      0.975]\n",
            "------------------------------------------------------------------------------\n",
            "const       -7.69e-05      0.000     -0.180      0.858      -0.001       0.001\n",
            "SP500          0.9368      0.056     16.680      0.000       0.827       1.047\n",
            "Brent          0.4269      0.019     22.532      0.000       0.390       0.464\n",
            "==============================================================================\n",
            "Omnibus:                      163.200   Durbin-Watson:                   1.859\n",
            "Prob(Omnibus):                  0.000   Jarque-Bera (JB):             1058.859\n",
            "Skew:                           0.561   Prob(JB):                    1.18e-230\n",
            "Kurtosis:                       7.899   Cond. No.                         132.\n",
            "==============================================================================\n",
            "\n",
            "Notes:\n",
            "[1] Standard Errors assume that the covariance matrix of the errors is correctly specified.\n",
            "-0.0138\n",
            "                            OLS Regression Results                            \n",
            "==============================================================================\n",
            "Dep. Variable:                    CVX   R-squared:                       0.542\n",
            "Model:                            OLS   Adj. R-squared:                  0.541\n",
            "Method:                 Least Squares   F-statistic:                     594.3\n",
            "Date:                Wed, 01 Feb 2023   Prob (F-statistic):          5.88e-171\n",
            "Time:                        21:14:35   Log-Likelihood:                 3278.7\n",
            "No. Observations:                1006   AIC:                            -6551.\n",
            "Df Residuals:                    1003   BIC:                            -6537.\n",
            "Df Model:                           2                                         \n",
            "Covariance Type:            nonrobust                                         \n",
            "==============================================================================\n",
            "                 coef    std err          t      P>|t|      [0.025      0.975]\n",
            "------------------------------------------------------------------------------\n",
            "const      -5.507e-05      0.000     -0.187      0.851      -0.001       0.001\n",
            "SP500          0.9155      0.039     23.745      0.000       0.840       0.991\n",
            "Brent          0.2199      0.013     16.903      0.000       0.194       0.245\n",
            "==============================================================================\n",
            "Omnibus:                      143.202   Durbin-Watson:                   1.905\n",
            "Prob(Omnibus):                  0.000   Jarque-Bera (JB):              947.287\n",
            "Skew:                           0.448   Prob(JB):                    1.99e-206\n",
            "Kurtosis:                       7.669   Cond. No.                         132.\n",
            "==============================================================================\n",
            "\n",
            "Notes:\n",
            "[1] Standard Errors assume that the covariance matrix of the errors is correctly specified.\n",
            "-0.0678\n",
            "                            OLS Regression Results                            \n",
            "==============================================================================\n",
            "Dep. Variable:                    DVA   R-squared:                       0.194\n",
            "Model:                            OLS   Adj. R-squared:                  0.193\n",
            "Method:                 Least Squares   F-statistic:                     121.0\n",
            "Date:                Wed, 01 Feb 2023   Prob (F-statistic):           8.75e-48\n",
            "Time:                        21:14:35   Log-Likelihood:                 3010.4\n",
            "No. Observations:                1006   AIC:                            -6015.\n",
            "Df Residuals:                    1003   BIC:                            -6000.\n",
            "Df Model:                           2                                         \n",
            "Covariance Type:            nonrobust                                         \n",
            "==============================================================================\n",
            "                 coef    std err          t      P>|t|      [0.025      0.975]\n",
            "------------------------------------------------------------------------------\n",
            "const         -0.0003      0.000     -0.725      0.468      -0.001       0.000\n",
            "SP500          0.7688      0.050     15.272      0.000       0.670       0.868\n",
            "Brent         -0.0285      0.017     -1.680      0.093      -0.062       0.005\n",
            "==============================================================================\n",
            "Omnibus:                      294.603   Durbin-Watson:                   2.137\n",
            "Prob(Omnibus):                  0.000   Jarque-Bera (JB):            28433.133\n",
            "Skew:                          -0.153   Prob(JB):                         0.00\n",
            "Kurtosis:                      29.043   Cond. No.                         132.\n",
            "==============================================================================\n",
            "\n",
            "Notes:\n",
            "[1] Standard Errors assume that the covariance matrix of the errors is correctly specified.\n",
            "-0.1289\n",
            "                            OLS Regression Results                            \n",
            "==============================================================================\n",
            "Dep. Variable:                    DVN   R-squared:                       0.461\n",
            "Model:                            OLS   Adj. R-squared:                  0.460\n",
            "Method:                 Least Squares   F-statistic:                     428.6\n",
            "Date:                Wed, 01 Feb 2023   Prob (F-statistic):          2.93e-135\n",
            "Time:                        21:14:35   Log-Likelihood:                 2520.2\n",
            "No. Observations:                1006   AIC:                            -5034.\n",
            "Df Residuals:                    1003   BIC:                            -5020.\n",
            "Df Model:                           2                                         \n",
            "Covariance Type:            nonrobust                                         \n",
            "==============================================================================\n",
            "                 coef    std err          t      P>|t|      [0.025      0.975]\n",
            "------------------------------------------------------------------------------\n",
            "const         -0.0005      0.001     -0.876      0.381      -0.002       0.001\n",
            "SP500          1.1405      0.082     13.918      0.000       0.980       1.301\n",
            "Brent          0.5674      0.028     20.525      0.000       0.513       0.622\n",
            "==============================================================================\n",
            "Omnibus:                      113.731   Durbin-Watson:                   2.058\n",
            "Prob(Omnibus):                  0.000   Jarque-Bera (JB):              764.394\n",
            "Skew:                           0.249   Prob(JB):                    1.03e-166\n",
            "Kurtosis:                       7.241   Cond. No.                         132.\n",
            "==============================================================================\n",
            "\n",
            "Notes:\n",
            "[1] Standard Errors assume that the covariance matrix of the errors is correctly specified.\n",
            "0.0009\n",
            "                            OLS Regression Results                            \n",
            "==============================================================================\n",
            "Dep. Variable:                     ET   R-squared:                       0.202\n",
            "Model:                            OLS   Adj. R-squared:                  0.201\n",
            "Method:                 Least Squares   F-statistic:                     127.2\n",
            "Date:                Wed, 01 Feb 2023   Prob (F-statistic):           5.73e-50\n",
            "Time:                        21:14:35   Log-Likelihood:                 2014.9\n",
            "No. Observations:                1006   AIC:                            -4024.\n",
            "Df Residuals:                    1003   BIC:                            -4009.\n",
            "Df Model:                           2                                         \n",
            "Covariance Type:            nonrobust                                         \n",
            "==============================================================================\n",
            "                 coef    std err          t      P>|t|      [0.025      0.975]\n",
            "------------------------------------------------------------------------------\n",
            "const       3.704e-06      0.001      0.004      0.997      -0.002       0.002\n",
            "SP500          1.4042      0.135     10.369      0.000       1.138       1.670\n",
            "Brent          0.3899      0.046      8.535      0.000       0.300       0.480\n",
            "==============================================================================\n",
            "Omnibus:                      316.706   Durbin-Watson:                   1.908\n",
            "Prob(Omnibus):                  0.000   Jarque-Bera (JB):            33955.463\n",
            "Skew:                          -0.320   Prob(JB):                         0.00\n",
            "Kurtosis:                      31.455   Cond. No.                         132.\n",
            "==============================================================================\n",
            "\n",
            "Notes:\n",
            "[1] Standard Errors assume that the covariance matrix of the errors is correctly specified.\n",
            "0.0095\n",
            "                            OLS Regression Results                            \n",
            "==============================================================================\n",
            "Dep. Variable:                   FFIV   R-squared:                       0.240\n",
            "Model:                            OLS   Adj. R-squared:                  0.239\n",
            "Method:                 Least Squares   F-statistic:                     158.7\n",
            "Date:                Wed, 01 Feb 2023   Prob (F-statistic):           1.30e-60\n",
            "Time:                        21:14:35   Log-Likelihood:                 2853.7\n",
            "No. Observations:                1006   AIC:                            -5701.\n",
            "Df Residuals:                    1003   BIC:                            -5687.\n",
            "Df Model:                           2                                         \n",
            "Covariance Type:            nonrobust                                         \n",
            "==============================================================================\n",
            "                 coef    std err          t      P>|t|      [0.025      0.975]\n",
            "------------------------------------------------------------------------------\n",
            "const        3.75e-05      0.000      0.084      0.933      -0.001       0.001\n",
            "SP500          1.0097      0.059     17.166      0.000       0.894       1.125\n",
            "Brent         -0.0097      0.020     -0.489      0.625      -0.049       0.029\n",
            "==============================================================================\n",
            "Omnibus:                      255.835   Durbin-Watson:                   2.158\n",
            "Prob(Omnibus):                  0.000   Jarque-Bera (JB):            13402.510\n",
            "Skew:                          -0.185   Prob(JB):                         0.00\n",
            "Kurtosis:                      20.877   Cond. No.                         132.\n",
            "==============================================================================\n",
            "\n",
            "Notes:\n",
            "[1] Standard Errors assume that the covariance matrix of the errors is correctly specified.\n",
            "-0.1407\n",
            "                            OLS Regression Results                            \n",
            "==============================================================================\n",
            "Dep. Variable:                    FTI   R-squared:                       0.400\n",
            "Model:                            OLS   Adj. R-squared:                  0.399\n",
            "Method:                 Least Squares   F-statistic:                     334.9\n",
            "Date:                Wed, 01 Feb 2023   Prob (F-statistic):          3.83e-112\n",
            "Time:                        21:14:35   Log-Likelihood:                 2741.4\n",
            "No. Observations:                1006   AIC:                            -5477.\n",
            "Df Residuals:                    1003   BIC:                            -5462.\n",
            "Df Model:                           2                                         \n",
            "Covariance Type:            nonrobust                                         \n",
            "==============================================================================\n",
            "                 coef    std err          t      P>|t|      [0.025      0.975]\n",
            "------------------------------------------------------------------------------\n",
            "const         -0.0006      0.001     -1.200      0.230      -0.002       0.000\n",
            "SP500          0.9894      0.066     15.044      0.000       0.860       1.119\n",
            "Brent          0.3485      0.022     15.704      0.000       0.305       0.392\n",
            "==============================================================================\n",
            "Omnibus:                       59.168   Durbin-Watson:                   2.053\n",
            "Prob(Omnibus):                  0.000   Jarque-Bera (JB):              226.417\n",
            "Skew:                          -0.048   Prob(JB):                     6.83e-50\n",
            "Kurtosis:                       5.322   Cond. No.                         132.\n",
            "==============================================================================\n",
            "\n",
            "Notes:\n",
            "[1] Standard Errors assume that the covariance matrix of the errors is correctly specified.\n",
            "0.1908\n",
            "                            OLS Regression Results                            \n",
            "==============================================================================\n",
            "Dep. Variable:                    HII   R-squared:                       0.278\n",
            "Model:                            OLS   Adj. R-squared:                  0.276\n",
            "Method:                 Least Squares   F-statistic:                     193.0\n",
            "Date:                Wed, 01 Feb 2023   Prob (F-statistic):           1.19e-71\n",
            "Time:                        21:14:35   Log-Likelihood:                 2939.9\n",
            "No. Observations:                1006   AIC:                            -5874.\n",
            "Df Residuals:                    1003   BIC:                            -5859.\n",
            "Df Model:                           2                                         \n",
            "Covariance Type:            nonrobust                                         \n",
            "==============================================================================\n",
            "                 coef    std err          t      P>|t|      [0.025      0.975]\n",
            "------------------------------------------------------------------------------\n",
            "const          0.0007      0.000      1.684      0.092      -0.000       0.002\n",
            "SP500          1.0256      0.054     18.994      0.000       0.920       1.132\n",
            "Brent         -0.0142      0.018     -0.780      0.435      -0.050       0.022\n",
            "==============================================================================\n",
            "Omnibus:                      239.937   Durbin-Watson:                   2.012\n",
            "Prob(Omnibus):                  0.000   Jarque-Bera (JB):             4495.775\n",
            "Skew:                           0.579   Prob(JB):                         0.00\n",
            "Kurtosis:                      13.291   Cond. No.                         132.\n",
            "==============================================================================\n",
            "\n",
            "Notes:\n",
            "[1] Standard Errors assume that the covariance matrix of the errors is correctly specified.\n",
            "-0.0504\n",
            "                            OLS Regression Results                            \n",
            "==============================================================================\n",
            "Dep. Variable:                   HSIC   R-squared:                       0.319\n",
            "Model:                            OLS   Adj. R-squared:                  0.318\n",
            "Method:                 Least Squares   F-statistic:                     234.8\n",
            "Date:                Wed, 01 Feb 2023   Prob (F-statistic):           2.23e-84\n",
            "Time:                        21:14:35   Log-Likelihood:                 3158.4\n",
            "No. Observations:                1006   AIC:                            -6311.\n",
            "Df Residuals:                    1003   BIC:                            -6296.\n",
            "Df Model:                           2                                         \n",
            "Covariance Type:            nonrobust                                         \n",
            "==============================================================================\n",
            "                 coef    std err          t      P>|t|      [0.025      0.975]\n",
            "------------------------------------------------------------------------------\n",
            "const         -0.0002      0.000     -0.619      0.536      -0.001       0.000\n",
            "SP500          0.9412      0.043     21.661      0.000       0.856       1.026\n",
            "Brent         -0.0838      0.015     -5.714      0.000      -0.113      -0.055\n",
            "==============================================================================\n",
            "Omnibus:                      524.066   Durbin-Watson:                   2.166\n",
            "Prob(Omnibus):                  0.000   Jarque-Bera (JB):            17754.888\n",
            "Skew:                          -1.754   Prob(JB):                         0.00\n",
            "Kurtosis:                      23.280   Cond. No.                         132.\n",
            "==============================================================================\n",
            "\n",
            "Notes:\n",
            "[1] Standard Errors assume that the covariance matrix of the errors is correctly specified.\n",
            "0.0381\n",
            "                            OLS Regression Results                            \n",
            "==============================================================================\n",
            "Dep. Variable:                    IFF   R-squared:                       0.375\n",
            "Model:                            OLS   Adj. R-squared:                  0.374\n",
            "Method:                 Least Squares   F-statistic:                     301.3\n",
            "Date:                Wed, 01 Feb 2023   Prob (F-statistic):          3.40e-103\n",
            "Time:                        21:14:35   Log-Likelihood:                 3205.9\n",
            "No. Observations:                1006   AIC:                            -6406.\n",
            "Df Residuals:                    1003   BIC:                            -6391.\n",
            "Df Model:                           2                                         \n",
            "Covariance Type:            nonrobust                                         \n",
            "==============================================================================\n",
            "                 coef    std err          t      P>|t|      [0.025      0.975]\n",
            "------------------------------------------------------------------------------\n",
            "const          0.0001      0.000      0.470      0.639      -0.000       0.001\n",
            "SP500          0.9421      0.041     22.730      0.000       0.861       1.023\n",
            "Brent          0.0304      0.014      2.171      0.030       0.003       0.058\n",
            "==============================================================================\n",
            "Omnibus:                      513.587   Durbin-Watson:                   2.068\n",
            "Prob(Omnibus):                  0.000   Jarque-Bera (JB):            20891.767\n",
            "Skew:                          -1.645   Prob(JB):                         0.00\n",
            "Kurtosis:                      25.081   Cond. No.                         132.\n",
            "==============================================================================\n",
            "\n",
            "Notes:\n",
            "[1] Standard Errors assume that the covariance matrix of the errors is correctly specified.\n",
            "0.2738\n",
            "                            OLS Regression Results                            \n",
            "==============================================================================\n",
            "Dep. Variable:                   IPGP   R-squared:                       0.244\n",
            "Model:                            OLS   Adj. R-squared:                  0.243\n",
            "Method:                 Least Squares   F-statistic:                     162.1\n",
            "Date:                Wed, 01 Feb 2023   Prob (F-statistic):           9.75e-62\n",
            "Time:                        21:14:35   Log-Likelihood:                 2670.4\n",
            "No. Observations:                1006   AIC:                            -5335.\n",
            "Df Residuals:                    1003   BIC:                            -5320.\n",
            "Df Model:                           2                                         \n",
            "Covariance Type:            nonrobust                                         \n",
            "==============================================================================\n",
            "                 coef    std err          t      P>|t|      [0.025      0.975]\n",
            "------------------------------------------------------------------------------\n",
            "const          0.0010      0.001      1.786      0.074    -9.5e-05       0.002\n",
            "SP500          1.2488      0.071     17.694      0.000       1.110       1.387\n",
            "Brent         -0.0478      0.024     -2.007      0.045      -0.095      -0.001\n",
            "==============================================================================\n",
            "Omnibus:                      253.805   Durbin-Watson:                   2.013\n",
            "Prob(Omnibus):                  0.000   Jarque-Bera (JB):            11100.486\n",
            "Skew:                           0.293   Prob(JB):                         0.00\n",
            "Kurtosis:                      19.263   Cond. No.                         132.\n",
            "==============================================================================\n",
            "\n",
            "Notes:\n",
            "[1] Standard Errors assume that the covariance matrix of the errors is correctly specified.\n"
          ]
        },
        {
          "output_type": "stream",
          "name": "stderr",
          "text": [
            "/usr/local/lib/python3.8/dist-packages/statsmodels/tsa/tsatools.py:142: FutureWarning: In a future version of pandas all arguments of concat except for the argument 'objs' will be keyword-only\n",
            "  x = pd.concat(x[::order], 1)\n",
            "/usr/local/lib/python3.8/dist-packages/statsmodels/tsa/tsatools.py:142: FutureWarning: In a future version of pandas all arguments of concat except for the argument 'objs' will be keyword-only\n",
            "  x = pd.concat(x[::order], 1)\n",
            "/usr/local/lib/python3.8/dist-packages/statsmodels/tsa/tsatools.py:142: FutureWarning: In a future version of pandas all arguments of concat except for the argument 'objs' will be keyword-only\n",
            "  x = pd.concat(x[::order], 1)\n",
            "/usr/local/lib/python3.8/dist-packages/statsmodels/tsa/tsatools.py:142: FutureWarning: In a future version of pandas all arguments of concat except for the argument 'objs' will be keyword-only\n",
            "  x = pd.concat(x[::order], 1)\n",
            "/usr/local/lib/python3.8/dist-packages/statsmodels/tsa/tsatools.py:142: FutureWarning: In a future version of pandas all arguments of concat except for the argument 'objs' will be keyword-only\n",
            "  x = pd.concat(x[::order], 1)\n",
            "/usr/local/lib/python3.8/dist-packages/statsmodels/tsa/tsatools.py:142: FutureWarning: In a future version of pandas all arguments of concat except for the argument 'objs' will be keyword-only\n",
            "  x = pd.concat(x[::order], 1)\n",
            "/usr/local/lib/python3.8/dist-packages/statsmodels/tsa/tsatools.py:142: FutureWarning: In a future version of pandas all arguments of concat except for the argument 'objs' will be keyword-only\n",
            "  x = pd.concat(x[::order], 1)\n",
            "/usr/local/lib/python3.8/dist-packages/statsmodels/tsa/tsatools.py:142: FutureWarning: In a future version of pandas all arguments of concat except for the argument 'objs' will be keyword-only\n",
            "  x = pd.concat(x[::order], 1)\n",
            "/usr/local/lib/python3.8/dist-packages/statsmodels/tsa/tsatools.py:142: FutureWarning: In a future version of pandas all arguments of concat except for the argument 'objs' will be keyword-only\n",
            "  x = pd.concat(x[::order], 1)\n",
            "/usr/local/lib/python3.8/dist-packages/statsmodels/tsa/tsatools.py:142: FutureWarning: In a future version of pandas all arguments of concat except for the argument 'objs' will be keyword-only\n",
            "  x = pd.concat(x[::order], 1)\n",
            "/usr/local/lib/python3.8/dist-packages/statsmodels/tsa/tsatools.py:142: FutureWarning: In a future version of pandas all arguments of concat except for the argument 'objs' will be keyword-only\n",
            "  x = pd.concat(x[::order], 1)\n",
            "/usr/local/lib/python3.8/dist-packages/statsmodels/tsa/tsatools.py:142: FutureWarning: In a future version of pandas all arguments of concat except for the argument 'objs' will be keyword-only\n",
            "  x = pd.concat(x[::order], 1)\n",
            "/usr/local/lib/python3.8/dist-packages/statsmodels/tsa/tsatools.py:142: FutureWarning: In a future version of pandas all arguments of concat except for the argument 'objs' will be keyword-only\n",
            "  x = pd.concat(x[::order], 1)\n",
            "/usr/local/lib/python3.8/dist-packages/statsmodels/tsa/tsatools.py:142: FutureWarning: In a future version of pandas all arguments of concat except for the argument 'objs' will be keyword-only\n",
            "  x = pd.concat(x[::order], 1)\n",
            "/usr/local/lib/python3.8/dist-packages/statsmodels/tsa/tsatools.py:142: FutureWarning: In a future version of pandas all arguments of concat except for the argument 'objs' will be keyword-only\n",
            "  x = pd.concat(x[::order], 1)\n",
            "/usr/local/lib/python3.8/dist-packages/statsmodels/tsa/tsatools.py:142: FutureWarning: In a future version of pandas all arguments of concat except for the argument 'objs' will be keyword-only\n",
            "  x = pd.concat(x[::order], 1)\n",
            "/usr/local/lib/python3.8/dist-packages/statsmodels/tsa/tsatools.py:142: FutureWarning: In a future version of pandas all arguments of concat except for the argument 'objs' will be keyword-only\n",
            "  x = pd.concat(x[::order], 1)\n"
          ]
        },
        {
          "output_type": "stream",
          "name": "stdout",
          "text": [
            "0.0575\n",
            "                            OLS Regression Results                            \n",
            "==============================================================================\n",
            "Dep. Variable:                    IRM   R-squared:                       0.190\n",
            "Model:                            OLS   Adj. R-squared:                  0.188\n",
            "Method:                 Least Squares   F-statistic:                     117.7\n",
            "Date:                Wed, 01 Feb 2023   Prob (F-statistic):           1.19e-46\n",
            "Time:                        21:14:35   Log-Likelihood:                 2853.7\n",
            "No. Observations:                1006   AIC:                            -5701.\n",
            "Df Residuals:                    1003   BIC:                            -5687.\n",
            "Df Model:                           2                                         \n",
            "Covariance Type:            nonrobust                                         \n",
            "==============================================================================\n",
            "                 coef    std err          t      P>|t|      [0.025      0.975]\n",
            "------------------------------------------------------------------------------\n",
            "const          0.0002      0.000      0.495      0.621      -0.001       0.001\n",
            "SP500          0.8779      0.059     14.925      0.000       0.762       0.993\n",
            "Brent         -0.0196      0.020     -0.986      0.324      -0.059       0.019\n",
            "==============================================================================\n",
            "Omnibus:                      735.834   Durbin-Watson:                   1.995\n",
            "Prob(Omnibus):                  0.000   Jarque-Bera (JB):            75312.514\n",
            "Skew:                           2.551   Prob(JB):                         0.00\n",
            "Kurtosis:                      45.080   Cond. No.                         132.\n",
            "==============================================================================\n",
            "\n",
            "Notes:\n",
            "[1] Standard Errors assume that the covariance matrix of the errors is correctly specified.\n",
            "-0.1074\n",
            "                            OLS Regression Results                            \n",
            "==============================================================================\n",
            "Dep. Variable:                    IVZ   R-squared:                       0.606\n",
            "Model:                            OLS   Adj. R-squared:                  0.605\n",
            "Method:                 Least Squares   F-statistic:                     771.6\n",
            "Date:                Wed, 01 Feb 2023   Prob (F-statistic):          1.25e-203\n",
            "Time:                        21:14:35   Log-Likelihood:                 3203.3\n",
            "No. Observations:                1006   AIC:                            -6401.\n",
            "Df Residuals:                    1003   BIC:                            -6386.\n",
            "Df Model:                           2                                         \n",
            "Covariance Type:            nonrobust                                         \n",
            "==============================================================================\n",
            "                 coef    std err          t      P>|t|      [0.025      0.975]\n",
            "------------------------------------------------------------------------------\n",
            "const         -0.0005      0.000     -1.423      0.155      -0.001       0.000\n",
            "SP500          1.5242      0.042     36.677      0.000       1.443       1.606\n",
            "Brent          0.0373      0.014      2.660      0.008       0.010       0.065\n",
            "==============================================================================\n",
            "Omnibus:                      236.939   Durbin-Watson:                   1.871\n",
            "Prob(Omnibus):                  0.000   Jarque-Bera (JB):             2205.024\n",
            "Skew:                          -0.799   Prob(JB):                         0.00\n",
            "Kurtosis:                      10.075   Cond. No.                         132.\n",
            "==============================================================================\n",
            "\n",
            "Notes:\n",
            "[1] Standard Errors assume that the covariance matrix of the errors is correctly specified.\n",
            "-0.0537\n",
            "                            OLS Regression Results                            \n",
            "==============================================================================\n",
            "Dep. Variable:                   JNPR   R-squared:                       0.226\n",
            "Model:                            OLS   Adj. R-squared:                  0.225\n",
            "Method:                 Least Squares   F-statistic:                     146.7\n",
            "Date:                Wed, 01 Feb 2023   Prob (F-statistic):           1.26e-56\n",
            "Time:                        21:14:35   Log-Likelihood:                 2772.7\n",
            "No. Observations:                1006   AIC:                            -5539.\n",
            "Df Residuals:                    1003   BIC:                            -5525.\n",
            "Df Model:                           2                                         \n",
            "Covariance Type:            nonrobust                                         \n",
            "==============================================================================\n",
            "                 coef    std err          t      P>|t|      [0.025      0.975]\n",
            "------------------------------------------------------------------------------\n",
            "const         -0.0002      0.000     -0.451      0.652      -0.001       0.001\n",
            "SP500          1.0460      0.064     16.407      0.000       0.921       1.171\n",
            "Brent         -0.0025      0.022     -0.116      0.908      -0.045       0.040\n",
            "==============================================================================\n",
            "Omnibus:                      494.715   Durbin-Watson:                   2.271\n",
            "Prob(Omnibus):                  0.000   Jarque-Bera (JB):            16900.129\n",
            "Skew:                          -1.606   Prob(JB):                         0.00\n",
            "Kurtosis:                      22.821   Cond. No.                         132.\n",
            "==============================================================================\n",
            "\n",
            "Notes:\n",
            "[1] Standard Errors assume that the covariance matrix of the errors is correctly specified.\n",
            "-0.0023\n",
            "                            OLS Regression Results                            \n",
            "==============================================================================\n",
            "Dep. Variable:                    LNC   R-squared:                       0.525\n",
            "Model:                            OLS   Adj. R-squared:                  0.524\n",
            "Method:                 Least Squares   F-statistic:                     554.8\n",
            "Date:                Wed, 01 Feb 2023   Prob (F-statistic):          5.76e-163\n",
            "Time:                        21:14:35   Log-Likelihood:                 2993.7\n",
            "No. Observations:                1006   AIC:                            -5981.\n",
            "Df Residuals:                    1003   BIC:                            -5967.\n",
            "Df Model:                           2                                         \n",
            "Covariance Type:            nonrobust                                         \n",
            "==============================================================================\n",
            "                 coef    std err          t      P>|t|      [0.025      0.975]\n",
            "------------------------------------------------------------------------------\n",
            "const      -9.281e-06      0.000     -0.024      0.981      -0.001       0.001\n",
            "SP500          1.5541      0.051     30.364      0.000       1.454       1.654\n",
            "Brent          0.0718      0.017      4.157      0.000       0.038       0.106\n",
            "==============================================================================\n",
            "Omnibus:                      131.732   Durbin-Watson:                   2.090\n",
            "Prob(Omnibus):                  0.000   Jarque-Bera (JB):             1402.378\n",
            "Skew:                           0.007   Prob(JB):                    3.00e-305\n",
            "Kurtosis:                       8.784   Cond. No.                         132.\n",
            "==============================================================================\n",
            "\n",
            "Notes:\n",
            "[1] Standard Errors assume that the covariance matrix of the errors is correctly specified.\n",
            "-0.1801\n",
            "                            OLS Regression Results                            \n",
            "==============================================================================\n",
            "Dep. Variable:                    LPG   R-squared:                       0.153\n",
            "Model:                            OLS   Adj. R-squared:                  0.152\n",
            "Method:                 Least Squares   F-statistic:                     90.90\n",
            "Date:                Wed, 01 Feb 2023   Prob (F-statistic):           5.22e-37\n",
            "Time:                        21:14:35   Log-Likelihood:                 2206.7\n",
            "No. Observations:                1006   AIC:                            -4407.\n",
            "Df Residuals:                    1003   BIC:                            -4393.\n",
            "Df Model:                           2                                         \n",
            "Covariance Type:            nonrobust                                         \n",
            "==============================================================================\n",
            "                 coef    std err          t      P>|t|      [0.025      0.975]\n",
            "------------------------------------------------------------------------------\n",
            "const         -0.0008      0.001     -0.923      0.356      -0.002       0.001\n",
            "SP500          0.8354      0.112      7.465      0.000       0.616       1.055\n",
            "Brent          0.3223      0.038      8.536      0.000       0.248       0.396\n",
            "==============================================================================\n",
            "Omnibus:                       63.742   Durbin-Watson:                   2.123\n",
            "Prob(Omnibus):                  0.000   Jarque-Bera (JB):              225.947\n",
            "Skew:                           0.186   Prob(JB):                     8.63e-50\n",
            "Kurtosis:                       5.292   Cond. No.                         132.\n",
            "==============================================================================\n",
            "\n",
            "Notes:\n",
            "[1] Standard Errors assume that the covariance matrix of the errors is correctly specified.\n",
            "-0.1699\n",
            "                            OLS Regression Results                            \n",
            "==============================================================================\n",
            "Dep. Variable:                    MOS   R-squared:                       0.223\n",
            "Model:                            OLS   Adj. R-squared:                  0.222\n",
            "Method:                 Least Squares   F-statistic:                     144.3\n",
            "Date:                Wed, 01 Feb 2023   Prob (F-statistic):           8.30e-56\n",
            "Time:                        21:14:35   Log-Likelihood:                 2597.1\n",
            "No. Observations:                1006   AIC:                            -5188.\n",
            "Df Residuals:                    1003   BIC:                            -5174.\n",
            "Df Model:                           2                                         \n",
            "Covariance Type:            nonrobust                                         \n",
            "==============================================================================\n",
            "                 coef    std err          t      P>|t|      [0.025      0.975]\n",
            "------------------------------------------------------------------------------\n",
            "const         -0.0007      0.001     -1.277      0.202      -0.002       0.000\n",
            "SP500          1.0135      0.076     13.352      0.000       0.865       1.162\n",
            "Brent          0.1565      0.026      6.112      0.000       0.106       0.207\n",
            "==============================================================================\n",
            "Omnibus:                       97.490   Durbin-Watson:                   2.033\n",
            "Prob(Omnibus):                  0.000   Jarque-Bera (JB):              653.736\n",
            "Skew:                          -0.004   Prob(JB):                    1.10e-142\n",
            "Kurtosis:                       6.949   Cond. No.                         132.\n",
            "==============================================================================\n",
            "\n",
            "Notes:\n",
            "[1] Standard Errors assume that the covariance matrix of the errors is correctly specified.\n",
            "0.0203\n",
            "                            OLS Regression Results                            \n",
            "==============================================================================\n",
            "Dep. Variable:                   NCLH   R-squared:                       0.243\n",
            "Model:                            OLS   Adj. R-squared:                  0.241\n",
            "Method:                 Least Squares   F-statistic:                     160.9\n",
            "Date:                Wed, 01 Feb 2023   Prob (F-statistic):           2.49e-61\n",
            "Time:                        21:14:35   Log-Likelihood:                 2651.2\n",
            "No. Observations:                1006   AIC:                            -5296.\n",
            "Df Residuals:                    1003   BIC:                            -5282.\n",
            "Df Model:                           2                                         \n",
            "Covariance Type:            nonrobust                                         \n",
            "==============================================================================\n",
            "                 coef    std err          t      P>|t|      [0.025      0.975]\n",
            "------------------------------------------------------------------------------\n",
            "const       7.976e-05      0.001      0.145      0.884      -0.001       0.001\n",
            "SP500          1.2900      0.072     17.932      0.000       1.149       1.431\n",
            "Brent         -0.1390      0.024     -5.725      0.000      -0.187      -0.091\n",
            "==============================================================================\n",
            "Omnibus:                      149.795   Durbin-Watson:                   2.082\n",
            "Prob(Omnibus):                  0.000   Jarque-Bera (JB):             1940.595\n",
            "Skew:                          -0.116   Prob(JB):                         0.00\n",
            "Kurtosis:                       9.800   Cond. No.                         132.\n",
            "==============================================================================\n",
            "\n",
            "Notes:\n",
            "[1] Standard Errors assume that the covariance matrix of the errors is correctly specified.\n",
            "0.1136\n",
            "                            OLS Regression Results                            \n",
            "==============================================================================\n",
            "Dep. Variable:                     NI   R-squared:                       0.180\n",
            "Model:                            OLS   Adj. R-squared:                  0.179\n",
            "Method:                 Least Squares   F-statistic:                     110.2\n",
            "Date:                Wed, 01 Feb 2023   Prob (F-statistic):           5.46e-44\n",
            "Time:                        21:14:35   Log-Likelihood:                 3121.8\n",
            "No. Observations:                1006   AIC:                            -6238.\n",
            "Df Residuals:                    1003   BIC:                            -6223.\n",
            "Df Model:                           2                                         \n",
            "Covariance Type:            nonrobust                                         \n",
            "==============================================================================\n",
            "                 coef    std err          t      P>|t|      [0.025      0.975]\n",
            "------------------------------------------------------------------------------\n",
            "const          0.0004      0.000      1.243      0.214      -0.000       0.001\n",
            "SP500          0.6560      0.045     14.556      0.000       0.568       0.744\n",
            "Brent         -0.0227      0.015     -1.495      0.135      -0.053       0.007\n",
            "==============================================================================\n",
            "Omnibus:                       51.543   Durbin-Watson:                   2.066\n",
            "Prob(Omnibus):                  0.000   Jarque-Bera (JB):              172.202\n",
            "Skew:                          -0.075   Prob(JB):                     4.04e-38\n",
            "Kurtosis:                       5.021   Cond. No.                         132.\n",
            "==============================================================================\n",
            "\n",
            "Notes:\n",
            "[1] Standard Errors assume that the covariance matrix of the errors is correctly specified.\n",
            "-0.1243\n",
            "                            OLS Regression Results                            \n",
            "==============================================================================\n",
            "Dep. Variable:                    NOV   R-squared:                       0.339\n",
            "Model:                            OLS   Adj. R-squared:                  0.338\n",
            "Method:                 Least Squares   F-statistic:                     257.2\n",
            "Date:                Wed, 01 Feb 2023   Prob (F-statistic):           6.80e-91\n",
            "Time:                        21:14:35   Log-Likelihood:                 2655.3\n",
            "No. Observations:                1006   AIC:                            -5305.\n",
            "Df Residuals:                    1003   BIC:                            -5290.\n",
            "Df Model:                           2                                         \n",
            "Covariance Type:            nonrobust                                         \n",
            "==============================================================================\n",
            "                 coef    std err          t      P>|t|      [0.025      0.975]\n",
            "------------------------------------------------------------------------------\n",
            "const         -0.0005      0.001     -0.964      0.335      -0.002       0.001\n",
            "SP500          0.8572      0.072     11.964      0.000       0.717       0.998\n",
            "Brent          0.3601      0.024     14.896      0.000       0.313       0.407\n",
            "==============================================================================\n",
            "Omnibus:                      133.609   Durbin-Watson:                   2.087\n",
            "Prob(Omnibus):                  0.000   Jarque-Bera (JB):             1171.482\n",
            "Skew:                          -0.256   Prob(JB):                    4.13e-255\n",
            "Kurtosis:                       8.262   Cond. No.                         132.\n",
            "==============================================================================\n",
            "\n",
            "Notes:\n",
            "[1] Standard Errors assume that the covariance matrix of the errors is correctly specified.\n",
            "-0.1842\n",
            "                            OLS Regression Results                            \n",
            "==============================================================================\n",
            "Dep. Variable:                   PRGO   R-squared:                       0.121\n",
            "Model:                            OLS   Adj. R-squared:                  0.119\n",
            "Method:                 Least Squares   F-statistic:                     68.87\n",
            "Date:                Wed, 01 Feb 2023   Prob (F-statistic):           9.38e-29\n",
            "Time:                        21:14:35   Log-Likelihood:                 2500.6\n",
            "No. Observations:                1006   AIC:                            -4995.\n",
            "Df Residuals:                    1003   BIC:                            -4981.\n",
            "Df Model:                           2                                         \n",
            "Covariance Type:            nonrobust                                         \n",
            "==============================================================================\n",
            "                 coef    std err          t      P>|t|      [0.025      0.975]\n",
            "------------------------------------------------------------------------------\n",
            "const         -0.0008      0.001     -1.268      0.205      -0.002       0.000\n",
            "SP500          0.9776      0.084     11.700      0.000       0.814       1.142\n",
            "Brent         -0.0723      0.028     -2.564      0.010      -0.128      -0.017\n",
            "==============================================================================\n",
            "Omnibus:                      274.139   Durbin-Watson:                   1.981\n",
            "Prob(Omnibus):                  0.000   Jarque-Bera (JB):            17729.974\n",
            "Skew:                           0.231   Prob(JB):                         0.00\n",
            "Kurtosis:                      23.561   Cond. No.                         132.\n",
            "==============================================================================\n",
            "\n",
            "Notes:\n",
            "[1] Standard Errors assume that the covariance matrix of the errors is correctly specified.\n",
            "-0.0095\n",
            "                            OLS Regression Results                            \n",
            "==============================================================================\n",
            "Dep. Variable:                    PVH   R-squared:                       0.208\n",
            "Model:                            OLS   Adj. R-squared:                  0.207\n",
            "Method:                 Least Squares   F-statistic:                     132.0\n",
            "Date:                Wed, 01 Feb 2023   Prob (F-statistic):           1.28e-51\n",
            "Time:                        21:14:35   Log-Likelihood:                 2725.2\n",
            "No. Observations:                1006   AIC:                            -5444.\n",
            "Df Residuals:                    1003   BIC:                            -5430.\n",
            "Df Model:                           2                                         \n",
            "Covariance Type:            nonrobust                                         \n",
            "==============================================================================\n",
            "                 coef    std err          t      P>|t|      [0.025      0.975]\n",
            "------------------------------------------------------------------------------\n",
            "const      -3.793e-05      0.001     -0.074      0.941      -0.001       0.001\n",
            "SP500          0.9320      0.067     13.944      0.000       0.801       1.063\n",
            "Brent          0.0873      0.023      3.871      0.000       0.043       0.132\n",
            "==============================================================================\n",
            "Omnibus:                      157.787   Durbin-Watson:                   2.079\n",
            "Prob(Omnibus):                  0.000   Jarque-Bera (JB):             2200.812\n",
            "Skew:                          -0.154   Prob(JB):                         0.00\n",
            "Kurtosis:                      10.239   Cond. No.                         132.\n",
            "==============================================================================\n",
            "\n",
            "Notes:\n",
            "[1] Standard Errors assume that the covariance matrix of the errors is correctly specified.\n",
            "-0.1176\n",
            "                            OLS Regression Results                            \n",
            "==============================================================================\n",
            "Dep. Variable:                   QCOM   R-squared:                       0.249\n",
            "Model:                            OLS   Adj. R-squared:                  0.247\n",
            "Method:                 Least Squares   F-statistic:                     166.1\n",
            "Date:                Wed, 01 Feb 2023   Prob (F-statistic):           4.91e-63\n",
            "Time:                        21:14:35   Log-Likelihood:                 2783.1\n",
            "No. Observations:                1006   AIC:                            -5560.\n",
            "Df Residuals:                    1003   BIC:                            -5545.\n",
            "Df Model:                           2                                         \n",
            "Covariance Type:            nonrobust                                         \n",
            "==============================================================================\n",
            "                 coef    std err          t      P>|t|      [0.025      0.975]\n",
            "------------------------------------------------------------------------------\n",
            "const         -0.0005      0.000     -1.032      0.302      -0.001       0.000\n",
            "SP500          1.0971      0.063     17.386      0.000       0.973       1.221\n",
            "Brent          0.0024      0.021      0.114      0.909      -0.039       0.044\n",
            "==============================================================================\n",
            "Omnibus:                      604.102   Durbin-Watson:                   2.058\n",
            "Prob(Omnibus):                  0.000   Jarque-Bera (JB):            32279.144\n",
            "Skew:                          -2.024   Prob(JB):                         0.00\n",
            "Kurtosis:                      30.453   Cond. No.                         132.\n",
            "==============================================================================\n",
            "\n",
            "Notes:\n",
            "[1] Standard Errors assume that the covariance matrix of the errors is correctly specified.\n",
            "-0.0046\n",
            "                            OLS Regression Results                            \n",
            "==============================================================================\n",
            "Dep. Variable:                    SEE   R-squared:                       0.323\n",
            "Model:                            OLS   Adj. R-squared:                  0.321\n",
            "Method:                 Least Squares   F-statistic:                     239.0\n",
            "Date:                Wed, 01 Feb 2023   Prob (F-statistic):           1.36e-85\n",
            "Time:                        21:14:35   Log-Likelihood:                 3001.2\n",
            "No. Observations:                1006   AIC:                            -5996.\n",
            "Df Residuals:                    1003   BIC:                            -5982.\n",
            "Df Model:                           2                                         \n",
            "Covariance Type:            nonrobust                                         \n",
            "==============================================================================\n",
            "                 coef    std err          t      P>|t|      [0.025      0.975]\n",
            "------------------------------------------------------------------------------\n",
            "const       -1.81e-05      0.000     -0.047      0.963      -0.001       0.001\n",
            "SP500          1.0993      0.051     21.639      0.000       1.000       1.199\n",
            "Brent         -0.0581      0.017     -3.393      0.001      -0.092      -0.025\n",
            "==============================================================================\n",
            "Omnibus:                      189.580   Durbin-Watson:                   2.093\n",
            "Prob(Omnibus):                  0.000   Jarque-Bera (JB):             4313.931\n",
            "Skew:                          -0.066   Prob(JB):                         0.00\n",
            "Kurtosis:                      13.144   Cond. No.                         132.\n",
            "==============================================================================\n",
            "\n",
            "Notes:\n",
            "[1] Standard Errors assume that the covariance matrix of the errors is correctly specified.\n",
            "0.0141\n",
            "                            OLS Regression Results                            \n",
            "==============================================================================\n",
            "Dep. Variable:                    UNM   R-squared:                       0.477\n",
            "Model:                            OLS   Adj. R-squared:                  0.476\n",
            "Method:                 Least Squares   F-statistic:                     457.9\n",
            "Date:                Wed, 01 Feb 2023   Prob (F-statistic):          5.13e-142\n",
            "Time:                        21:14:35   Log-Likelihood:                 3166.9\n",
            "No. Observations:                1006   AIC:                            -6328.\n",
            "Df Residuals:                    1003   BIC:                            -6313.\n",
            "Df Model:                           2                                         \n",
            "Covariance Type:            nonrobust                                         \n",
            "==============================================================================\n",
            "                 coef    std err          t      P>|t|      [0.025      0.975]\n",
            "------------------------------------------------------------------------------\n",
            "const        5.57e-05      0.000      0.170      0.865      -0.001       0.001\n",
            "SP500          1.1725      0.043     27.213      0.000       1.088       1.257\n",
            "Brent          0.0676      0.015      4.648      0.000       0.039       0.096\n",
            "==============================================================================\n",
            "Omnibus:                      113.336   Durbin-Watson:                   1.988\n",
            "Prob(Omnibus):                  0.000   Jarque-Bera (JB):              892.340\n",
            "Skew:                           0.124   Prob(JB):                    1.70e-194\n",
            "Kurtosis:                       7.607   Cond. No.                         132.\n",
            "==============================================================================\n",
            "\n",
            "Notes:\n",
            "[1] Standard Errors assume that the covariance matrix of the errors is correctly specified.\n",
            "-0.0172\n",
            "                            OLS Regression Results                            \n",
            "==============================================================================\n",
            "Dep. Variable:                     WU   R-squared:                       0.402\n",
            "Model:                            OLS   Adj. R-squared:                  0.401\n",
            "Method:                 Least Squares   F-statistic:                     337.7\n",
            "Date:                Wed, 01 Feb 2023   Prob (F-statistic):          7.52e-113\n",
            "Time:                        21:14:35   Log-Likelihood:                 3164.3\n",
            "No. Observations:                1006   AIC:                            -6323.\n",
            "Df Residuals:                    1003   BIC:                            -6308.\n",
            "Df Model:                           2                                         \n",
            "Covariance Type:            nonrobust                                         \n",
            "==============================================================================\n",
            "                 coef    std err          t      P>|t|      [0.025      0.975]\n",
            "------------------------------------------------------------------------------\n",
            "const      -6.875e-05      0.000     -0.209      0.835      -0.001       0.001\n",
            "SP500          1.0666      0.043     24.693      0.000       0.982       1.151\n",
            "Brent          0.0069      0.015      0.475      0.635      -0.022       0.036\n",
            "==============================================================================\n",
            "Omnibus:                      140.670   Durbin-Watson:                   2.003\n",
            "Prob(Omnibus):                  0.000   Jarque-Bera (JB):             1666.721\n",
            "Skew:                           0.060   Prob(JB):                         0.00\n",
            "Kurtosis:                       9.305   Cond. No.                         132.\n",
            "==============================================================================\n",
            "\n",
            "Notes:\n",
            "[1] Standard Errors assume that the covariance matrix of the errors is correctly specified.\n",
            "-0.0288\n",
            "                            OLS Regression Results                            \n",
            "==============================================================================\n",
            "Dep. Variable:                   XRAY   R-squared:                       0.291\n",
            "Model:                            OLS   Adj. R-squared:                  0.290\n",
            "Method:                 Least Squares   F-statistic:                     206.0\n",
            "Date:                Wed, 01 Feb 2023   Prob (F-statistic):           1.14e-75\n",
            "Time:                        21:14:35   Log-Likelihood:                 3176.9\n",
            "No. Observations:                1006   AIC:                            -6348.\n",
            "Df Residuals:                    1003   BIC:                            -6333.\n",
            "Df Model:                           2                                         \n",
            "Covariance Type:            nonrobust                                         \n",
            "==============================================================================\n",
            "                 coef    std err          t      P>|t|      [0.025      0.975]\n",
            "------------------------------------------------------------------------------\n",
            "const         -0.0001      0.000     -0.357      0.721      -0.001       0.001\n",
            "SP500          0.8586      0.043     20.127      0.000       0.775       0.942\n",
            "Brent         -0.0492      0.014     -3.421      0.001      -0.077      -0.021\n",
            "==============================================================================\n",
            "Omnibus:                      245.340   Durbin-Watson:                   1.846\n",
            "Prob(Omnibus):                  0.000   Jarque-Bera (JB):             3071.561\n",
            "Skew:                          -0.744   Prob(JB):                         0.00\n",
            "Kurtosis:                      11.430   Cond. No.                         132.\n",
            "==============================================================================\n",
            "\n",
            "Notes:\n",
            "[1] Standard Errors assume that the covariance matrix of the errors is correctly specified.\n"
          ]
        }
      ]
    },
    {
      "cell_type": "code",
      "source": [
        "print(res)"
      ],
      "metadata": {
        "colab": {
          "base_uri": "https://localhost:8080/"
        },
        "id": "dXnHPrP21UAG",
        "outputId": "fa14d7d3-7dc6-4c29-866f-03ee0c9579e6"
      },
      "execution_count": 10,
      "outputs": [
        {
          "output_type": "stream",
          "name": "stdout",
          "text": [
            "{'AAP': {'params': const   -0.000248\n",
            "SP500    0.914485\n",
            "Brent   -0.051660\n",
            "dtype: float64, 'pvals': const    6.699955e-01\n",
            "SP500    5.526057e-31\n",
            "Brent    4.521807e-02\n",
            "dtype: float64}, 'ABMD': {'params': const    0.002290\n",
            "SP500    1.171819\n",
            "Brent   -0.083396\n",
            "dtype: float64, 'pvals': const    4.234760e-03\n",
            "SP500    1.865430e-27\n",
            "Brent    1.848993e-02\n",
            "dtype: float64}, 'AOS': {'params': const    0.000737\n",
            "SP500    1.188316\n",
            "Brent   -0.005049\n",
            "dtype: float64, 'pvals': const     2.333861e-02\n",
            "SP500    1.924495e-127\n",
            "Brent     7.251497e-01\n",
            "dtype: float64}, 'APA': {'params': const   -0.000614\n",
            "SP500    1.029435\n",
            "Brent    0.497211\n",
            "dtype: float64, 'pvals': const    2.838395e-01\n",
            "SP500    2.594061e-39\n",
            "Brent    8.573095e-73\n",
            "dtype: float64}, 'ATO': {'params': const    0.000482\n",
            "SP500    0.565325\n",
            "Brent   -0.042236\n",
            "dtype: float64, 'pvals': const    1.129091e-01\n",
            "SP500    9.710834e-42\n",
            "Brent    1.737562e-03\n",
            "dtype: float64}, 'CBOE': {'params': const    0.000606\n",
            "SP500    0.544892\n",
            "Brent   -0.071147\n",
            "dtype: float64, 'pvals': const    9.779228e-02\n",
            "SP500    3.135140e-28\n",
            "Brent    1.212204e-05\n",
            "dtype: float64}, 'COP': {'params': const   -0.000077\n",
            "SP500    0.936780\n",
            "Brent    0.426931\n",
            "dtype: float64, 'pvals': const    8.575040e-01\n",
            "SP500    2.554482e-55\n",
            "Brent    2.714763e-91\n",
            "dtype: float64}, 'CVX': {'params': const   -0.000055\n",
            "SP500    0.915500\n",
            "Brent    0.219879\n",
            "dtype: float64, 'pvals': const    8.514337e-01\n",
            "SP500    2.978542e-99\n",
            "Brent    1.369841e-56\n",
            "dtype: float64}, 'DVA': {'params': const   -0.000278\n",
            "SP500    0.768755\n",
            "Brent   -0.028539\n",
            "dtype: float64, 'pvals': const    4.683627e-01\n",
            "SP500    1.674399e-47\n",
            "Brent    9.317777e-02\n",
            "dtype: float64}, 'DVN': {'params': const   -0.000547\n",
            "SP500    1.140461\n",
            "Brent    0.567437\n",
            "dtype: float64, 'pvals': const    3.810703e-01\n",
            "SP500    2.170910e-40\n",
            "Brent    1.959274e-78\n",
            "dtype: float64}, 'ET': {'params': const    0.000004\n",
            "SP500    1.404175\n",
            "Brent    0.389933\n",
            "dtype: float64, 'pvals': const    9.971382e-01\n",
            "SP500    5.310983e-24\n",
            "Brent    5.142999e-17\n",
            "dtype: float64}, 'FFIV': {'params': const    0.000037\n",
            "SP500    1.009682\n",
            "Brent   -0.009705\n",
            "dtype: float64, 'pvals': const    9.333773e-01\n",
            "SP500    4.213772e-58\n",
            "Brent    6.249395e-01\n",
            "dtype: float64}, 'FTI': {'params': const   -0.000602\n",
            "SP500    0.989447\n",
            "Brent    0.348466\n",
            "dtype: float64, 'pvals': const    2.303915e-01\n",
            "SP500    2.834403e-46\n",
            "Brent    7.470634e-50\n",
            "dtype: float64}, 'HII': {'params': const    0.000693\n",
            "SP500    1.025568\n",
            "Brent   -0.014216\n",
            "dtype: float64, 'pvals': const    9.244714e-02\n",
            "SP500    5.869896e-69\n",
            "Brent    4.353582e-01\n",
            "dtype: float64}, 'HSIC': {'params': const   -0.000205\n",
            "SP500    0.941203\n",
            "Brent   -0.083771\n",
            "dtype: float64, 'pvals': const    5.357801e-01\n",
            "SP500    1.164229e-85\n",
            "Brent    1.452106e-08\n",
            "dtype: float64}, 'IFF': {'params': const    0.000148\n",
            "SP500    0.942088\n",
            "Brent    0.030365\n",
            "dtype: float64, 'pvals': const    6.387626e-01\n",
            "SP500    1.385981e-92\n",
            "Brent    3.012914e-02\n",
            "dtype: float64}, 'IPGP': {'params': const    0.000961\n",
            "SP500    1.248762\n",
            "Brent   -0.047789\n",
            "dtype: float64, 'pvals': const    7.442775e-02\n",
            "SP500    3.514777e-61\n",
            "Brent    4.502344e-02\n",
            "dtype: float64}, 'IRM': {'params': const    0.000222\n",
            "SP500    0.877915\n",
            "Brent   -0.019568\n",
            "dtype: float64, 'pvals': const    6.210007e-01\n",
            "SP500    1.228344e-45\n",
            "Brent    3.243815e-01\n",
            "dtype: float64}, 'IVZ': {'params': const   -0.000451\n",
            "SP500    1.524176\n",
            "Brent    0.037289\n",
            "dtype: float64, 'pvals': const     1.551254e-01\n",
            "SP500    1.779558e-187\n",
            "Brent     7.948611e-03\n",
            "dtype: float64}, 'JNPR': {'params': const   -0.000219\n",
            "SP500    1.045992\n",
            "Brent   -0.002486\n",
            "dtype: float64, 'pvals': const    6.523221e-01\n",
            "SP500    9.079931e-54\n",
            "Brent    9.080091e-01\n",
            "dtype: float64}, 'LNC': {'params': const   -0.000009\n",
            "SP500    1.554057\n",
            "Brent    0.071774\n",
            "dtype: float64, 'pvals': const     9.810289e-01\n",
            "SP500    3.722196e-144\n",
            "Brent     3.506336e-05\n",
            "dtype: float64}, 'LPG': {'params': const   -0.000787\n",
            "SP500    0.835398\n",
            "Brent    0.322274\n",
            "dtype: float64, 'pvals': const    3.562359e-01\n",
            "SP500    1.803544e-13\n",
            "Brent    5.098275e-17\n",
            "dtype: float64}, 'MOS': {'params': const   -0.000739\n",
            "SP500    1.013527\n",
            "Brent    0.156537\n",
            "dtype: float64, 'pvals': const    2.019963e-01\n",
            "SP500    1.510499e-37\n",
            "Brent    1.406208e-09\n",
            "dtype: float64}, 'NCLH': {'params': const    0.000080\n",
            "SP500    1.289973\n",
            "Brent   -0.138956\n",
            "dtype: float64, 'pvals': const    8.844012e-01\n",
            "SP500    1.380301e-62\n",
            "Brent    1.363149e-08\n",
            "dtype: float64}, 'NI': {'params': const    0.000427\n",
            "SP500    0.655955\n",
            "Brent   -0.022727\n",
            "dtype: float64, 'pvals': const    2.143188e-01\n",
            "SP500    1.084815e-43\n",
            "Brent    1.352738e-01\n",
            "dtype: float64}, 'NOV': {'params': const   -0.000527\n",
            "SP500    0.857155\n",
            "Brent    0.360053\n",
            "dtype: float64, 'pvals': const    3.351986e-01\n",
            "SP500    6.232499e-31\n",
            "Brent    1.754639e-45\n",
            "dtype: float64}, 'PRGO': {'params': const   -0.000808\n",
            "SP500    0.977620\n",
            "Brent   -0.072282\n",
            "dtype: float64, 'pvals': const    2.051586e-01\n",
            "SP500    9.812882e-30\n",
            "Brent    1.048937e-02\n",
            "dtype: float64}, 'PVH': {'params': const   -0.000038\n",
            "SP500    0.932009\n",
            "Brent    0.087293\n",
            "dtype: float64, 'pvals': const    9.406803e-01\n",
            "SP500    1.597686e-40\n",
            "Brent    1.154510e-04\n",
            "dtype: float64}, 'QCOM': {'params': const   -0.000497\n",
            "SP500    1.097060\n",
            "Brent    0.002428\n",
            "dtype: float64, 'pvals': const    3.022640e-01\n",
            "SP500    2.219870e-59\n",
            "Brent    9.092250e-01\n",
            "dtype: float64}, 'SEE': {'params': const   -0.000018\n",
            "SP500    1.099299\n",
            "Brent   -0.058148\n",
            "dtype: float64, 'pvals': const    9.627351e-01\n",
            "SP500    1.620486e-85\n",
            "Brent    7.196158e-04\n",
            "dtype: float64}, 'UNM': {'params': const    0.000056\n",
            "SP500    1.172450\n",
            "Brent    0.067557\n",
            "dtype: float64, 'pvals': const     8.653699e-01\n",
            "SP500    1.442422e-122\n",
            "Brent     3.807262e-06\n",
            "dtype: float64}, 'WU': {'params': const   -0.000069\n",
            "SP500    1.066630\n",
            "Brent    0.006930\n",
            "dtype: float64, 'pvals': const     8.346765e-01\n",
            "SP500    1.474807e-105\n",
            "Brent     6.345425e-01\n",
            "dtype: float64}, 'XRAY': {'params': const   -0.000116\n",
            "SP500    0.858610\n",
            "Brent   -0.049239\n",
            "dtype: float64, 'pvals': const    7.213266e-01\n",
            "SP500    6.068127e-76\n",
            "Brent    6.487858e-04\n",
            "dtype: float64}}\n"
          ]
        }
      ]
    },
    {
      "cell_type": "markdown",
      "source": [
        "Looking at the results of the multilinear regressions above, computed for 33 stocks toward SP500 and Brent we're able to chose a set of the best 10 assets to invest in , also considering that we're expecting a strong decrease of the oil price. I started my analysis by observing the sectors of each asset and isolating those more sensible to the oil price variations, e.g. = energy, industrial and basic material. I've also computed the correlations with respect to Brent data and chosed the ones the responded better to past decreases in its price. After that,I've looked at the regressions: firstly I discarded the ones with a very poor R^2 (for example values like 0.112,0.190, generally those below 0.2); secondly looked the estimated coefficients (betas) for s&p and Brent, discarding those assets with a significant and positive coefficient with respect to Brent, preferrying the ones with negative and/or not significant with respect to Brent (rembembering that the coefficient beta represent the sensitivity with respect to the index). Lastily, I pointed out the** postive alphas** (which refer to the performances of the assets not considering their dependence on indices), in some cases I also chosed assets with -not overly- negative aplhas coefficients , but with other convincing characteristics (e.g. negative or not significant beta of Brent and also the correlations with sp data in the previous periods). Finally my choice is : AOS,HII,IFF,IPGP, FFIV,NCLH,NI,HSCI,SEE,WU. The majority of the chosen assets present a postive alpha and a negative or not significant beta for Brent. The two cases of poor (not overly negative) alphas is supported by the strenghten of other parameters. In the case of IFF, we can observe a very very weak positive correlation with Brent (0.034), with poor evidences of significance; the asset comes from Basic materials sectors, but its correlations show its strong resilience with respect to the poor performance of Oil price, reason for which I decide to prefer it to ohter less convincing assets. The other stocks, with the exception of AOS, IFF and HII, come from sectors not sensible to Oil Price."
      ],
      "metadata": {
        "id": "ekyyEtdA1fJU"
      }
    },
    {
      "cell_type": "code",
      "source": [
        "tickers = ['AAP','ABMD','AOS','APA','ATO','CBOE','COP','CVX','DVA','DVN','ET','FFIV','FTI','HII','HSIC','IFF','IPGP','IRM','IVZ','JNPR','LNC','LPG','MOS','NCLH','NI','NOV','PRGO','PVH','QCOM','SEE','UNM','WU','XRAY']\n",
        "\n",
        "proxy = yf.Tickers(tickers)\n",
        "df = proxy.history(start='2014-03-27', end='2018-03-26')\n",
        "df1 =df['Close']\n",
        "df2=df1.pct_change()\n",
        "df3 = df2.drop(df2.index[0])\n",
        "\n",
        "#print(df3)"
      ],
      "metadata": {
        "colab": {
          "base_uri": "https://localhost:8080/"
        },
        "id": "9cKrk4V21Z7E",
        "outputId": "bf6e9ab2-2ba9-4266-f3d5-2f0be2f8fc1d"
      },
      "execution_count": 11,
      "outputs": [
        {
          "output_type": "stream",
          "name": "stdout",
          "text": [
            "[*********************100%***********************]  33 of 33 completed\n"
          ]
        }
      ]
    },
    {
      "cell_type": "code",
      "source": [
        "\n",
        "for stock in tickers:\n",
        "    \n",
        "    ticker = yf.Ticker(stock)\n",
        "    \n",
        "    info = ticker.info\n",
        "    \n",
        "    sector = info['sector']\n",
        " \n",
        "    print(f\"Stock: {stock}, Sector: {sector}\")"
      ],
      "metadata": {
        "colab": {
          "base_uri": "https://localhost:8080/"
        },
        "id": "sXz2s05D1uQj",
        "outputId": "42fcbb9a-817a-4a8e-ff8a-efdb4249284b"
      },
      "execution_count": 12,
      "outputs": [
        {
          "output_type": "stream",
          "name": "stdout",
          "text": [
            "Stock: AAP, Sector: Consumer Cyclical\n",
            "Stock: ABMD, Sector: Healthcare\n",
            "Stock: AOS, Sector: Industrials\n",
            "Stock: APA, Sector: Energy\n",
            "Stock: ATO, Sector: Utilities\n",
            "Stock: CBOE, Sector: Financial Services\n",
            "Stock: COP, Sector: Energy\n",
            "Stock: CVX, Sector: Energy\n",
            "Stock: DVA, Sector: Healthcare\n",
            "Stock: DVN, Sector: Energy\n",
            "Stock: ET, Sector: Energy\n",
            "Stock: FFIV, Sector: Technology\n",
            "Stock: FTI, Sector: Energy\n",
            "Stock: HII, Sector: Industrials\n",
            "Stock: HSIC, Sector: Healthcare\n",
            "Stock: IFF, Sector: Basic Materials\n",
            "Stock: IPGP, Sector: Technology\n",
            "Stock: IRM, Sector: Real Estate\n",
            "Stock: IVZ, Sector: Financial Services\n",
            "Stock: JNPR, Sector: Technology\n",
            "Stock: LNC, Sector: Financial Services\n",
            "Stock: LPG, Sector: Energy\n",
            "Stock: MOS, Sector: Basic Materials\n",
            "Stock: NCLH, Sector: Consumer Cyclical\n",
            "Stock: NI, Sector: Utilities\n",
            "Stock: NOV, Sector: Energy\n",
            "Stock: PRGO, Sector: Healthcare\n",
            "Stock: PVH, Sector: Consumer Cyclical\n",
            "Stock: QCOM, Sector: Technology\n",
            "Stock: SEE, Sector: Consumer Cyclical\n",
            "Stock: UNM, Sector: Financial Services\n",
            "Stock: WU, Sector: Financial Services\n",
            "Stock: XRAY, Sector: Healthcare\n"
          ]
        }
      ]
    },
    {
      "cell_type": "code",
      "source": [
        "from matplotlib.dates import YearLocator, DateFormatter\n",
        "fig = plt.figure(figsize=(20,7))\n",
        "\n",
        "sub1 = plt.subplot(1,2,1)\n",
        "sub1.plot(pd.to_datetime(data.index), data[\"Brent\"], label='Brent Price')\n",
        "sub1.grid(True)\n",
        "\n",
        "\n",
        "\n",
        "sub2 = plt.subplot(1,2,2)\n",
        "sub2.plot(pd.to_datetime(data.index), data[\"SP500\"], label='SP500 Price')\n",
        "sub2.grid(True)\n",
        "\n",
        "\n",
        "plt.gca().xaxis.set_major_formatter(DateFormatter('%Y'))\n",
        "plt.gca().xaxis.set_major_locator(YearLocator())\n",
        "plt.legend(loc = 'upper left')\n",
        "plt.show()"
      ],
      "metadata": {
        "colab": {
          "base_uri": "https://localhost:8080/",
          "height": 428
        },
        "id": "utZhgRqR5rHs",
        "outputId": "fc15ec61-03cb-4773-897c-4d72a5332849"
      },
      "execution_count": 65,
      "outputs": [
        {
          "output_type": "display_data",
          "data": {
            "text/plain": [
              "<Figure size 1440x504 with 2 Axes>"
            ],
            "image/png": "[encoded data removed]"
          },
          "metadata": {
            "needs_background": "light"
          }
        }
      ]
    },
    {
      "cell_type": "markdown",
      "source": [
        "correlations between Brent and assets of sectors more sensitive toward Oil Price, in the ranges of time of: 1) fall of the price; 2)moderate increase of the price"
      ],
      "metadata": {
        "id": "VJy8j-He2F9c"
      }
    },
    {
      "cell_type": "code",
      "source": [
        "#fall of the price \n",
        "tickers_sectors = ['CVX', 'DVN', 'ET', 'FTI','NOV','LPG','COP','APA','IFF','MOS','AOS','HII']\n",
        "data = yf.download(tickers_sectors, start=\"2014-07-31\", end=\"2016-02-11\")\n",
        "\n",
        "\n",
        "brent = yf.download('BZ=F', start=\"2014-07-31\", end=\"2016-02-11\")\n",
        "correlation = data['Close'].corrwith(brent['Close'])\n",
        "print(correlation)"
      ],
      "metadata": {
        "colab": {
          "base_uri": "https://localhost:8080/"
        },
        "id": "irrEWRVG2Cuc",
        "outputId": "318627c3-a000-4726-ead1-c3aae5fc26d2"
      },
      "execution_count": 13,
      "outputs": [
        {
          "output_type": "stream",
          "name": "stdout",
          "text": [
            "[*********************100%***********************]  12 of 12 completed\n",
            "[*********************100%***********************]  1 of 1 completed\n",
            "AOS   -0.763043\n",
            "APA    0.944886\n",
            "COP    0.897579\n",
            "CVX    0.864528\n",
            "DVN    0.815511\n",
            "ET     0.579181\n",
            "FTI    0.961632\n",
            "HII   -0.577466\n",
            "IFF   -0.681801\n",
            "LPG    0.872467\n",
            "MOS    0.604301\n",
            "NOV    0.935114\n",
            "dtype: float64\n"
          ]
        }
      ]
    },
    {
      "cell_type": "code",
      "source": [
        "#rise of the oil price\n",
        "data = yf.download(tickers_sectors, start=\"2016-02-12\", end=\"2018-03-26\")\n",
        "\n",
        "\n",
        "brent = yf.download('BZ=F', start=\"2016-02-12\", end=\"2018-03-26\")\n",
        "correlation = data['Close'].corrwith(brent['Close'])\n",
        "print(correlation)"
      ],
      "metadata": {
        "colab": {
          "base_uri": "https://localhost:8080/"
        },
        "id": "H0B3pzyL2KLX",
        "outputId": "5d016280-4c48-4b42-d058-a5c09d8ac7b7"
      },
      "execution_count": 14,
      "outputs": [
        {
          "output_type": "stream",
          "name": "stdout",
          "text": [
            "[*********************100%***********************]  12 of 12 completed\n",
            "[*********************100%***********************]  1 of 1 completed\n",
            "AOS    0.840730\n",
            "APA   -0.316784\n",
            "COP    0.932122\n",
            "CVX    0.891390\n",
            "DVN    0.416960\n",
            "ET     0.567856\n",
            "FTI    0.383128\n",
            "HII    0.881637\n",
            "IFF    0.695879\n",
            "LPG   -0.137766\n",
            "MOS   -0.069670\n",
            "NOV    0.519257\n",
            "dtype: float64\n"
          ]
        }
      ]
    },
    {
      "cell_type": "code",
      "source": [
        "#correlations with sp\n",
        "data_2 = yf.download(tickers, start=\"2014-07-31\", end=\"2018-03-26\")\n",
        "sp = yf.download('^GSPC', start=\"2014-07-31\", end=\"2018-03-26\")\n",
        "correlation_2 = data_2['Close'].corrwith(sp['Close'])\n",
        "a = pd.Series(correlation_2)\n",
        "pd.options.display.max_rows = None\n",
        "print(a)\n",
        "#print(correlation)"
      ],
      "metadata": {
        "colab": {
          "base_uri": "https://localhost:8080/"
        },
        "id": "rQP5W5dT2VFZ",
        "outputId": "ef64737f-7672-4218-fbda-669ac752b16d"
      },
      "execution_count": 15,
      "outputs": [
        {
          "output_type": "stream",
          "name": "stdout",
          "text": [
            "[*********************100%***********************]  33 of 33 completed\n",
            "[*********************100%***********************]  1 of 1 completed\n",
            "AAP    -0.674346\n",
            "ABMD    0.891967\n",
            "AOS     0.922887\n",
            "APA    -0.439817\n",
            "ATO     0.779465\n",
            "CBOE    0.948428\n",
            "COP    -0.170465\n",
            "CVX     0.533612\n",
            "DVA    -0.399321\n",
            "DVN    -0.336869\n",
            "ET     -0.258935\n",
            "FFIV    0.574241\n",
            "FTI    -0.377981\n",
            "HII     0.939582\n",
            "HSIC    0.283980\n",
            "IFF     0.848406\n",
            "IPGP    0.945201\n",
            "IRM     0.387322\n",
            "IVZ     0.005397\n",
            "JNPR    0.480856\n",
            "LNC     0.867121\n",
            "LPG    -0.557716\n",
            "MOS    -0.540569\n",
            "NCLH    0.403801\n",
            "NI      0.694372\n",
            "NOV    -0.392725\n",
            "PRGO   -0.669357\n",
            "PVH     0.608100\n",
            "QCOM   -0.083426\n",
            "SEE     0.163885\n",
            "UNM     0.947620\n",
            "WU      0.393244\n",
            "XRAY    0.540153\n",
            "dtype: float64\n"
          ]
        }
      ]
    },
    {
      "cell_type": "markdown",
      "source": [
        "I've also implemented a **PCA** analysis in order to look and compare the results , given the different assumptions under the two approaches.\n"
      ],
      "metadata": {
        "id": "ETtbU97j2jC-"
      }
    },
    {
      "cell_type": "code",
      "source": [
        "equities = df3.iloc[:,:-1]\n",
        "cov = equities.cov()*252\n",
        "eigVals, eigVecs = np.linalg.eig(cov)\n"
      ],
      "metadata": {
        "id": "rWDYPtLD2iu2"
      },
      "execution_count": 16,
      "outputs": []
    },
    {
      "cell_type": "code",
      "source": [
        "norm_eigVecs = abs(eigVecs.T[0])/sum(abs(eigVecs.T[0]))\n",
        "\n",
        "pc_daily_ret = equities.dot(norm_eigVecs)\n",
        "pc_cum_ret = pc_daily_ret.cumsum()"
      ],
      "metadata": {
        "id": "jlLB0xIV2egZ"
      },
      "execution_count": 17,
      "outputs": []
    },
    {
      "cell_type": "code",
      "source": [
        "best_idx = np.argsort(eigVecs.T[0])[-10:]\n",
        "eq_best = equities.iloc[:,best_idx]\n",
        "best_eigv = norm_eigVecs[best_idx]\n",
        "best_ret= eq_best.dot(best_eigv).cumsum()\n",
        "print(\"Best:\", df.columns[best_idx])"
      ],
      "metadata": {
        "colab": {
          "base_uri": "https://localhost:8080/"
        },
        "id": "q7VrXfJt3FWM",
        "outputId": "40a22232-9b06-456b-e29f-c13536eafce6"
      },
      "execution_count": 18,
      "outputs": [
        {
          "output_type": "stream",
          "name": "stdout",
          "text": [
            "Best: MultiIndex([('Close', 'IVZ'),\n",
            "            ('Close', 'MOS'),\n",
            "            ('Close', 'LNC'),\n",
            "            ('Close', 'NOV'),\n",
            "            ('Close', 'FTI'),\n",
            "            ('Close', 'COP'),\n",
            "            ('Close', 'LPG'),\n",
            "            ('Close', 'APA'),\n",
            "            ('Close', 'DVN'),\n",
            "            ('Close',  'ET')],\n",
            "           )\n"
          ]
        }
      ]
    }
  ]
}