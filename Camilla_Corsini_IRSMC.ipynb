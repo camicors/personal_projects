{
  "cells": [
    {
      "cell_type": "markdown",
      "source": [
        "# CAPLET AND ZERO COUPON BOND"
      ],
      "metadata": {
        "id": "qjP4XeNPr6TM"
      }
    },
    {
      "cell_type": "markdown",
      "source": [
        "This project is incentred on the numerical computation of the price of an Interest rate derivative = **Caplet** and of a **zero coupon bond**, following different methodologies.\n",
        "\n",
        "1 )*Caplet* price has been computed using : finite difference method and its analytical proof, binomial tree, and finite difference method as  replicating portfolio.\n",
        "The reference models are =  the Hull and White and the Black and Scholes.\n",
        "\n",
        "**USED THEORY**\n",
        "Formulas and procedures are from = **\"Derivatives : The Theory and Practice of Financial Engineering\" PW** ; **Interest Rate Models Brigo Mercurio**, **linked paper for the Crank-Nicholson in the procedure for zcb and interest rate derivatives**\n",
        "\n",
        "2) The *zero coupon bond* price has been computed using : finite difference method and the analytical closed formula of Hull and White. \n",
        "\n",
        "(Results are not always the same due to the use of different parameters in the models implemented; some parameters have cpnstant values in order to  focus better on the study of the numerical procedures)\n",
        "\n",
        "Furter explanation of the procedures are in the next lines."
      ],
      "metadata": {
        "id": "Ebl6EsI5bN2l"
      }
    },
    {
      "cell_type": "code",
      "execution_count": 1,
      "outputs": [],
      "source": [
        "import numpy as np\n",
        "import matplotlib.pyplot as plt\n",
        "import math\n",
        "from scipy.sparse import diags\n",
        "from scipy.linalg import solve_banded\n",
        "\n",
        "from scipy.linalg import lu\n",
        "from scipy import linalg\n",
        "import scipy.stats as ss\n",
        "import math\n",
        "\n",
        "from scipy.linalg import solve_banded"
      ],
      "metadata": {
        "pycharm": {
          "name": "#%%\n"
        },
        "id": "QUzCDARpi72i"
      }
    },
    {
      "cell_type": "markdown",
      "source": [
        "**HULL-WHITE MODEL**"
      ],
      "metadata": {
        "id": "itR5Oe43diE3"
      }
    },
    {
      "cell_type": "markdown",
      "source": [
        "The model is an affine short-rate one (also called Extendend-Vasiceck).\n",
        "It's importance is mainly due to the fact that it admits **negative rates**.\n",
        "\n",
        "Here the Term Structure equation with the Zero Coupon boundary condition and the Hull-White r-dynamics (#)"
      ],
      "metadata": {
        "id": "BldyW7hhrygN"
      }
    },
    {
      "cell_type": "markdown",
      "source": [
        "\n",
        "we have to solve the boundary value problem, havig as PDE : \n",
        "\n",
        "$$\n",
        "\\frac{{\\partial F(T,r)}}{{\\partial T}} + \\left(\\theta(t) - a(t)r(t)\\right) \\frac{{\\partial F(T,r)}}{{\\partial r}} + \\frac{1}{{2}} \\sigma^2 \\frac{{\\partial^2 F(T,r)}}{{\\partial r^2}} - r(t)F(T,r) = 0\n",
        "$$\n",
        "\n",
        "with the terminal condition: \n",
        "$$\n",
        "F(r,T,T) = 1\n",
        "$$\n",
        "\n",
        "The analytical solution for the short rate is:\n",
        "\n",
        "$$\n",
        "r(t) = r(s) e^{-a(t-s)} + \\int_s^t e^{-a(t-u)} \\theta(u) du + \\sigma e^{-a(t-u)} dW(u)\n",
        "$$\n",
        "\n",
        "where : \n",
        "$$\n",
        "𝜃(t) = f(0,T) + a f(0,T) + \\frac{\\sigma^2}{2a}(1 - e^{-aT})\n",
        "$$\n",
        "\n",
        "and the Zero coupon bond price is :       \n",
        "\n",
        "$$\n",
        "p(t, T) = A(t, T) e^{B(t,T) r(t)}\n",
        "$$\n",
        "\n",
        "$$\n",
        "A(t, T) = \\exp\\left( B(t,T) f(0,t) - \\frac{B(t,T)^2}{1 - e^{-2at}} \\right)\n",
        "$$\n",
        "\n",
        "$$\n",
        "B(t, T) =\\frac{1}{a} (1 - e^{-a(T-t)})\n",
        "$$\n",
        "\n",
        "with f (0, t) being the forward rate and p(0, t) the price of a bond starting today with maturity at time t. "
      ],
      "metadata": {
        "id": "SSblelGHnA2e"
      }
    },
    {
      "cell_type": "markdown",
      "source": [
        "\n",
        " - θ is a deterministic function of time, chosen constant for semplicity in this project ( generally calibrated with the market Term Structure)\n",
        " - a and σ :  reflect the current and future volatilities of the short-term-interest rate.They can be fitted to the current term structure of interest rates and the current term structure of interest-rate volatility respectively. \n",
        " \n",
        "  **a** is the mean reverting parameter, and is defined in a way in which the drift of the process will be negative for values of r greater than θ/a and vice-versa."
      ],
      "metadata": {
        "id": "4QsXf_hPs1dY"
      }
    },
    {
      "cell_type": "markdown",
      "source": [
        "**CAPLET** "
      ],
      "metadata": {
        "id": "aaZlUc2Kt5fI"
      }
    },
    {
      "cell_type": "markdown",
      "source": [
        "The caplet is one of the cashflows of a CAP contract.\n",
        "\n",
        "**CAP CONTRACT** is a  series of call options on interest rates. It guarantees to its holder that otherwhise floating rates will not exceed a specified amount, the variable rate is thus capped.\n",
        "It is done for example by companies that borrow money with floating rate notes on floating rates, then they cap their positions entering in CAP contract , to ensure that the interest rate determining their loan will not be higher then the cap rate.\n",
        "\n",
        "on the contrary a **FLOOR CONTRACT** is a series of put options on a floating interest rates, so the cap is below.\n",
        "\n",
        "The **floating interest rate** is for example the three-months LIBOR. \n",
        "We assume in the computation of our caplet that the floating rate is the spot rate rk~r.\n"
      ],
      "metadata": {
        "id": "OSkxa1MCt7Gs"
      }
    },
    {
      "cell_type": "markdown",
      "source": [
        "**1.1**  **FINITE DIFFERENCE METHOD**"
      ],
      "metadata": {
        "id": "y6bIt_CDdYo0"
      }
    },
    {
      "cell_type": "markdown",
      "source": [
        "There are three types of finite difference methods to solve PDEs : Explicit that follows backward difference to approximate derivatives, Implicit that uses forward differences and Crank-Nicholson that combine both of them.\n",
        "I choose to follow **Crank-Nicholson method** for its main advantange of being 𝑂(ℎ2𝑡)  and 𝑂(ℎ2𝑥), with less computational effort to good approximations.\n"
      ],
      "metadata": {
        "id": "BcznyOiYdmj7"
      }
    },
    {
      "cell_type": "markdown",
      "source": [
        "we then need to define a grid with the rates as rows and time as columns.\n",
        "I decided to apply the *central* and *second central difference* to both variables, we get :      \n",
        "\n",
        "$$uij =u(ri,tj)$$\n",
        "\n",
        "$$\n",
        "\\frac{{\\partial u(r_i, t_j)}}{{\\partial t}} = \\frac{{u_{{i,j+1}} - u_{{i,j-1}}}}{{2k}}\n",
        "$$\n",
        "$$\n",
        "\\frac{{\\partial u(r_i, t_j)}}{{\\partial r}} = \\frac{{u_{{i+1,j}} - u_{{i-1,j}}}}{{2h}}\n",
        "$$\n",
        "\n",
        "$$\n",
        "\\frac{{\\partial^2 u(r_i, t_j)}}{{\\partial r^2}} = \\frac{{u_{{i+1,j}} + u_{{i-1,j}} - 2u_{{i,j}}}}{{h^2}}\n",
        "$$\n",
        "\n",
        "then we apply Crank_Nicholson to the term structure PDE of HW\n",
        "$$\n",
        "\\frac{\\partial u_{ij}}{\\partial t} = u_{i+1j} - u_{i-1j} = r_i u_{ij} - \\left\\{ \\theta(t) - a(t) \\cdot r(t) \\right\\}\\frac{{u_{i+1j}} - u_{i-1j}} {{2h}}- \\frac{1}{2}\\sigma^2 \\frac{u_{i+1j} + u_{i-1j} - 2u_{ij}}{h^2} \\cdot \"\n",
        "$$\n",
        "\n",
        "$$\n",
        "\\frac{\\partial u_{ij}}{\\partial t} = (\\frac{\\sigma^2}{2h^2} \\left\\{ \\theta(t) - a(t) \\cdot r(t) \\right\\}) +( \\frac{\\sigma^2}{h^2 +ri})u_{ij} - (\\frac{\\sigma^2}{2h}+ \\frac{\\left\\{ \\theta(t) - a(t) \\cdot r(t) \\right\\}}{{2h}}) u_{i+1j}\n",
        "$$\n",
        "then letting:\n",
        "$$\n",
        "alpha = -\\frac{\\sigma^2}{2h^2} + \\frac{\\theta(t) - a(t)r(t)}{2h}\n",
        "$$\n",
        "$$\n",
        "beta = \\frac{\\sigma^2}{h^2} + r_i\n",
        "$$\n",
        "$$\n",
        "gamma=-\\frac{\\sigma^2}{2h^2} - \\frac{\\theta(t) - a(t)r(t)}{2h}\"\n",
        "$$\n",
        ", we can construct two matrices M1, M2 as **tridiag matrices** composed of the previous factors and then letting\n",
        "$$\n",
        "\\mathbf M_1 \\mathbf f_{j-1} = \\mathbf M_2 \\mathbf f_j,\n",
        "$$\n",
        "we can finally solve :\n",
        "$$\n",
        "\\mathbf f_{j-1} = \\mathbf M_1^{-1} \\mathbf M_2 \\mathbf f_j,\n",
        "$$\n"
      ],
      "metadata": {
        "id": "uprSkWLexjeG"
      }
    },
    {
      "cell_type": "markdown",
      "source": [
        "**Terminal**  and **boundary conditions**: \n",
        "$$\n",
        "\\begin{aligned}\n",
        "& f_{i,N} = \\max\\{i\\Delta r - rk, 0\\}, \\quad i=0,1,\\dots, M \\\\\n",
        "& f_{0,j} = 0, \\quad j=0,1,\\dots,N \\\\\n",
        "& f_{M,j} = M\\Delta rmax - rk e^{-r(N-j)\\Delta t}, \\quad j=0,1,\\dots, N.\n",
        "\\end{aligned}\n",
        "$$\n",
        "\n",
        "\n"
      ],
      "metadata": {
        "id": "bKmI7bmCkqDS"
      }
    },
    {
      "cell_type": "code",
      "source": [
        "def caplet_floorlet(r0, rk, r_df, teta, a, tau, sigma, rmin, rmax, M, N, is_caplet=True):\n",
        "    dr = (rmax - rmin) / float(M)\n",
        "    dt = tau / float(N)\n",
        "\n",
        "    gridval = np.zeros((M + 1, N + 1))\n",
        "    vetr = np.linspace(0, rmax, M + 1)\n",
        "    i_val = np.arange(0, M + 1)\n",
        "    j_val = np.arange(0, N + 1)\n",
        "\n",
        "    if is_caplet:\n",
        "        gridval[:, -1] = np.maximum(vetr - rk, 0)\n",
        "        gridval[1, :] = 0\n",
        "        gridval[-1, :] = rmax - rk * np.exp(-r_df * dt * (N - j_val))\n",
        "    else:\n",
        "        gridval[:, -1] = np.maximum(rk - vetr, 0)\n",
        "        gridval[1, :] = (1 + rk) * np.exp(-r_df * dt * (N - j_val))\n",
        "        gridval[-1, :] = 0\n",
        "\n",
        "    eta = (teta - (a * rmin))\n",
        "    a = -0.5 * (sigma ** 2 * i_val ** 2 / (2 * dr ** 2)) + eta / (2 * dr)\n",
        "    b = (sigma ** 2 * i_val ** 2 / dr ** 2) + i_val\n",
        "    c = -0.5 * (sigma ** 2 * i_val ** 2 / (2 * dr ** 2)) - eta / (2 * dr)\n",
        "\n",
        "    M1 = diags([-a[2:-1], 1 - b[1:-1], -c[1:-2]], [-1, 0, 1]).toarray()\n",
        "    M2 = diags([a[2:-1], 1 + b[1:-1], c[1:-2]], [-1, 0, 1]).toarray()\n",
        "\n",
        "    for j in range(N, 0, -1):\n",
        "        gridval[1:M, j - 1] = np.linalg.inv(M1).dot(M2).dot(gridval[1:M, j])\n",
        "\n",
        "    return np.interp(r0, vetr, gridval[:, 0])"
      ],
      "metadata": {
        "id": "X_BVdcBo1vo1"
      },
      "execution_count": 13,
      "outputs": []
    },
    {
      "cell_type": "code",
      "source": [
        "caplet_price = caplet_floorlet(0.2, 0.135, 0.012, 0.07, 0.045, 5./12., 0.3, 0.1, 0.5, 100,100, is_caplet=True)\n",
        "floorlet_price = caplet_floorlet(0.2, 0.135, 0.012, 0.07, 0.045, 5./12., 0.3, 0.1, 0.5, 100,100, is_caplet=False)\n",
        "\n",
        "print(\"Caplet price:\", caplet_price)\n",
        "print(\"Floorlet price:\", floorlet_price)"
      ],
      "metadata": {
        "colab": {
          "base_uri": "https://localhost:8080/"
        },
        "id": "vZ1OkQFC1yfk",
        "outputId": "b47f1283-224e-4c0e-b79e-c3238c453de8"
      },
      "execution_count": 16,
      "outputs": [
        {
          "output_type": "stream",
          "name": "stdout",
          "text": [
            "Caplet price: 0.06500288317440651\n",
            "Floorlet price: 5.931845999303176e-15\n"
          ]
        }
      ]
    },
    {
      "cell_type": "markdown",
      "source": [
        "**graphically..**"
      ],
      "metadata": {
        "id": "e-0JOofzmFVS"
      }
    },
    {
      "cell_type": "code",
      "execution_count": 17,
      "outputs": [
        {
          "output_type": "display_data",
          "data": {
            "text/plain": [
              "<Figure size 640x480 with 1 Axes>"
            ],
            "image/png": "[encoded data removed]"
          },
          "metadata": {}
        }
      ],
      "source": [
        "\n",
        "r0 = 0.2\n",
        "rk = 0.135\n",
        "r_df = 0.012\n",
        "teta = 0.07\n",
        "a = 0.045\n",
        "tau = 5./12.\n",
        "sigma = 0.3\n",
        "rmin = 0.1\n",
        "rmax = 0.5\n",
        "M = 100\n",
        "N = 100\n",
        "\n",
        "# Call caplet function\n",
        "caplet_prices = np.zeros(M+1)\n",
        "vetr = np.linspace(0,rmax,M+1)\n",
        "for i in range(M+1):\n",
        "    caplet_prices[i] = caplet_floorlet(vetr[i], rk, r_df, teta, a, tau, sigma, rmin, rmax, M, N, is_caplet=True)\n",
        "\n",
        "# Plot caplet prices\n",
        "plt.plot(vetr, caplet_prices)\n",
        "plt.xlabel('Forward rate')\n",
        "plt.ylabel('Caplet price')\n",
        "plt.title('Caplet price vs. forward rate')\n",
        "plt.show()"
      ],
      "metadata": {
        "pycharm": {
          "name": "#%%\n"
        },
        "id": "eS0eBDCwi72l",
        "outputId": "f6033eca-e0c2-49af-baa9-89776f3dd2f9",
        "colab": {
          "base_uri": "https://localhost:8080/",
          "height": 472
        }
      }
    },
    {
      "cell_type": "markdown",
      "source": [
        "**1.2** **ANALYTICAL PROOF:CLOSED BLACK AND SCHOLES FORMULA**"
      ],
      "metadata": {
        "collapsed": false,
        "pycharm": {
          "name": "#%% md\n"
        },
        "id": "6jhr1qeWi72m"
      }
    },
    {
      "cell_type": "markdown",
      "source": [
        "In order to obtain the exact price I develope:"
      ],
      "metadata": {
        "id": "M_b-Rt3P5LEo"
      }
    },
    {
      "cell_type": "markdown",
      "source": [
        "$$\n",
        "e^{-r_{\\text{df}} \\cdot \\tau} F\\Phi\\left(d_1(K, F_i, v_i)\\right) - K\\Phi\\left(d_2(K, F_i, v_i)\\right)\"\n",
        "$$\n",
        "$$\n",
        "d_1 = \\frac{{\\log\\left(\\frac{{F_i}}{{K}}\\right) + \\frac{{v_i^2}}{{2}} \\cdot T_{i-1}}}{{\\sigma \\sqrt{T_{i-1}}}}\"\n",
        "$$\n",
        "$$\n",
        "d_2 = d_1 - \\sigma \\sqrt{T_{i-1}}\"\n",
        "$$"
      ],
      "metadata": {
        "id": "FEo42Vo55DuU"
      }
    },
    {
      "cell_type": "code",
      "execution_count": null,
      "outputs": [],
      "source": [
        "def d_plus(r0, rk, r_df, sigma, tau):\n",
        "    num = math.log(r0/rk) + (r_df + 0.5*sigma**2)*(tau)\n",
        "    den = sigma*math.sqrt(tau)\n",
        "    return num/den\n",
        "\n",
        "\n",
        "def d_minus(r0, rk, r_df, sigma, tau):\n",
        "    return d_plus(r0, rk, r_df, sigma, tau) - sigma*math.sqrt(tau)\n",
        "\n",
        "def caplet_exact (r0, rk, r_df, teta, a, tau, sigma, rmin, rmax, M, N):\n",
        "    return (( np.exp(-r_df*(tau))* (r0) * ss.norm.cdf(d_plus(r0, rk, r_df, sigma, tau)) - (rk) * ss.norm.cdf(d_minus(r0, rk, r_df, sigma, tau))))"
      ],
      "metadata": {
        "pycharm": {
          "name": "#%%\n"
        },
        "id": "ttctHs1di72n"
      }
    },
    {
      "cell_type": "code",
      "execution_count": null,
      "outputs": [
        {
          "data": {
            "text/plain": "0.06426614378712678"
          },
          "execution_count": 6,
          "metadata": {},
          "output_type": "execute_result"
        }
      ],
      "source": [
        "caplet_exact (0.2, 0.135, 0.012, 0.07, 0.045, 5./12., 0.3, 0.1, 0.5, 100,100)"
      ],
      "metadata": {
        "pycharm": {
          "name": "#%%\n"
        },
        "id": "-nHuqpHmi72o",
        "outputId": "eddc3528-4e84-44f9-994c-39761fa084ba"
      }
    },
    {
      "cell_type": "markdown",
      "source": [
        "**1.3** **BINOMIAL TREE**"
      ],
      "metadata": {
        "id": "sjUY0KXB8dmY"
      }
    },
    {
      "cell_type": "markdown",
      "source": [
        "$Caplet  = \\max\\{0, r - rk\\}$\n",
        "\n",
        "using binomial model for interest rate derivatives :\n",
        "\n",
        "$S = r = { (su ; sd) }$ \n",
        "$$u = \\sigma \\sqrt{dt}$$\n",
        "the continuously compounded risk-free rate expected in the next time step:\n",
        "$$\n",
        "e^{rt} = q u + (1-q)d.\n",
        "$$\n",
        "\n",
        "the risk-neutral probability $q$ , which is\n",
        "$$\n",
        "q = \\frac{e^{rt} - d}{u-d}.\n",
        "$$"
      ],
      "metadata": {
        "id": "0B2YUbE58gI_"
      }
    },
    {
      "cell_type": "code",
      "execution_count": 9,
      "outputs": [
        {
          "output_type": "stream",
          "name": "stdout",
          "text": [
            "Caplet price: 0.06686982818268644\n"
          ]
        }
      ],
      "source": [
        "def binomial_tree_caplet(S, K, r, T, sigma, n):\n",
        "    dt = T / n\n",
        "    u = np.exp(sigma * np.sqrt(dt))                       \n",
        "    d = 1 / u\n",
        "\n",
        "    q = (np.exp(r * dt) - d) / (u - d)\n",
        "\n",
        "    # Initialize underlying and option values at maturity\n",
        "    irunderlying = np.zeros((n + 1, n + 1))\n",
        "    option_values = np.zeros((n + 1, n + 1))\n",
        "\n",
        "    for i in range(n + 1):\n",
        "        irunderlying[i, n] = S * u ** (n - i) * d ** i\n",
        "        option_values[i, n] = max(irunderlying[i, n] - K, 0)\n",
        "\n",
        "    # expected stock price and option value for each node\n",
        "    for j in range(n - 1, -1, -1):\n",
        "        for i in range(j + 1):\n",
        "            irunderlying[i, j] = irunderlying[i, j + 1] * d\n",
        "            option_values[i, j] = (q * option_values[i, j + 1] +\n",
        "                                   (1 - q) * option_values[i + 1, j + 1]) * np.exp(-r * dt)\n",
        "\n",
        "    caplet_price = option_values[0, 0] * np.exp(-r * dt)\n",
        "    return caplet_price\n",
        "\n",
        "\n",
        "S = 0.2  # Initial interest rate\n",
        "K = 0.134  # Strike price\n",
        "r = 0.012  # Risk-free discounting_interest rate\n",
        "T = 5. / 12  # Time to maturity\n",
        "sigma = 0.3  # Volatility\n",
        "n = 100      # Number of time steps\n",
        "\n",
        "\n",
        "caplet_price = binomial_tree_caplet(S, K, r, T, sigma, n)\n",
        "print(\"Caplet price:\", caplet_price)\n"
      ],
      "metadata": {
        "pycharm": {
          "name": "#%%\n"
        },
        "id": "0Gkko5N_i72p",
        "outputId": "fb98d07b-52da-48cb-cf39-e3f856915a1a",
        "colab": {
          "base_uri": "https://localhost:8080/"
        }
      }
    },
    {
      "cell_type": "markdown",
      "source": [
        "**CAPLET AS REPLICA PORTFOLIO**"
      ],
      "metadata": {
        "id": "JkrJUruo_umG"
      }
    },
    {
      "cell_type": "markdown",
      "source": [
        "looking at the cashflow of the Caplet, we can observe that is the same as $$\\frac{1}{{1 + r}} \\max(r - rK, 0)$$ received at t(i-1) = *definition of the LIBOR rate.*\n",
        "\n",
        "The cashflow can be rewritten as $$ \\max\\left(1-\\frac{{1 + rk}}{{1 + r}}, 0\\right)$$, \n",
        "but\n",
        "$$\\frac{{1 + rk}}{{1 + r}}  \\text{  price of bond at } t_i$$\n",
        "\n",
        "$$ \\text{paying} \\ { (1+rk) }  \\text{ at }  t_i$$ ; we can conclude that the *Caplet* is equivalent to a *Put Option* expiring at ti-1 on a bond at ti.\n",
        "\n",
        "-(There are different notations to express this replica, I use: Derivatives PW one)\n",
        "\n"
      ],
      "metadata": {
        "id": "p2VoNlatfOIm"
      }
    },
    {
      "cell_type": "markdown",
      "source": [
        "the price is here estimated with Crank-Nicholson as before to approximate the derivatives, then I use the linalg.lu  function from scipy  to perform the LU decomposition of matrix A, resulting in the matrices P, L, and U. \n",
        "The lU decomposition is  a factorization of a square matrix into a lower triangular matrix (L) and an upper triangular matrix (U), with the permutation matrix P representing the row interchanges."
      ],
      "metadata": {
        "id": "ifnMUEBVmLbS"
      }
    },
    {
      "cell_type": "code",
      "execution_count": null,
      "outputs": [],
      "source": [
        "def put_bond(r0, rk, r_df, teta, a, tau, sigma, rmin, rmax, M, N):\n",
        "    dr = (rmax - rmin) / float(M)\n",
        "    dt = tau / float(N)\n",
        "\n",
        "    gridval = np.zeros((M+1,N+1))\n",
        "    vetr = np.linspace(0,rmax,M+1)\n",
        "    i_val = np.arange(0,M+1)\n",
        "    j_val = np.arange(0,N+1)\n",
        "\n",
        "\n",
        "    gridval[:,-1] = np.maximum((1 - ((1+rk)/(1+vetr))),0)\n",
        "    \n",
        "    gridval[1,:] = (1+ rk)*np.exp(-r_df*dt*(N-j_val))\n",
        "    gridval[-1,:] = 0\n",
        "\n",
        "    eta = (teta - (a*rmin))\n",
        "\n",
        "    a = .5 * (eta * dt * i_val - sigma**2 * dt * i_val**2)\n",
        "    b = 1 + sigma**2 * dt * i_val**2 + rmin * dt\n",
        "    c = -.5 * (eta * dt * i_val + sigma**2 * dt * i_val**2)\n",
        "\n",
        "    A = np.diag(a[2:M], -1) + np.diag(b[1:M]) + np.diag(c[1:M-1], 1)\n",
        "\n",
        "    P, L, U = linalg.lu(A)\n",
        "    mat = np.zeros(M-1)\n",
        "    for j in reversed(range(N)):\n",
        "        mat[0] = np.dot(-a[1], gridval[0, j])\n",
        "        x = linalg.solve(L,gridval[1:M, j+1]+mat)\n",
        "        y = linalg.solve(U, x)\n",
        "        gridval[1:M, j] = y\n",
        "\n",
        "    return np.interp(r0, vetr, gridval[:,0])"
      ],
      "metadata": {
        "pycharm": {
          "name": "#%%\n"
        },
        "id": "IXzxJrRvi72r"
      }
    },
    {
      "cell_type": "code",
      "execution_count": null,
      "outputs": [
        {
          "output_type": "execute_result",
          "data": {
            "text/plain": [
              "0.05528129450689287"
            ]
          },
          "metadata": {},
          "execution_count": 12
        }
      ],
      "source": [
        "put_bond(0.2, 0.135, 0.012, 0.07, 0.045, 5./12., 0.3, 0.1, 0.5, 100,100)"
      ],
      "metadata": {
        "pycharm": {
          "name": "#%%\n"
        },
        "id": "nr9yAn-Wi72r",
        "outputId": "cc3f484e-2c94-485b-adbe-f5d3622db2c3",
        "colab": {
          "base_uri": "https://localhost:8080/"
        }
      }
    },
    {
      "cell_type": "markdown",
      "source": [
        "**closed formula ZCP (zerocoupon-put) , under HW**"
      ],
      "metadata": {
        "id": "4DVLmk2IuuOv"
      }
    },
    {
      "cell_type": "code",
      "source": [
        "def zcp(t, T, S, X, r, sigma, a):\n",
        "    PTtT = math.exp(-r * (T - t))\n",
        "    PTtS = math.exp(-r * (S - t))\n",
        "    B_TS = 1/a * ( 1 - math.exp(-a*(S-T)))\n",
        "\n",
        "    sigmap = sigma * math.sqrt((1 - math.exp(-2 * a * (T - t))) / (2 * a))*B_TS\n",
        "    h = (1 / sigmap) * math.log(PTtS / PTtT * X) + sigmap / 2\n",
        "\n",
        "    put_price = X * PTtT * ss.norm.cdf(-h + sigmap) - PTtS * ss.norm.cdf(-h)\n",
        "    return put_price\n",
        "\n",
        "\n",
        "t = 0.0  # Current time\n",
        "T = 5 / 12 # Maturity time of the bond\n",
        "S = 1  # Time to exercise the put option\n",
        "X = 1  # Strike price\n",
        "r = 0.065  # Risk-free interest rate\n",
        "sigma = 0.3  # Volatility\n",
        "a = 0.045  # Hull-White parameter\n",
        "\n",
        "\n",
        "put_price = zcp(t, T, S, X, r, sigma, a)\n",
        "print(\"Put option price:\", put_price)"
      ],
      "metadata": {
        "colab": {
          "base_uri": "https://localhost:8080/"
        },
        "id": "8KD4nzDOpJUO",
        "outputId": "154e4cbc-fe05-4f93-cffc-9aa263770ac0"
      },
      "execution_count": 12,
      "outputs": [
        {
          "output_type": "stream",
          "name": "stdout",
          "text": [
            "Put option price: 0.06262663960012749\n"
          ]
        }
      ]
    },
    {
      "cell_type": "markdown",
      "source": [
        "**2** **ZERO COUPON BOND**"
      ],
      "metadata": {
        "id": "MRfESxbfsJTv"
      }
    },
    {
      "cell_type": "markdown",
      "source": [
        " **2.1** **CLOSED FORMULA FOR ZERO COUPON-BOND**"
      ],
      "metadata": {
        "id": "URWlhsF9nn8Z"
      }
    },
    {
      "cell_type": "markdown",
      "source": [
        "here is is the analytical price of a zero coupon bond following Hull and White model showed at the starting point of this project (#)"
      ],
      "metadata": {
        "collapsed": false,
        "pycharm": {
          "name": "#%% md\n"
        },
        "id": "G6lDuPlBi72s"
      }
    },
    {
      "cell_type": "code",
      "execution_count": 7,
      "outputs": [],
      "source": [
        "def HW(r0, kappa, theta, sigma, T, N):\n",
        "    dt = T / N\n",
        "    t_values = np.linspace(0, T, N+1)\n",
        "\n",
        "    #1) Simulation of short-term interest rate paths using the Hull-White model\n",
        "    dW = np.random.normal(size=N) * np.sqrt(dt)\n",
        "    r = np.zeros(N+1)\n",
        "    r[0] = r0\n",
        "\n",
        "    for i in range(1, N+1):\n",
        "        drift = (theta - kappa * r[i-1]) * dt\n",
        "        diffusion = sigma * np.sqrt(dt) * dW[i-1]\n",
        "        r[i] = r[i-1] + drift + diffusion\n",
        "   \n",
        "    return range(n+1), r\n"
      ],
      "metadata": {
        "pycharm": {
          "name": "#%%\n"
        },
        "id": "K7wd2AoWi72s"
      }
    },
    {
      "cell_type": "code",
      "source": [
        "x, y = HW(0.02, 0.135, 0.07,0.3,5./12,100)"
      ],
      "metadata": {
        "id": "7jxE_8q7A6CJ"
      },
      "execution_count": null,
      "outputs": []
    },
    {
      "cell_type": "code",
      "source": [
        "plt.plot(x,y)"
      ],
      "metadata": {
        "colab": {
          "base_uri": "https://localhost:8080/",
          "height": 447
        },
        "id": "evECal8pGG0X",
        "outputId": "ad79a2c2-cf07-4e62-c3ae-7343bdc91934"
      },
      "execution_count": null,
      "outputs": [
        {
          "output_type": "execute_result",
          "data": {
            "text/plain": [
              "[<matplotlib.lines.Line2D at 0x7fa442ac7970>]"
            ]
          },
          "metadata": {},
          "execution_count": 25
        },
        {
          "output_type": "display_data",
          "data": {
            "text/plain": [
              "<Figure size 640x480 with 1 Axes>"
            ],
            "image/png": "[encoded data removed]"
          },
          "metadata": {}
        }
      ]
    },
    {
      "cell_type": "code",
      "source": [
        "def price_zero_coupon_bond(r, sigma, a, t, T):\n",
        "    B = (1 - math.exp(-a * (T - t))) / a\n",
        "    term = (sigma**2 / (4 * a)) * (1 - math.exp(-2 * a * t)) * (B**2)\n",
        "    A = math.exp(B * r - term)\n",
        "    return A * math.exp(-B * r)\n",
        "\n",
        "r = 0.02  # Short-term interest rate\n",
        "sigma = 0.03  # Volatility\n",
        "a = 0.045  # Mean reversion speed\n",
        "t = 0.5  # Current time\n",
        "T = 1.0  # Maturity time\n",
        "\n",
        "bond_price = price_zero_coupon_bond(r, sigma, a, t, T)\n",
        "print(\"Zero Coupon Bond Price:\", bond_price)"
      ],
      "metadata": {
        "colab": {
          "base_uri": "https://localhost:8080/"
        },
        "id": "ADASou0dGKBe",
        "outputId": "cac07df7-4105-46d7-e1ee-4198f3154188"
      },
      "execution_count": null,
      "outputs": [
        {
          "output_type": "stream",
          "name": "stdout",
          "text": [
            "Zero Coupon Bond Price: 0.9999462197816296\n"
          ]
        }
      ]
    },
    {
      "cell_type": "code",
      "source": [
        "T_values = np.arange(0.0, 25.5, 0.5)\n",
        "bond_prices = [price_zero_coupon_bond(r, sigma, a, t, T) for T in T_values]\n",
        "\n",
        "plt.plot(T_values, bond_prices)\n",
        "plt.xlabel('Maturity Time (T)')\n",
        "plt.ylabel('Zero Coupon Bond Price')\n",
        "plt.title('Zero Coupon Bond Price vs Maturity Time')\n",
        "plt.grid(True)\n",
        "plt.show()"
      ],
      "metadata": {
        "colab": {
          "base_uri": "https://localhost:8080/",
          "height": 472
        },
        "id": "ro8zKChBGNcm",
        "outputId": "a0a45cc9-59c8-4eb4-cc27-eec36453573d"
      },
      "execution_count": null,
      "outputs": [
        {
          "output_type": "display_data",
          "data": {
            "text/plain": [
              "<Figure size 640x480 with 1 Axes>"
            ],
            "image/png": "[encoded data removed]"
          },
          "metadata": {}
        }
      ]
    },
    {
      "cell_type": "markdown",
      "source": [
        "**2.2** **FINITE DIFFERENCE METHOD FOR ZERO COUPON BOND**"
      ],
      "metadata": {
        "collapsed": false,
        "pycharm": {
          "name": "#%% md\n"
        },
        "id": "tyNCom2Mi72s"
      }
    },
    {
      "cell_type": "markdown",
      "source": [
        "the procedure for solving numerically is similar to those of the Caplet.\n",
        "The PDE is the HW one, solve with CN method. \n",
        "\n",
        "Now  *terminal condition*: \n",
        "$$u(r, T) = 1$$\n",
        "\n",
        "Boundary conditions: \n",
        "$$\\frac{{\\partial u(rmin, t)}}{{\\partial r}} = 0 \n",
        "$$\n",
        "\n",
        "$$\\frac{{\\partial u(rmax,t)}}{{\\partial r}} = 0 \n",
        "$$\n"
      ],
      "metadata": {
        "id": "-o9QJjShsWdh"
      }
    },
    {
      "cell_type": "markdown",
      "source": [
        "**((((**the reference methodology was the one of the linked paper, I just tried to implement a different method using solve.banded****))))****"
      ],
      "metadata": {
        "id": "FbNRVw_nAwUR"
      }
    },
    {
      "cell_type": "code",
      "execution_count": 5,
      "outputs": [
        {
          "output_type": "stream",
          "name": "stdout",
          "text": [
            "Zero Coupon Bond Price: 1.0085501376532662\n"
          ]
        }
      ],
      "source": [
        "\n",
        "def price_zero_coupon_bond(r0, rmin, rmax, dr, T):\n",
        "    M = int((rmax - rmin) / dr)\n",
        "    dt = T\n",
        "    N = int(T / dt)\n",
        "\n",
        "    gridval = np.zeros((M + 1, N + 1))\n",
        "    vetr = np.linspace(rmin, rmax, M + 1)\n",
        "    i_val = np.arange(0, M + 1)\n",
        "    j_val = np.arange(0, N + 1)\n",
        "    \n",
        "    #terminal condition\n",
        "    gridval[:, -1] = 1  # Final condition\n",
        "\n",
        "    sigma = 0.3  \n",
        "    \n",
        "    a = 0.5 * dt * (sigma**2 * vetr - r0) * vetr\n",
        "    b = 1 - dt * (sigma**2 * vetr**2 + r0)\n",
        "    c = 0.5 * dt * (sigma**2 * vetr + r0) * vetr\n",
        "    \n",
        "    #boundary conditions\n",
        "    A = np.zeros((3, M + 1))\n",
        "    A[0, 1:] = -a[1:]\n",
        "    A[1, :] = b\n",
        "    A[2, :-1] = -c[:-1]\n",
        "\n",
        "    for j in reversed(range(N)):\n",
        "        gridval[:, j] = solve_banded((1, 1), A, gridval[:, j + 1])\n",
        "\n",
        "    return np.interp(r0, vetr, gridval[:, 0])\n",
        "\n",
        "# Example usage:\n",
        "rmin = 0.1\n",
        "rmax = 0.5\n",
        "dr = 0.004\n",
        "T = 5./12\n",
        "r0 = 0.02\n",
        "\n",
        "bond_price = price_zero_coupon_bond(r0, rmin, rmax, dr, T)\n",
        "print(\"Zero Coupon Bond Price:\", bond_price)"
      ],
      "metadata": {
        "pycharm": {
          "name": "#%%\n"
        },
        "id": "rKhHrHt-i72t",
        "outputId": "099dcd32-2250-47d7-b542-4f0f0dfcb695",
        "colab": {
          "base_uri": "https://localhost:8080/"
        }
      }
    },
    {
      "cell_type": "markdown",
      "source": [
        "The method here chosen is **solve_banded**, which solve a system of linear equations using banded matrix representation. \n",
        "Here a brief explanation :\n",
        " - for j in reversed(range(N)): iterates over the indices of the columns in the grid in reverse order, starting from N-1 and going down to 0. The variable j represents the current column index.\n",
        "\n",
        "- solve_banded((1, 1), A, gridval[:, j + 1]): The function solve_banded is used to solve a banded linear system of equations. It takes three arguments: the band widths, the banded matrix A, and the right-hand side vector gridval[:, j + 1];     \n",
        "- A represents the banded matrix of the linear system ; (1, 1) indicates that the matrix A has one sub-diagonal and one super-diagonal.     \n",
        "- gridval[:, j + 1] is the right-hand side vector for the current column j + 1.\n",
        "- gridval[:, j] = solve_banded((1, 1), A, gridval[:, j + 1]): The result of the solve_banded function is assigned to the column j of the gridval matrix. This updates the values in the jth column of gridval with the solution obtained from solving the linear system.\n",
        "\n",
        "By iterating over the columns in reverse order and solving the linear system using the banded matrix representation, this code efficiently calculates the price for each column of the grid based on the values in the next column.\n"
      ],
      "metadata": {
        "id": "K4mOKouIvcmr"
      }
    }
  ],
  "metadata": {
    "kernelspec": {
      "display_name": "Python 3",
      "language": "python",
      "name": "python3"
    },
    "language_info": {
      "codemirror_mode": {
        "name": "ipython",
        "version": 2
      },
      "file_extension": ".py",
      "mimetype": "text/x-python",
      "name": "python",
      "nbconvert_exporter": "python",
      "pygments_lexer": "ipython2",
      "version": "2.7.6"
    },
    "colab": {
      "provenance": []
    }
  },
  "nbformat": 4,
  "nbformat_minor": 0
}